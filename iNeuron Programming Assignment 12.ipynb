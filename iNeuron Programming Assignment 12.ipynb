{
 "cells": [
  {
   "cell_type": "markdown",
   "id": "af949d8e",
   "metadata": {},
   "source": [
    "1.Write a Python program to Extract Unique values dictionary values?"
   ]
  },
  {
   "cell_type": "code",
   "execution_count": 1,
   "id": "4833d983",
   "metadata": {},
   "outputs": [
    {
     "name": "stdout",
     "output_type": "stream",
     "text": [
      "['Krish Sir', 'Naveen sir', 'Sudhanshu sir']\n"
     ]
    }
   ],
   "source": [
    "dicti={'a': 'Sudhanshu sir', 'b': 'Krish Sir', 'c':'Naveen sir', 'd':'Sudhanshu sir'}\n",
    "list1=list(dicti.values())\n",
    "list2=[]\n",
    "count=0\n",
    "for i in list1:\n",
    "    if list1.count(i)==1:\n",
    "            list2.append(i)\n",
    "for i in list1:\n",
    "    if list1.count(i)>1 and i not in list2:\n",
    "            list2.append(i)\n",
    "print(list2)\n",
    "            "
   ]
  },
  {
   "cell_type": "markdown",
   "id": "a4d0d075",
   "metadata": {},
   "source": [
    "2.Write a Python program to find the sum of all items in a dictionary?"
   ]
  },
  {
   "cell_type": "code",
   "execution_count": 2,
   "id": "072f40dd",
   "metadata": {},
   "outputs": [
    {
     "name": "stdout",
     "output_type": "stream",
     "text": [
      "405\n"
     ]
    }
   ],
   "source": [
    "dicti = {5:10,'Mango':20,100:30,'Guava':40,'PineApple':200}\n",
    "list1=list(dicti.keys())\n",
    "list2=list(dicti.values())\n",
    "\n",
    "sum=0\n",
    "sum1=0\n",
    "\n",
    "for i in list1:\n",
    "    if type(i)==int:\n",
    "        sum=sum+i\n",
    "for j in list2:\n",
    "    if type(j)==int:\n",
    "        sum1=sum1+j\n",
    "print(sum+sum1)"
   ]
  },
  {
   "cell_type": "markdown",
   "id": "fe728a2b",
   "metadata": {},
   "source": [
    "3.Write a Python program to Merging two Dictionaries?"
   ]
  },
  {
   "cell_type": "code",
   "execution_count": 3,
   "id": "3272901d",
   "metadata": {},
   "outputs": [
    {
     "data": {
      "text/plain": [
       "{1: 'a', 2: 'c', 4: 'd'}"
      ]
     },
     "execution_count": 3,
     "metadata": {},
     "output_type": "execute_result"
    }
   ],
   "source": [
    "dict_1 = {1: 'a', 2: 'b'}\n",
    "dict_2 = {2: 'c', 4: 'd'}\n",
    "\n",
    "dict_3=dict_1.copy()\n",
    "dict_3.update(dict_2)\n",
    "(dict_3)"
   ]
  },
  {
   "cell_type": "markdown",
   "id": "aab95506",
   "metadata": {},
   "source": [
    "4.Write a Python program to convert key-values list to flat dictionary?"
   ]
  },
  {
   "cell_type": "code",
   "execution_count": 4,
   "id": "8fd9ee3c",
   "metadata": {},
   "outputs": [
    {
     "data": {
      "text/plain": [
       "{1: 'Jan', 2: 'Feb', 3: 'Mar', 4: 'Apr', 5: 'May', 6: 'Jun'}"
      ]
     },
     "execution_count": 4,
     "metadata": {},
     "output_type": "execute_result"
    }
   ],
   "source": [
    "dicti=[(1,'Jan'),(2,'Feb'), (3,'Mar'), (4,'Apr'), (5,'May'), (6,'Jun')]\n",
    "\n",
    "dict1=dict(dicti)\n",
    "dict1"
   ]
  },
  {
   "cell_type": "markdown",
   "id": "9273253b",
   "metadata": {},
   "source": [
    "5.Write a Python program to insertion at the beginning in OrderedDict?"
   ]
  },
  {
   "cell_type": "code",
   "execution_count": 5,
   "id": "c8c467bb",
   "metadata": {},
   "outputs": [
    {
     "name": "stdout",
     "output_type": "stream",
     "text": [
      "Resultant Dictionary :\n",
      "OrderedDict([('D', '400'), ('A', '100'), ('B', '200'), ('C', '300')])\n"
     ]
    }
   ],
   "source": [
    "from collections import OrderedDict\n",
    "dic1 = OrderedDict([('A', '100'), ('B', '200'), ('C', '300')])\n",
    "insrt = OrderedDict([(\"D\", '400')])\n",
    "  \n",
    "final = OrderedDict(list(insrt.items()) + list(dic1.items()))\n",
    "print (\"Resultant Dictionary :\")\n",
    "print(final)"
   ]
  },
  {
   "cell_type": "markdown",
   "id": "920507fa",
   "metadata": {},
   "source": [
    "6.Write a Python program to check order of character in string using OrderedDict()?"
   ]
  },
  {
   "cell_type": "code",
   "execution_count": 6,
   "id": "b6f721a1",
   "metadata": {},
   "outputs": [
    {
     "name": "stdout",
     "output_type": "stream",
     "text": [
      "{'a': 1000, 'f': 200, 'd': 300, 'c': 400, 'b': 500, 'e': 600}\n",
      "OrderedDict([('a', 1000), ('b', 500), ('c', 400), ('d', 300), ('e', 600), ('f', 200)])\n"
     ]
    }
   ],
   "source": [
    "from collections import OrderedDict\n",
    "\n",
    "initial_list = {'a': 1000, 'f': 200, 'd': 300, 'c': 400, 'b': 500, 'e': 600}\n",
    "print(initial_list)\n",
    "\n",
    "final_list = OrderedDict(dict(sorted(initial_list.items())))\n",
    "print(final_list)"
   ]
  },
  {
   "cell_type": "markdown",
   "id": "7e9d579c",
   "metadata": {},
   "source": [
    "7.Write a Python program to sort Python Dictionaries by Key or Value?"
   ]
  },
  {
   "cell_type": "code",
   "execution_count": 7,
   "id": "e85d17cd",
   "metadata": {},
   "outputs": [
    {
     "name": "stdout",
     "output_type": "stream",
     "text": [
      "{'Apple': 10, 'Mango': 20, 'Banana': 30, 'Guava': 40, 'PineApple': 200}\n"
     ]
    }
   ],
   "source": [
    "dicti = {'Apple':10,'Mango':20,'Banana':30,'Guava':40,'PineApple':200}\n",
    "\n",
    "sorted_dict = {key: value for key, value in sorted(dicti.items(), key=lambda item: item[1])}\n",
    "\n",
    "print(sorted_dict)"
   ]
  },
  {
   "cell_type": "code",
   "execution_count": null,
   "id": "5a38efc0",
   "metadata": {},
   "outputs": [],
   "source": []
  }
 ],
 "metadata": {
  "kernelspec": {
   "display_name": "Python 3 (ipykernel)",
   "language": "python",
   "name": "python3"
  },
  "language_info": {
   "codemirror_mode": {
    "name": "ipython",
    "version": 3
   },
   "file_extension": ".py",
   "mimetype": "text/x-python",
   "name": "python",
   "nbconvert_exporter": "python",
   "pygments_lexer": "ipython3",
   "version": "3.9.7"
  }
 },
 "nbformat": 4,
 "nbformat_minor": 5
}
