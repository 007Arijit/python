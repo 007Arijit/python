{
 "cells": [
  {
   "cell_type": "markdown",
   "id": "c68d083f",
   "metadata": {},
   "source": [
    "<b>1.Create a function that takes a number as an argument and returns True or False depending on whether the number is symmetrical or not. A number is symmetrical when it is the same as its reverse.\n",
    "\n",
    "Examples:\n",
    "    \n",
    "is_symmetrical(7227) ➞ True\n",
    "\n",
    "is_symmetrical(12567) ➞ False\n",
    "\n",
    "is_symmetrical(44444444) ➞ True\n",
    "\n",
    "is_symmetrical(9939) ➞ False\n",
    "\n",
    "is_symmetrical(1112111) ➞ True\n"
   ]
  },
  {
   "cell_type": "code",
   "execution_count": 5,
   "id": "72a3bed6",
   "metadata": {},
   "outputs": [
    {
     "name": "stdout",
     "output_type": "stream",
     "text": [
      "True\n",
      "False\n",
      "True\n",
      "False\n",
      "True\n"
     ]
    }
   ],
   "source": [
    "def is_symmetrical(number):\n",
    "    if str(number)==str(number)[::-1]:\n",
    "        print(True)\n",
    "    else:\n",
    "        print(False)\n",
    "is_symmetrical(7227)\n",
    "\n",
    "is_symmetrical(12567) \n",
    "\n",
    "is_symmetrical(44444444) \n",
    "\n",
    "is_symmetrical(9939) \n",
    "\n",
    "is_symmetrical(1112111) "
   ]
  },
  {
   "cell_type": "markdown",
   "id": "43bd8cf8",
   "metadata": {},
   "source": [
    "<b>2.Given a string of numbers separated by a comma and space, return the product of the numbers.\n",
    "\n",
    "Examples:\n",
    "    \n",
    "multiply_nums(\"2, 3\") ➞ 6\n",
    "\n",
    "multiply_nums(\"1, 2, 3, 4\") ➞ 24\n",
    "\n",
    "multiply_nums(\"54, 75, 453, 0\") ➞ 0\n",
    "\n",
    "multiply_nums(\"10, -2\") ➞ -20"
   ]
  },
  {
   "cell_type": "code",
   "execution_count": 11,
   "id": "9b638e23",
   "metadata": {},
   "outputs": [
    {
     "name": "stdout",
     "output_type": "stream",
     "text": [
      "6\n",
      "24\n",
      "0\n",
      "-20\n"
     ]
    }
   ],
   "source": [
    "def multiply_nums(string):\n",
    "    m=1\n",
    "    for i in string.split(','):\n",
    "        m=m*int(i)\n",
    "    print(m)\n",
    "    \n",
    "multiply_nums(\"2, 3\")\n",
    "\n",
    "multiply_nums(\"1, 2, 3, 4\") \n",
    "\n",
    "multiply_nums(\"54, 75, 453, 0\") \n",
    "\n",
    "multiply_nums(\"10, -2\") "
   ]
  },
  {
   "cell_type": "markdown",
   "id": "6923cf88",
   "metadata": {},
   "source": [
    "<b>3.Create a function that squares every digit of a number.\n",
    "\n",
    "Examples:\n",
    "    \n",
    "square_digits(9119) ➞ 811181\n",
    "\n",
    "square_digits(2483) ➞ 416649\n",
    "\n",
    "square_digits(3212) ➞ 9414\n",
    "\n",
    "Notes:\n",
    "The function receives an integer and must return an integer."
   ]
  },
  {
   "cell_type": "code",
   "execution_count": 22,
   "id": "9d4c5ed4",
   "metadata": {},
   "outputs": [
    {
     "name": "stdout",
     "output_type": "stream",
     "text": [
      "811181\n",
      "\n",
      "416649\n",
      "\n",
      "9414"
     ]
    }
   ],
   "source": [
    "def square_digits(number):\n",
    "    stri=str(number)\n",
    "    for i in stri:\n",
    "        print(int(i)**2, end='')\n",
    "        \n",
    "square_digits(9119)\n",
    "print('\\n')\n",
    "square_digits(2483)\n",
    "print('\\n')\n",
    "square_digits(3212)\n",
    "        "
   ]
  },
  {
   "cell_type": "markdown",
   "id": "4d793e5b",
   "metadata": {},
   "source": [
    "<b>4.Create a function that sorts a list and removes all duplicate items from it.\n",
    "\n",
    "Examples:\n",
    "    \n",
    "setify([1, 3, 3, 5, 5]) ➞ [1, 3, 5]\n",
    "\n",
    "setify([4, 4, 4, 4]) ➞ [4]\n",
    "\n",
    "setify([5, 7, 8, 9, 10, 15]) ➞ [5, 7, 8, 9, 10, 15]\n",
    "\n",
    "setify([3, 3, 3, 2, 1]) ➞ [1, 2, 3]"
   ]
  },
  {
   "cell_type": "code",
   "execution_count": 28,
   "id": "c8def738",
   "metadata": {},
   "outputs": [
    {
     "name": "stdout",
     "output_type": "stream",
     "text": [
      "[5, 7, 8, 9, 10, 15]\n",
      "[4]\n",
      "[5, 7, 8, 9, 10, 15]\n",
      "[1, 2, 3]\n"
     ]
    }
   ],
   "source": [
    "def setify(List):\n",
    "    for i in range(len(List)):\n",
    "        for j in range(len(List)):\n",
    "            if List[i]<List[j]:\n",
    "                List[i],List[j]=List[j],List[i]\n",
    "    print(list(set(List)))\n",
    "    \n",
    "setify([5, 7, 8, 9, 10, 15])\n",
    "\n",
    "setify([4, 4, 4, 4])\n",
    "\n",
    "setify([5, 7, 8, 9, 10, 15]) \n",
    "\n",
    "setify([3, 3, 3, 2, 1])"
   ]
  },
  {
   "cell_type": "markdown",
   "id": "24fbd349",
   "metadata": {},
   "source": [
    "<b>5.Create a function that returns the mean of all digits.\n",
    "\n",
    "Examples:\n",
    "    \n",
    "mean(42) ➞ 3\n",
    "\n",
    "mean(12345) ➞ 3\n",
    "\n",
    "mean(666) ➞ 6\n",
    "\n",
    "Notes:\n",
    "    \n",
    "1.The mean of all digits is the sum of digits / how many digits there are (e.g. mean of digits in 512 is (5+1+2)/3(number of digits) = 8/3=2).\n",
    "\n",
    "2.The mean will always be an integer."
   ]
  },
  {
   "cell_type": "code",
   "execution_count": 48,
   "id": "b877d3b9",
   "metadata": {},
   "outputs": [
    {
     "name": "stdout",
     "output_type": "stream",
     "text": [
      "3\n",
      "3\n",
      "6\n"
     ]
    }
   ],
   "source": [
    "def mean(number):\n",
    "    numbers=list(str(number))\n",
    "    n=0\n",
    "    for i in numbers:\n",
    "        n=n+int(i)\n",
    "    print(int(int(n)/len(str(number))))\n",
    "        \n",
    "mean(42)\n",
    "\n",
    "mean(12345)\n",
    "\n",
    "mean(666)"
   ]
  },
  {
   "cell_type": "code",
   "execution_count": null,
   "id": "fd2e5d56",
   "metadata": {},
   "outputs": [],
   "source": []
  }
 ],
 "metadata": {
  "kernelspec": {
   "display_name": "Python 3 (ipykernel)",
   "language": "python",
   "name": "python3"
  },
  "language_info": {
   "codemirror_mode": {
    "name": "ipython",
    "version": 3
   },
   "file_extension": ".py",
   "mimetype": "text/x-python",
   "name": "python",
   "nbconvert_exporter": "python",
   "pygments_lexer": "ipython3",
   "version": "3.9.7"
  }
 },
 "nbformat": 4,
 "nbformat_minor": 5
}
