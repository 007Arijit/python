{
 "cells": [
  {
   "cell_type": "markdown",
   "id": "1785403a",
   "metadata": {},
   "source": [
    "1.Write a Python Program to find sum of elements in a list ?"
   ]
  },
  {
   "cell_type": "code",
   "execution_count": 1,
   "id": "a4da9e4b",
   "metadata": {},
   "outputs": [
    {
     "name": "stdout",
     "output_type": "stream",
     "text": [
      "269\n"
     ]
    }
   ],
   "source": [
    "list=[4,6,3,98,34,56,65,3]\n",
    "\n",
    "def sumoflist():\n",
    "    print(sum(list))\n",
    "sumoflist()"
   ]
  },
  {
   "cell_type": "markdown",
   "id": "6dd0388b",
   "metadata": {},
   "source": [
    "2.Write a Python Program to multiply all numbers in the list ?"
   ]
  },
  {
   "cell_type": "code",
   "execution_count": 2,
   "id": "4d9a7d4f",
   "metadata": {},
   "outputs": [
    {
     "data": {
      "text/plain": [
       "600"
      ]
     },
     "execution_count": 2,
     "metadata": {},
     "output_type": "execute_result"
    }
   ],
   "source": [
    "list=[4,3,10,5]\n",
    "def multiplylist():\n",
    "    ml=1\n",
    "    for i in list:\n",
    "        ml=ml*i\n",
    "    return ml\n",
    "multiplylist()"
   ]
  },
  {
   "cell_type": "markdown",
   "id": "273ba378",
   "metadata": {},
   "source": [
    "3.Write a Python Program to find smallest number in the list ?"
   ]
  },
  {
   "cell_type": "code",
   "execution_count": 3,
   "id": "366dc581",
   "metadata": {},
   "outputs": [
    {
     "name": "stdout",
     "output_type": "stream",
     "text": [
      "98\n"
     ]
    }
   ],
   "source": [
    "list=[4,6,3,98,34,56,65,3]\n",
    "def smallest_in_list():\n",
    "    n=list[0]\n",
    "    for i in list:\n",
    "        if n<i:\n",
    "            n=i\n",
    "    print(n)\n",
    "smallest_in_list()"
   ]
  },
  {
   "cell_type": "markdown",
   "id": "16417dfa",
   "metadata": {},
   "source": [
    "4.Write a Python Program to find largest number in the list ?"
   ]
  },
  {
   "cell_type": "code",
   "execution_count": 4,
   "id": "82741c29",
   "metadata": {},
   "outputs": [
    {
     "name": "stdout",
     "output_type": "stream",
     "text": [
      "3\n"
     ]
    }
   ],
   "source": [
    "list=[4,6,3,98,34,56,65,3]\n",
    "def biggest_in_list():\n",
    "    n=list[0]\n",
    "    for i in list:\n",
    "        if n>i:\n",
    "            n=i\n",
    "    print(n)\n",
    "biggest_in_list()"
   ]
  },
  {
   "cell_type": "markdown",
   "id": "70e549b2",
   "metadata": {},
   "source": [
    "5.Write a Python Program to find second largest number in the list ?"
   ]
  },
  {
   "cell_type": "code",
   "execution_count": 5,
   "id": "011d1b56",
   "metadata": {},
   "outputs": [
    {
     "name": "stdout",
     "output_type": "stream",
     "text": [
      "65\n"
     ]
    }
   ],
   "source": [
    "list=[4,6,3,98,34,56,65,3]\n",
    "def biggest_in_list():\n",
    "    for i in range(len(list)):\n",
    "        for j in range(len(list)):\n",
    "            if list[i] < list[j]:\n",
    "                list[i],list[j]=list[j], list[i]\n",
    "    print (list[-2])\n",
    "biggest_in_list()"
   ]
  },
  {
   "cell_type": "markdown",
   "id": "03c18028",
   "metadata": {},
   "source": [
    "6.Write a Python Program to find N largest elements in the list ?"
   ]
  },
  {
   "cell_type": "code",
   "execution_count": 6,
   "id": "2c2022dd",
   "metadata": {},
   "outputs": [
    {
     "name": "stdout",
     "output_type": "stream",
     "text": [
      "[98, 65, 56, 34, 6, 4, 3, 3]\n"
     ]
    }
   ],
   "source": [
    "list=[4,6,3,98,34,56,65,3]\n",
    "def nlargest_in_list():\n",
    "    for i in range(len(list)):\n",
    "        for j in range(len(list)):\n",
    "            if list[i] > list[j]:\n",
    "                list[i],list[j]=list[j], list[i]\n",
    "    print (list)\n",
    "nlargest_in_list()"
   ]
  },
  {
   "cell_type": "markdown",
   "id": "07463c1b",
   "metadata": {},
   "source": [
    "7.Write a Python Program to find even numbers in the list ?"
   ]
  },
  {
   "cell_type": "code",
   "execution_count": 7,
   "id": "f39912ed",
   "metadata": {},
   "outputs": [
    {
     "name": "stdout",
     "output_type": "stream",
     "text": [
      "4 6 98 34 56 "
     ]
    }
   ],
   "source": [
    "list=[4,6,3,98,34,56,65,3]\n",
    "def even_in_list():\n",
    "    for i in list:\n",
    "        if i%2==0:\n",
    "            print(i, end=' ')\n",
    "even_in_list()     "
   ]
  },
  {
   "cell_type": "markdown",
   "id": "4c27d09e",
   "metadata": {},
   "source": [
    "8.Write a Python Program to find odd numbers in the list ?"
   ]
  },
  {
   "cell_type": "code",
   "execution_count": 8,
   "id": "ff0a244a",
   "metadata": {},
   "outputs": [
    {
     "name": "stdout",
     "output_type": "stream",
     "text": [
      "3 65 3 "
     ]
    }
   ],
   "source": [
    "list=[4,6,3,98,34,56,65,3]\n",
    "def odd_in_list():\n",
    "    for i in list:\n",
    "        if i%2!=0:\n",
    "            print(i, end=' ')\n",
    "odd_in_list() "
   ]
  },
  {
   "cell_type": "markdown",
   "id": "60f33074",
   "metadata": {},
   "source": [
    "9.Write a Python Program to remove empty list from list ?"
   ]
  },
  {
   "cell_type": "code",
   "execution_count": 9,
   "id": "ead2d864",
   "metadata": {},
   "outputs": [
    {
     "name": "stdout",
     "output_type": "stream",
     "text": [
      "[4, 6, 3, 98, 34, 56, 65, 3]\n"
     ]
    }
   ],
   "source": [
    "list=[4,6,3,[],98,[],34,56,[],65,3,[]]\n",
    "\n",
    "def remove_empty_list():\n",
    "    for i in list:\n",
    "        if i==[]:\n",
    "            list.remove(i)\n",
    "    print(list)\n",
    "remove_empty_list()"
   ]
  },
  {
   "cell_type": "markdown",
   "id": "2429f2ce",
   "metadata": {},
   "source": [
    "10.Write a Python Program to Cloning or Copying a list ?"
   ]
  },
  {
   "cell_type": "code",
   "execution_count": 10,
   "id": "30442a31",
   "metadata": {},
   "outputs": [
    {
     "name": "stdout",
     "output_type": "stream",
     "text": [
      "The list is:\n",
      " [1, 2, 3, 4, 5] 2628801731776\n",
      "The copied list is:\n",
      " [1, 2, 3, 4, 5] 2628802676032\n"
     ]
    }
   ],
   "source": [
    "import copy\n",
    "\n",
    "list=[1,2,3,4,5]\n",
    "def cloneList():\n",
    "    print('The list is:\\n',list, id(list))\n",
    "    cloned_list=list.copy()\n",
    "    print('The copied list is:\\n', cloned_list, id(cloned_list))\n",
    "\n",
    "cloneList()"
   ]
  },
  {
   "cell_type": "markdown",
   "id": "561b97e1",
   "metadata": {},
   "source": [
    "11.Write a Python Program to count occurences of an element in a list ?"
   ]
  },
  {
   "cell_type": "code",
   "execution_count": 11,
   "id": "fb241ef2",
   "metadata": {},
   "outputs": [
    {
     "data": {
      "text/plain": [
       "{'I', 'T'}"
      ]
     },
     "execution_count": 11,
     "metadata": {},
     "output_type": "execute_result"
    }
   ],
   "source": [
    "list=['A', 'R', 'I','J','I','T','T']\n",
    "\n",
    "def reccuring():\n",
    "    count=0\n",
    "    result = set()\n",
    "    for i in list:\n",
    "        if list.count(i)>1:\n",
    "            result.add(i)\n",
    "    return result\n",
    "reccuring()"
   ]
  },
  {
   "cell_type": "code",
   "execution_count": null,
   "id": "378252da",
   "metadata": {},
   "outputs": [],
   "source": []
  }
 ],
 "metadata": {
  "kernelspec": {
   "display_name": "Python 3 (ipykernel)",
   "language": "python",
   "name": "python3"
  },
  "language_info": {
   "codemirror_mode": {
    "name": "ipython",
    "version": 3
   },
   "file_extension": ".py",
   "mimetype": "text/x-python",
   "name": "python",
   "nbconvert_exporter": "python",
   "pygments_lexer": "ipython3",
   "version": "3.9.7"
  }
 },
 "nbformat": 4,
 "nbformat_minor": 5
}
