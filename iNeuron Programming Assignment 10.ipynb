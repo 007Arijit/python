{
 "cells": [
  {
   "cell_type": "markdown",
   "id": "288858c0",
   "metadata": {},
   "source": [
    "1.Write a Python Program to find sum of elements in a list ?"
   ]
  },
  {
   "cell_type": "code",
   "execution_count": 1,
   "id": "03fe3d2d",
   "metadata": {},
   "outputs": [
    {
     "name": "stdout",
     "output_type": "stream",
     "text": [
      "269\n"
     ]
    }
   ],
   "source": [
    "list=[4,6,3,98,34,56,65,3]\n",
    "\n",
    "def sumoflist():\n",
    "    print(sum(list))\n",
    "sumoflist()"
   ]
  },
  {
   "cell_type": "markdown",
   "id": "96bd54f1",
   "metadata": {},
   "source": [
    "2.Write a Python Program to multiply all numbers in the list ?"
   ]
  },
  {
   "cell_type": "code",
   "execution_count": 2,
   "id": "d353d735",
   "metadata": {},
   "outputs": [
    {
     "data": {
      "text/plain": [
       "600"
      ]
     },
     "execution_count": 2,
     "metadata": {},
     "output_type": "execute_result"
    }
   ],
   "source": [
    "list=[4,3,10,5]\n",
    "def multiplylist():\n",
    "    ml=1\n",
    "    for i in list:\n",
    "        ml=ml*i\n",
    "    return ml\n",
    "multiplylist()"
   ]
  },
  {
   "cell_type": "markdown",
   "id": "03aea026",
   "metadata": {},
   "source": [
    "3.Write a Python Program to find smallest number in the list ?"
   ]
  },
  {
   "cell_type": "code",
   "execution_count": 3,
   "id": "723fe123",
   "metadata": {},
   "outputs": [
    {
     "name": "stdout",
     "output_type": "stream",
     "text": [
      "98\n"
     ]
    }
   ],
   "source": [
    "list=[4,6,3,98,34,56,65,3]\n",
    "def smallest_in_list():\n",
    "    n=list[0]\n",
    "    for i in list:\n",
    "        if n<i:\n",
    "            n=i\n",
    "    print(n)\n",
    "smallest_in_list()"
   ]
  },
  {
   "cell_type": "markdown",
   "id": "cab93310",
   "metadata": {},
   "source": [
    "4.Write a Python Program to find largest number in the list ?"
   ]
  },
  {
   "cell_type": "code",
   "execution_count": 4,
   "id": "e759c73c",
   "metadata": {},
   "outputs": [
    {
     "name": "stdout",
     "output_type": "stream",
     "text": [
      "3\n"
     ]
    }
   ],
   "source": [
    "list=[4,6,3,98,34,56,65,3]\n",
    "def biggest_in_list():\n",
    "    n=list[0]\n",
    "    for i in list:\n",
    "        if n>i:\n",
    "            n=i\n",
    "    print(n)\n",
    "biggest_in_list()"
   ]
  },
  {
   "cell_type": "markdown",
   "id": "681539e3",
   "metadata": {},
   "source": [
    "5.Write a Python Program to find second largest number in the list ?"
   ]
  },
  {
   "cell_type": "code",
   "execution_count": 5,
   "id": "526fc28f",
   "metadata": {},
   "outputs": [
    {
     "name": "stdout",
     "output_type": "stream",
     "text": [
      "65\n"
     ]
    }
   ],
   "source": [
    "list=[4,6,3,98,34,56,65,3]\n",
    "def biggest_in_list():\n",
    "    for i in range(len(list)):\n",
    "        for j in range(len(list)):\n",
    "            if list[i] < list[j]:\n",
    "                list[i],list[j]=list[j], list[i]\n",
    "    print (list[-2])\n",
    "biggest_in_list()"
   ]
  },
  {
   "cell_type": "markdown",
   "id": "af204234",
   "metadata": {},
   "source": [
    "6.Write a Python Program to find N largest elements in the list ?"
   ]
  },
  {
   "cell_type": "code",
   "execution_count": 6,
   "id": "6370afba",
   "metadata": {},
   "outputs": [
    {
     "name": "stdout",
     "output_type": "stream",
     "text": [
      "[98, 65, 56, 34, 6, 4, 3, 3]\n"
     ]
    }
   ],
   "source": [
    "list=[4,6,3,98,34,56,65,3]\n",
    "def nlargest_in_list():\n",
    "    for i in range(len(list)):\n",
    "        for j in range(len(list)):\n",
    "            if list[i] > list[j]:\n",
    "                list[i],list[j]=list[j], list[i]\n",
    "    print (list)\n",
    "nlargest_in_list()"
   ]
  },
  {
   "cell_type": "markdown",
   "id": "fd5ea2e3",
   "metadata": {},
   "source": [
    "7.Write a Python Program to find even numbers in the list ?"
   ]
  },
  {
   "cell_type": "code",
   "execution_count": 7,
   "id": "77893af3",
   "metadata": {},
   "outputs": [
    {
     "name": "stdout",
     "output_type": "stream",
     "text": [
      "4 6 98 34 56 "
     ]
    }
   ],
   "source": [
    "list=[4,6,3,98,34,56,65,3]\n",
    "def even_in_list():\n",
    "    for i in list:\n",
    "        if i%2==0:\n",
    "            print(i, end=' ')\n",
    "even_in_list()     "
   ]
  },
  {
   "cell_type": "markdown",
   "id": "49d0969b",
   "metadata": {},
   "source": [
    "8.Write a Python Program to find odd numbers in the list ?"
   ]
  },
  {
   "cell_type": "code",
   "execution_count": 8,
   "id": "e01d6693",
   "metadata": {},
   "outputs": [
    {
     "name": "stdout",
     "output_type": "stream",
     "text": [
      "3 65 3 "
     ]
    }
   ],
   "source": [
    "list=[4,6,3,98,34,56,65,3]\n",
    "def odd_in_list():\n",
    "    for i in list:\n",
    "        if i%2!=0:\n",
    "            print(i, end=' ')\n",
    "odd_in_list() "
   ]
  },
  {
   "cell_type": "markdown",
   "id": "9b7518bc",
   "metadata": {},
   "source": [
    "9.Write a Python Program to remove empty list from list ?"
   ]
  },
  {
   "cell_type": "code",
   "execution_count": 9,
   "id": "06eed39f",
   "metadata": {},
   "outputs": [
    {
     "name": "stdout",
     "output_type": "stream",
     "text": [
      "[4, 6, 3, 98, 34, 56, 65, 3]\n"
     ]
    }
   ],
   "source": [
    "list=[4,6,3,[],98,[],34,56,[],65,3,[]]\n",
    "\n",
    "def remove_empty_list():\n",
    "    for i in list:\n",
    "        if i==[]:\n",
    "            list.remove(i)\n",
    "    print(list)\n",
    "remove_empty_list()"
   ]
  },
  {
   "cell_type": "markdown",
   "id": "edabf5aa",
   "metadata": {},
   "source": [
    "10.Write a Python Program to Cloning or Copying a list ?"
   ]
  },
  {
   "cell_type": "code",
   "execution_count": 10,
   "id": "e76292da",
   "metadata": {},
   "outputs": [
    {
     "name": "stdout",
     "output_type": "stream",
     "text": [
      "The list is:\n",
      " [1, 2, 3, 4, 5] 2444596135360\n",
      "The copied list is:\n",
      " [1, 2, 3, 4, 5] 2444595256064\n"
     ]
    }
   ],
   "source": [
    "import copy\n",
    "\n",
    "list=[1,2,3,4,5]\n",
    "def cloneList():\n",
    "    print('The list is:\\n',list, id(list))\n",
    "    cloned_list=list.copy()\n",
    "    print('The copied list is:\\n', cloned_list, id(cloned_list))\n",
    "\n",
    "cloneList()"
   ]
  },
  {
   "cell_type": "markdown",
   "id": "0475d002",
   "metadata": {},
   "source": [
    "11.Write a Python Program to count occurences of an element in a list ?"
   ]
  },
  {
   "cell_type": "code",
   "execution_count": 11,
   "id": "397708a9",
   "metadata": {},
   "outputs": [
    {
     "data": {
      "text/plain": [
       "{'I', 'T'}"
      ]
     },
     "execution_count": 11,
     "metadata": {},
     "output_type": "execute_result"
    }
   ],
   "source": [
    "list=['A', 'R', 'I','J','I','T','T']\n",
    "\n",
    "def reccuring():\n",
    "    count=0\n",
    "    result = set()\n",
    "    for i in list:\n",
    "        if list.count(i)>1:\n",
    "            result.add(i)\n",
    "    return result\n",
    "reccuring()"
   ]
  },
  {
   "cell_type": "code",
   "execution_count": 12,
   "id": "5388a6f6",
   "metadata": {},
   "outputs": [
    {
     "name": "stdout",
     "output_type": "stream",
     "text": [
      "The the Element you want to Find: 'I'\n",
      "Number of occurance of I in list is 2\n"
     ]
    }
   ],
   "source": [
    "list=['A', 'R', 'I','J','I','T','T']\n",
    "Ele_to_Find=eval(input('The the Element you want to Find: '))\n",
    "\n",
    "def occarance_of_elements():\n",
    "    count=0\n",
    "    for j in list:\n",
    "        if j==Ele_to_Find:\n",
    "            count+=1\n",
    "    print(f'Number of occurance of {Ele_to_Find} in list is {count}')\n",
    "occarance_of_elements()"
   ]
  }
 ],
 "metadata": {
  "kernelspec": {
   "display_name": "Python 3 (ipykernel)",
   "language": "python",
   "name": "python3"
  },
  "language_info": {
   "codemirror_mode": {
    "name": "ipython",
    "version": 3
   },
   "file_extension": ".py",
   "mimetype": "text/x-python",
   "name": "python",
   "nbconvert_exporter": "python",
   "pygments_lexer": "ipython3",
   "version": "3.9.7"
  }
 },
 "nbformat": 4,
 "nbformat_minor": 5
}
