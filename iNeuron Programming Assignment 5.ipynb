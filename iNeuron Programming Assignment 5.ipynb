{
 "cells": [
  {
   "cell_type": "markdown",
   "id": "528eac5c",
   "metadata": {},
   "source": [
    "1. Write a Python Program to find LCM ?"
   ]
  },
  {
   "cell_type": "code",
   "execution_count": 1,
   "id": "b547c68c",
   "metadata": {},
   "outputs": [
    {
     "name": "stdout",
     "output_type": "stream",
     "text": [
      "Enter the first number6\n",
      "Enter the second number8\n",
      "LCM of 6 and 8 is 24\n"
     ]
    }
   ],
   "source": [
    "number1=int(input('Enter the first number'))\n",
    "number2=int(input('Enter the second number'))\n",
    "def lcm(number1,number2):\n",
    "\n",
    "    for i in range(max(number1, number2),1+(number1 * number2)):\n",
    "        if i % number1 == i % number2 == 0:\n",
    "            lcm = i\n",
    "            break\n",
    "    print(f'LCM of {number1} and {number2} is', lcm)\n",
    "lcm(number1,number2)"
   ]
  },
  {
   "cell_type": "markdown",
   "id": "05194591",
   "metadata": {},
   "source": [
    "2. Write a Python Program to find HCF ?"
   ]
  },
  {
   "cell_type": "code",
   "execution_count": 2,
   "id": "e359ad92",
   "metadata": {},
   "outputs": [
    {
     "name": "stdout",
     "output_type": "stream",
     "text": [
      "Enter the first number10\n",
      "Enter the second number20\n",
      "HCF of 10 and 20 is 5\n"
     ]
    }
   ],
   "source": [
    "number1=int(input('Enter the first number'))\n",
    "number2=int(input('Enter the second number'))\n",
    "hcf = 1\n",
    "\n",
    "def hcf(number1, number2):\n",
    "    hcf = 1\n",
    "    for i in range(1, min(number1, number2)):\n",
    "        if number1 % i == 0 and number2 % i == 0:\n",
    "            hcf = i\n",
    "    print(f'HCF of {number1} and {number2} is', hcf)\n",
    "hcf(number1, number2)"
   ]
  },
  {
   "cell_type": "markdown",
   "id": "a4046b5b",
   "metadata": {},
   "source": [
    "3. Write a Python Program to Convert Decimal to Binary, Octal and Hexadecimal ?"
   ]
  },
  {
   "cell_type": "code",
   "execution_count": 3,
   "id": "5c0cd4a4",
   "metadata": {},
   "outputs": [
    {
     "name": "stdout",
     "output_type": "stream",
     "text": [
      "Enter the Number: 31\n",
      "Binary Number of 0b11111\n",
      "Octal Number of 0o37\n",
      "Hexadecimal Number of 0x1f\n"
     ]
    }
   ],
   "source": [
    "number=int(input('Enter the Number: '))\n",
    "def DecimaltoBinaryOctaHexa(number):\n",
    "\n",
    "    print(f'Binary Number of {bin(number)}')\n",
    "    print(f'Octal Number of {oct(number)}')    \n",
    "    print(f'Hexadecimal Number of {hex(number)}')    \n",
    "\n",
    "DecimaltoBinaryOctaHexa(number)"
   ]
  },
  {
   "cell_type": "markdown",
   "id": "5ee2abaf",
   "metadata": {},
   "source": [
    "4. Write a Python Program to Find the ASCII value of a Character ?"
   ]
  },
  {
   "cell_type": "code",
   "execution_count": 4,
   "id": "349bcece",
   "metadata": {},
   "outputs": [
    {
     "name": "stdout",
     "output_type": "stream",
     "text": [
      "Enter a Character you want to check :a\n",
      "Ascii Character of a is 97\n"
     ]
    }
   ],
   "source": [
    "char = input('Enter a Character you want to check :')\n",
    "def characterToASCII():\n",
    "    if len(char) > 1:\n",
    "        print('Please Enter a Single Character')\n",
    "        \n",
    "    else:\n",
    "        print(f'Ascii Character of {char} is {ord(char)}')\n",
    "\n",
    "characterToASCII()"
   ]
  },
  {
   "cell_type": "code",
   "execution_count": 5,
   "id": "9e4d8532",
   "metadata": {},
   "outputs": [
    {
     "name": "stdout",
     "output_type": "stream",
     "text": [
      "Select operation.\n",
      "1.Add\n",
      "2.Subtract\n",
      "3.Multiply\n",
      "4.Divide\n",
      "Enter choice(1/2/3/4): 3\n",
      "Enter first number: 5\n",
      "Enter second number: 4\n",
      "5.0 * 4.0 = 20.0\n",
      "Let's do next calculation? (yes/no): no\n"
     ]
    }
   ],
   "source": [
    "def add(x, y):\n",
    "    return x + y\n",
    "\n",
    "def subtract(x, y):\n",
    "    return x - y\n",
    "\n",
    "def multiply(x, y):\n",
    "    return x * y\n",
    "\n",
    "def divide(x, y):\n",
    "    return x / y\n",
    "\n",
    "\n",
    "print(\"Select operation.\")\n",
    "print(\"1.Add\")\n",
    "print(\"2.Subtract\")\n",
    "print(\"3.Multiply\")\n",
    "print(\"4.Divide\")\n",
    "\n",
    "while True:\n",
    "    choice = input(\"Enter choice(1/2/3/4): \")\n",
    "\n",
    "    if choice in ('1', '2', '3', '4'):\n",
    "        try:\n",
    "            num1 = float(input(\"Enter first number: \"))\n",
    "            num2 = float(input(\"Enter second number: \"))\n",
    "        except ValueError:\n",
    "            print(\"Invalid input. Please enter a number.\")\n",
    "            continue\n",
    "\n",
    "        if choice == '1':\n",
    "            print(num1, \"+\", num2, \"=\", add(num1, num2))\n",
    "\n",
    "        elif choice == '2':\n",
    "            print(num1, \"-\", num2, \"=\", subtract(num1, num2))\n",
    "\n",
    "        elif choice == '3':\n",
    "            print(num1, \"*\", num2, \"=\", multiply(num1, num2))\n",
    "\n",
    "        elif choice == '4':\n",
    "            print(num1, \"/\", num2, \"=\", divide(num1, num2))\n",
    "        \n",
    "        next_calculation = input(\"Let's do next calculation? (yes/no): \")\n",
    "        if next_calculation == \"no\":\n",
    "            break\n",
    "    else:\n",
    "        print(\"Invalid Input\")\n"
   ]
  },
  {
   "cell_type": "code",
   "execution_count": null,
   "id": "634d7b33",
   "metadata": {},
   "outputs": [],
   "source": []
  },
  {
   "cell_type": "code",
   "execution_count": null,
   "id": "43732c8e",
   "metadata": {},
   "outputs": [],
   "source": []
  }
 ],
 "metadata": {
  "kernelspec": {
   "display_name": "Python 3 (ipykernel)",
   "language": "python",
   "name": "python3"
  },
  "language_info": {
   "codemirror_mode": {
    "name": "ipython",
    "version": 3
   },
   "file_extension": ".py",
   "mimetype": "text/x-python",
   "name": "python",
   "nbconvert_exporter": "python",
   "pygments_lexer": "ipython3",
   "version": "3.9.7"
  }
 },
 "nbformat": 4,
 "nbformat_minor": 5
}
