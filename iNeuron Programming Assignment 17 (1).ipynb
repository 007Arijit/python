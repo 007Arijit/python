{
 "cells": [
  {
   "cell_type": "markdown",
   "id": "e4ae9875",
   "metadata": {},
   "source": [
    "<b>1.Create a function that takes three arguments a, b, c and returns the sum of the numbers that are evenly divided by c from the range a, b inclusive ?\n",
    "Examples:\n",
    "    \n",
    "    evenly_divisible(1, 10, 20) ➞ 0 # No number between 1 and 10 can be evenly divided by 20. \n",
    "    \n",
    "    evenly_divisible(1, 10, 2) ➞ 30 # 2 + 4 + 6 + 8 + 10 = 30 \n",
    "    \n",
    "    evenly_divisible(1, 10, 3) ➞ 18 # 3 + 6 + 9 = 18"
   ]
  },
  {
   "cell_type": "code",
   "execution_count": 11,
   "id": "327f40b8",
   "metadata": {},
   "outputs": [
    {
     "name": "stdout",
     "output_type": "stream",
     "text": [
      "No divisible number between 1 and 10 by 20\n"
     ]
    }
   ],
   "source": [
    "def sum_of_divisible(a, b, c):\n",
    "    total_sum = 0\n",
    "    divisible_numbers = []\n",
    "    \n",
    "    for i in range(a, b+1):\n",
    "        if i % c == 0:\n",
    "            divisible_numbers.append(i)\n",
    "            total_sum += i\n",
    "\n",
    "    if divisible_numbers:\n",
    "        return total_sum\n",
    "    else:\n",
    "        print(f'No divisible number between {a} and {b} by {c}')\n",
    "\n",
    "result = sum_of_divisible(1, 10, 20)\n",
    "if result is not None:\n",
    "    print(result)"
   ]
  },
  {
   "cell_type": "markdown",
   "id": "fe684ac7",
   "metadata": {},
   "source": [
    "<b>2.Create a function that returns True if a given inequality expression is correct and False otherwise ?\n",
    "\n",
    "Examples:\n",
    "    \n",
    "correct_signs(\"3 < 7 < 11\") ➞ True\n",
    "\n",
    "correct_signs(\"13 > 44 > 33 > 1\") ➞ False\n",
    "\n",
    "correct_signs(\"1 < 2 < 6 < 9 > 3\") ➞ True\n",
    "\n"
   ]
  },
  {
   "cell_type": "code",
   "execution_count": 46,
   "id": "27f4ccac",
   "metadata": {},
   "outputs": [
    {
     "name": "stdout",
     "output_type": "stream",
     "text": [
      "False\n",
      "False\n",
      "True\n"
     ]
    }
   ],
   "source": [
    "def correct_inequality_expression(expression) : \n",
    "    return eval(expression)\n",
    "print(correct_inequality_expression(\"3 > 7 < 11\"))\n",
    "print(correct_inequality_expression(\"13 > 44 > 33 > 1\"))\n",
    "print(correct_inequality_expression(\"1 < 2 < 6 < 9 > 3\"))"
   ]
  },
  {
   "cell_type": "markdown",
   "id": "0851066c",
   "metadata": {},
   "source": [
    "<b>3.Create a function that replaces all the vowels in a string with a specified character ?\n",
    "\n",
    "Examples:\n",
    "    \n",
    "replace_vowels(\"the aardvark\", \"#\") ➞ \"th# ##rdv#rk\"\n",
    "    \n",
    "replace_vowels(\"minnie mouse\", \"?\") ➞ \"m?nn?? m??s?\"\n",
    "    \n",
    "replace_vowels(\"shakespeare\", \"*\") ➞ \"shksp**r\""
   ]
  },
  {
   "cell_type": "code",
   "execution_count": 58,
   "id": "cff4aa50",
   "metadata": {},
   "outputs": [
    {
     "name": "stdout",
     "output_type": "stream",
     "text": [
      "Enter the String: Arijit Koley\n",
      "\n",
      "Enter the special Character: *\n",
      "\n",
      "The String adter replacing vowels with special character is:  *r*j*t K*l*y\n"
     ]
    }
   ],
   "source": [
    "def replace_vowel_special_char():\n",
    "    string=input('Enter the String: ')\n",
    "    s_char=input('\\nEnter the special Character: ')\n",
    "    vowels = 'AEIOUaeiou'\n",
    "    for i in string:\n",
    "        if i in vowels:\n",
    "            string=string.replace(i, s_char)\n",
    "    print(f'\\nThe String adter replacing vowels with special character is:  {string}')\n",
    "    \n",
    "replace_vowel_special_char()"
   ]
  },
  {
   "cell_type": "markdown",
   "id": "269169a4",
   "metadata": {},
   "source": [
    "<b>4.Write a function that calculates the factorial of a number recursively ?\n",
    "\n",
    "Examples:\n",
    "    \n",
    "factorial(5) ➞ 120\n",
    "\n",
    "factorial(3) ➞ 6\n",
    "\n",
    "factorial(1) ➞ 1\n",
    "\n",
    "factorial(0) ➞ 1"
   ]
  },
  {
   "cell_type": "code",
   "execution_count": 3,
   "id": "c1dfef5c",
   "metadata": {},
   "outputs": [
    {
     "name": "stdout",
     "output_type": "stream",
     "text": [
      "Enter the number: 5\n"
     ]
    },
    {
     "data": {
      "text/plain": [
       "120"
      ]
     },
     "execution_count": 3,
     "metadata": {},
     "output_type": "execute_result"
    }
   ],
   "source": [
    "number=int(input('Enter the number: '))\n",
    "def factorial(number):\n",
    "    if number==0:\n",
    "        return 1\n",
    "    return number * factorial(number-1)\n",
    "    #print(f'Factorial of {number} is {fact} ')\n",
    "factorial(number)"
   ]
  },
  {
   "cell_type": "markdown",
   "id": "42b70fab",
   "metadata": {},
   "source": [
    "<b>5.Hamming distance is the number of characters that differ between two strings ?\n",
    "\n",
    "To illustrate:\n",
    "    \n",
    "String1: \"abcbba\"\n",
    "    \n",
    "String2: \"abcbda\"\n",
    "Hamming Distance: 1 - \"b\" vs. \"d\" is the only difference.\n",
    "    \n",
    "Create a function that computes the hamming distance between two strings.\n",
    "\n",
    "Examples:\n",
    "    \n",
    "hamming_distance(\"abcde\", \"bcdef\") ➞ 5\n",
    "\n",
    "hamming_distance(\"abcde\", \"abcde\") ➞ 0\n",
    "\n",
    "hamming_distance(\"strong\", \"strung\") ➞ 1"
   ]
  },
  {
   "cell_type": "code",
   "execution_count": 8,
   "id": "005c855f",
   "metadata": {},
   "outputs": [
    {
     "name": "stdout",
     "output_type": "stream",
     "text": [
      "Enter the String 1: bcdef\n",
      "Enter the String 2: abcde\n",
      "5\n"
     ]
    }
   ],
   "source": [
    "def hamming_distance():\n",
    "    string_1=input('Enter the String 1: ')\n",
    "    string_2=input('Enter the String 2: ')\n",
    "    count=0\n",
    "    if len(string_1)==len(string_2):\n",
    "        for i in range(len(string_1)):\n",
    "            if string_1[i]!=string_2[i]:\n",
    "                count=count+1\n",
    "        print(count)\n",
    "hamming_distance()\n",
    "                "
   ]
  },
  {
   "cell_type": "code",
   "execution_count": null,
   "id": "4bb7d80a",
   "metadata": {},
   "outputs": [],
   "source": []
  }
 ],
 "metadata": {
  "kernelspec": {
   "display_name": "Python 3 (ipykernel)",
   "language": "python",
   "name": "python3"
  },
  "language_info": {
   "codemirror_mode": {
    "name": "ipython",
    "version": 3
   },
   "file_extension": ".py",
   "mimetype": "text/x-python",
   "name": "python",
   "nbconvert_exporter": "python",
   "pygments_lexer": "ipython3",
   "version": "3.9.7"
  }
 },
 "nbformat": 4,
 "nbformat_minor": 5
}
