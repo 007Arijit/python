{
 "cells": [
  {
   "cell_type": "markdown",
   "id": "75b06108",
   "metadata": {},
   "source": [
    "**1. Write a Python program to reverse a string without using any built-in string reversal functions.**"
   ]
  },
  {
   "cell_type": "code",
   "execution_count": 4,
   "id": "1fa4b4fc",
   "metadata": {},
   "outputs": [
    {
     "data": {
      "text/plain": [
       "'tijirA'"
      ]
     },
     "execution_count": 4,
     "metadata": {},
     "output_type": "execute_result"
    }
   ],
   "source": [
    "s='Arijit'\n",
    "#s=list(s)\n",
    "s[::-1]"
   ]
  },
  {
   "cell_type": "markdown",
   "id": "789fe100",
   "metadata": {},
   "source": [
    "<b>2. Implement a function to check if a given string is a palindrome."
   ]
  },
  {
   "cell_type": "code",
   "execution_count": 17,
   "id": "bf647616",
   "metadata": {},
   "outputs": [
    {
     "name": "stdout",
     "output_type": "stream",
     "text": [
      "Enter the number\n",
      "123321\n",
      "Palindrom\n"
     ]
    }
   ],
   "source": [
    "num=int(input('Enter the number\\n'))\n",
    "num=str(num)\n",
    "\n",
    "for i in num:\n",
    "    if num==num[::-1]:\n",
    "        print('Palindrom')\n",
    "        break\n",
    "    else:\n",
    "        print('Not Palindrom')\n",
    "        break"
   ]
  },
  {
   "cell_type": "markdown",
   "id": "1940021e",
   "metadata": {},
   "source": [
    "<b>3. Write a program to find the largest element in a given list."
   ]
  },
  {
   "cell_type": "code",
   "execution_count": 12,
   "id": "110ef51e",
   "metadata": {},
   "outputs": [
    {
     "name": "stdout",
     "output_type": "stream",
     "text": [
      "666\n"
     ]
    }
   ],
   "source": [
    "l=[44,33,44,55,666,77,22]\n",
    "maxn=l[0]\n",
    "for i in l:\n",
    "    if maxn<i:\n",
    "        maxn=i\n",
    "print(maxn)"
   ]
  },
  {
   "cell_type": "markdown",
   "id": "19d9658a",
   "metadata": {},
   "source": [
    "4. Implement a function to count the occurrence of each element in a list."
   ]
  },
  {
   "cell_type": "code",
   "execution_count": 38,
   "id": "cc60e9a9",
   "metadata": {},
   "outputs": [
    {
     "data": {
      "text/plain": [
       "{2: 2, 3: 1, 4: 1, 5: 3}"
      ]
     },
     "execution_count": 38,
     "metadata": {},
     "output_type": "execute_result"
    }
   ],
   "source": [
    "l=[2,2,3,4,5,5,5]\n",
    "def occurance(l):\n",
    "    return dict((i,l.count(i)) for i in l)\n",
    "occurance(l)"
   ]
  },
  {
   "cell_type": "markdown",
   "id": "8e1fe9cc",
   "metadata": {},
   "source": [
    "5. Write a Python program to find the second largest number in a list."
   ]
  },
  {
   "cell_type": "code",
   "execution_count": 36,
   "id": "17035578",
   "metadata": {},
   "outputs": [
    {
     "name": "stdout",
     "output_type": "stream",
     "text": [
      "77\n"
     ]
    }
   ],
   "source": [
    "l=[44,33,44,55,666,77,22]\n",
    "lar=0\n",
    "slar=0\n",
    "for i in l:\n",
    "    if i>lar:\n",
    "        lar=i\n",
    "l.remove(lar)\n",
    "for j in l:\n",
    "    if j>slar:\n",
    "        slar=j\n",
    "print(slar)       "
   ]
  },
  {
   "cell_type": "markdown",
   "id": "2cd0ae41",
   "metadata": {},
   "source": [
    "6. Implement a function to remove duplicate elements from a list.\n"
   ]
  },
  {
   "cell_type": "code",
   "execution_count": 41,
   "id": "370ec49f",
   "metadata": {},
   "outputs": [
    {
     "data": {
      "text/plain": [
       "[2, 3, 4, 5]"
      ]
     },
     "execution_count": 41,
     "metadata": {},
     "output_type": "execute_result"
    }
   ],
   "source": [
    "l=[2,2,3,4,5,5,5]\n",
    "l=set(l)\n",
    "l=list(l)\n",
    "l"
   ]
  },
  {
   "cell_type": "code",
   "execution_count": 44,
   "id": "828d3c13",
   "metadata": {},
   "outputs": [
    {
     "data": {
      "text/plain": [
       "[2, 3, 4, 5]"
      ]
     },
     "execution_count": 44,
     "metadata": {},
     "output_type": "execute_result"
    }
   ],
   "source": [
    "temp_list = []\n",
    "\n",
    "for i in l:\n",
    "    if i not in temp_list:\n",
    "        temp_list.append(i)\n",
    "\n",
    "l = temp_list\n",
    "l"
   ]
  },
  {
   "cell_type": "markdown",
   "id": "4d7450f7",
   "metadata": {},
   "source": [
    "7. Write a program to calculate the factorial of a given number."
   ]
  },
  {
   "cell_type": "code",
   "execution_count": 60,
   "id": "012857c8",
   "metadata": {},
   "outputs": [
    {
     "name": "stdout",
     "output_type": "stream",
     "text": [
      "Enter the number: 6\n"
     ]
    },
    {
     "data": {
      "text/plain": [
       "720"
      ]
     },
     "execution_count": 60,
     "metadata": {},
     "output_type": "execute_result"
    }
   ],
   "source": [
    "n=int(input('Enter the number: '))\n",
    "fact_res=1\n",
    "for i in range(n):\n",
    "    fact_res=fact_res*(n-i)\n",
    "fact_res"
   ]
  },
  {
   "cell_type": "markdown",
   "id": "a3dc848b",
   "metadata": {},
   "source": [
    "8. Implement a function to check if a given number is prime."
   ]
  },
  {
   "cell_type": "code",
   "execution_count": 65,
   "id": "bfe5b6a4",
   "metadata": {},
   "outputs": [
    {
     "name": "stdout",
     "output_type": "stream",
     "text": [
      "Enter the number: 10\n"
     ]
    },
    {
     "data": {
      "text/plain": [
       "'Prime'"
      ]
     },
     "execution_count": 65,
     "metadata": {},
     "output_type": "execute_result"
    }
   ],
   "source": [
    "def prime(n):\n",
    "    n=int(input('Enter the number: '))\n",
    "    if n%2==0:\n",
    "        return 'Prime'\n",
    "    else:\n",
    "        return ('Not Prime')\n",
    "prime(n)"
   ]
  },
  {
   "cell_type": "markdown",
   "id": "92c0f8c0",
   "metadata": {},
   "source": [
    "9. Write a Python program to sort a list of integers in ascending order.\n"
   ]
  },
  {
   "cell_type": "code",
   "execution_count": 82,
   "id": "ce35c6c4",
   "metadata": {},
   "outputs": [
    {
     "name": "stdout",
     "output_type": "stream",
     "text": [
      "[22, 33, 44, 44, 55, 77, 666]\n"
     ]
    }
   ],
   "source": [
    "l=[44,33,44,55,666,77,22]\n",
    "for i in range(len(l)):\n",
    "    for j in range(i):\n",
    "        if l[j]>l[i]:\n",
    "            l[j],l[i]=l[i],l[j]\n",
    "print(l)"
   ]
  },
  {
   "cell_type": "markdown",
   "id": "65751c54",
   "metadata": {},
   "source": [
    "10. Implement a function to find the sum of all numbers in a list."
   ]
  },
  {
   "cell_type": "code",
   "execution_count": 86,
   "id": "df99cef1",
   "metadata": {},
   "outputs": [
    {
     "name": "stdout",
     "output_type": "stream",
     "text": [
      "941\n",
      "941\n"
     ]
    }
   ],
   "source": [
    "l=[44,33,44,55,666,77,22]\n",
    "def sum_list(l):\n",
    "    s=0\n",
    "    for i in l:\n",
    "        s=s+i\n",
    "    return s\n",
    "print(sum_list(l))\n",
    "print(sum(l))"
   ]
  },
  {
   "cell_type": "markdown",
   "id": "6bec43c0",
   "metadata": {},
   "source": [
    "11. Write a program to find the common elements between two lists.\n"
   ]
  },
  {
   "cell_type": "code",
   "execution_count": 89,
   "id": "0274e005",
   "metadata": {},
   "outputs": [
    {
     "name": "stdout",
     "output_type": "stream",
     "text": [
      "3,5,6,34,"
     ]
    }
   ],
   "source": [
    "l1=[3,5,6,10,32,34]\n",
    "l2=[33,34,5,2,3,6,7]\n",
    "for i in l1:\n",
    "    for j in l2:\n",
    "        if i==j:\n",
    "            print(i, end=',')"
   ]
  },
  {
   "cell_type": "markdown",
   "id": "40c40d4b",
   "metadata": {},
   "source": [
    "12. Implement a function to check if a given string is an anagram of another string."
   ]
  },
  {
   "cell_type": "code",
   "execution_count": 90,
   "id": "242b9af4",
   "metadata": {},
   "outputs": [
    {
     "name": "stdout",
     "output_type": "stream",
     "text": [
      "race and care are anagram.\n"
     ]
    }
   ],
   "source": [
    "str1 = \"Race\"\n",
    "str2 = \"Care\"\n",
    "\n",
    "str1 = str1.lower()\n",
    "str2 = str2.lower()\n",
    "\n",
    "if(len(str1) == len(str2)):\n",
    "    sorted_str1 = sorted(str1)\n",
    "    sorted_str2 = sorted(str2)\n",
    "    if(sorted_str1 == sorted_str2):\n",
    "        print(f\"{str1} and {str2} are anagram.\")\n",
    "    else:\n",
    "        print(f\"{str1} and {str2} are not anagram.\")\n",
    "\n",
    "else:\n",
    "    print(f\"{str1} and {str2} are not anagram.\")"
   ]
  },
  {
   "cell_type": "markdown",
   "id": "2ec7dc64",
   "metadata": {},
   "source": [
    "13. Write a Python program to generate all permutations of a given string."
   ]
  },
  {
   "cell_type": "code",
   "execution_count": 93,
   "id": "371285c5",
   "metadata": {},
   "outputs": [
    {
     "name": "stdout",
     "output_type": "stream",
     "text": [
      "ABC\n",
      "ACB\n",
      "BAC\n",
      "BCA\n",
      "CAB\n",
      "CBA\n"
     ]
    }
   ],
   "source": [
    "def permutations(remaining, candidate=''):\n",
    " \n",
    "    if len(remaining) == 0:\n",
    "        print(candidate)\n",
    " \n",
    "    for i in range(len(remaining)):\n",
    " \n",
    "        newCandidate = candidate + remaining[i]\n",
    "        newRemaining = remaining[0:i] + remaining[i+1:]\n",
    " \n",
    "        permutations(newRemaining, newCandidate)\n",
    "s = 'ABC'\n",
    "permutations(s)"
   ]
  },
  {
   "cell_type": "markdown",
   "id": "0bc15022",
   "metadata": {},
   "source": [
    "14. Implement a function to calculate the Fibonacci sequence up to a given number of terms"
   ]
  },
  {
   "cell_type": "code",
   "execution_count": 117,
   "id": "1a81d00a",
   "metadata": {},
   "outputs": [
    {
     "name": "stdout",
     "output_type": "stream",
     "text": [
      "0\n",
      "1\n",
      "1\n",
      "2\n",
      "3\n",
      "5\n",
      "8\n"
     ]
    }
   ],
   "source": [
    "def fibb(n):\n",
    "    a=0\n",
    "    b=1\n",
    "    print(a)\n",
    "    print(b)\n",
    "    for i in range(1,n+1):\n",
    "        c=b+a\n",
    "        a=b\n",
    "        b=c\n",
    "        print(c)\n",
    "fibb(5)"
   ]
  },
  {
   "cell_type": "markdown",
   "id": "38e37432",
   "metadata": {},
   "source": [
    "15. Write a program to find the median of a list of numbers."
   ]
  },
  {
   "cell_type": "code",
   "execution_count": 154,
   "id": "7b8513cc",
   "metadata": {},
   "outputs": [
    {
     "data": {
      "text/plain": [
       "8"
      ]
     },
     "execution_count": 154,
     "metadata": {},
     "output_type": "execute_result"
    }
   ],
   "source": [
    "l=[3,5,6,10,32,34]\n",
    "\n",
    "def median(l):\n",
    "\n",
    "    if len(l)%2==0:\n",
    "        n=int(len(l)/2)\n",
    "        n2=int(len(l)/2)-1\n",
    "        median=int((l[n]+l[n2])/2)\n",
    "    else:\n",
    "        median=l[int(len(l)/2)]\n",
    "    return(median)\n",
    "\n",
    "median(l)"
   ]
  },
  {
   "cell_type": "markdown",
   "id": "dea5ed43",
   "metadata": {},
   "source": [
    "16.Implement a function to check if a given list is sorted in non-decreasing order."
   ]
  },
  {
   "cell_type": "code",
   "execution_count": 19,
   "id": "2eff96e4",
   "metadata": {},
   "outputs": [
    {
     "name": "stdout",
     "output_type": "stream",
     "text": [
      "True\n",
      "False\n"
     ]
    }
   ],
   "source": [
    "def is_sorted(lst):\n",
    "\n",
    "    for i in range(len(lst)-1):\n",
    "        if lst[i] > lst[i+1]:\n",
    "            return False\n",
    "    return True\n",
    "\n",
    "my_list = [1, 2, 3, 4, 5]\n",
    "print(is_sorted(my_list))\n",
    "\n",
    "my_list = [1, 3, 2, 4, 5]\n",
    "print(is_sorted(my_list))"
   ]
  },
  {
   "cell_type": "markdown",
   "id": "4619a57f",
   "metadata": {},
   "source": [
    "<b>17. Write a Python program to find the intersection of two lists.\n"
   ]
  },
  {
   "cell_type": "code",
   "execution_count": 20,
   "id": "1813660f",
   "metadata": {},
   "outputs": [
    {
     "name": "stdout",
     "output_type": "stream",
     "text": [
      "[4, 5]\n"
     ]
    }
   ],
   "source": [
    "def find_intersection(list1, list2):\n",
    "    return list(set(list1) & set(list2))\n",
    "\n",
    "list1 = [1, 2, 3, 4, 5]\n",
    "list2 = [4, 5, 6, 7, 8]\n",
    "\n",
    "intersection = find_intersection(list1, list2)\n",
    "print(intersection)"
   ]
  },
  {
   "cell_type": "markdown",
   "id": "2bedd9a2",
   "metadata": {},
   "source": [
    "18. Implement a function to find the maximum subarray sum in a given list"
   ]
  },
  {
   "cell_type": "code",
   "execution_count": 22,
   "id": "1dba0217",
   "metadata": {},
   "outputs": [
    {
     "name": "stdout",
     "output_type": "stream",
     "text": [
      "6\n"
     ]
    }
   ],
   "source": [
    "def find_max_subarray_sum(lst):\n",
    "\n",
    "    if not lst:\n",
    "        return 0\n",
    "    max_sum = lst[0]  \n",
    "    current_sum = lst[0]\n",
    "    for num in lst[1:]:\n",
    "        current_sum = max(num, current_sum + num)\n",
    "        max_sum = max(max_sum, current_sum)\n",
    "    return max_sum\n",
    "\n",
    "my_list = [-2, 1, -3, 4, -1, 2, 1, -5, 4]\n",
    "max_sum = find_max_subarray_sum(my_list)\n",
    "print(max_sum)"
   ]
  },
  {
   "cell_type": "markdown",
   "id": "b86cd8be",
   "metadata": {},
   "source": [
    "19. Write a program to remove all vowels from a given string."
   ]
  },
  {
   "cell_type": "code",
   "execution_count": 24,
   "id": "91bd61ab",
   "metadata": {},
   "outputs": [
    {
     "name": "stdout",
     "output_type": "stream",
     "text": [
      "Hll Wrld!\n"
     ]
    }
   ],
   "source": [
    "def remove_vowels(string):\n",
    "    vowels = \"aeiouAEIOU\"\n",
    "    return ''.join(i for i in string if i not in vowels)\n",
    "\n",
    "input_string = \"Hello World!\"\n",
    "modified_string = remove_vowels(input_string)\n",
    "print(modified_string)"
   ]
  },
  {
   "cell_type": "markdown",
   "id": "3dec4783",
   "metadata": {},
   "source": [
    "20. Implement a function to reverse the order of words in a given sentence.\n"
   ]
  },
  {
   "cell_type": "code",
   "execution_count": 25,
   "id": "5d21a5a8",
   "metadata": {},
   "outputs": [
    {
     "data": {
      "text/plain": [
       "'okay am I'"
      ]
     },
     "execution_count": 25,
     "metadata": {},
     "output_type": "execute_result"
    }
   ],
   "source": [
    "def reverse_words(sentence):\n",
    "    words = sentence.split()\n",
    "    reversed_words = words[::-1]\n",
    "    reversed_sentence = ' '.join(reversed_words)\n",
    "    return reversed_sentence\n",
    "\n",
    "input_sentence = \"I am okay\"\n",
    "reverse_words(input_sentence)"
   ]
  },
  {
   "cell_type": "markdown",
   "id": "6b59b4f0",
   "metadata": {},
   "source": [
    "21. Write a Python program to check if two strings are anagrams of each other.\n"
   ]
  },
  {
   "cell_type": "code",
   "execution_count": 30,
   "id": "4ebb4580",
   "metadata": {},
   "outputs": [
    {
     "name": "stdout",
     "output_type": "stream",
     "text": [
      "True\n",
      "False\n"
     ]
    }
   ],
   "source": [
    "def are_anagrams(str1, str2):\n",
    "\n",
    "    if sorted(str1) == sorted(str2):\n",
    "        return True\n",
    "    return False\n",
    "\n",
    "str1='iNeuron'\n",
    "str2='iNeuron'\n",
    "print(are_anagrams(str1, str2))\n",
    "str1='iNeuron'\n",
    "str2='iNeur0n'\n",
    "print(are_anagrams(str1, str2))"
   ]
  },
  {
   "cell_type": "markdown",
   "id": "e307ba36",
   "metadata": {},
   "source": [
    "22. Implement a function to find the first non-repeating character in a string."
   ]
  },
  {
   "cell_type": "code",
   "execution_count": 36,
   "id": "a2ebac27",
   "metadata": {},
   "outputs": [
    {
     "data": {
      "text/plain": [
       "'s'"
      ]
     },
     "execution_count": 36,
     "metadata": {},
     "output_type": "execute_result"
    }
   ],
   "source": [
    "def find_first_non_repeating_char(string):\n",
    "    char_count = {}\n",
    "    for char in string:\n",
    "        char_count[char] = char_count.get(char, 0)+1\n",
    "\n",
    "    for char in string:\n",
    "        if char_count[char] == 1:\n",
    "            return char\n",
    "\n",
    "    return None\n",
    "find_first_non_repeating_char('string')"
   ]
  },
  {
   "cell_type": "markdown",
   "id": "125abdf2",
   "metadata": {},
   "source": [
    "23. Write a program to find the prime factors of a given number.\n"
   ]
  },
  {
   "cell_type": "code",
   "execution_count": 37,
   "id": "4776a411",
   "metadata": {},
   "outputs": [
    {
     "name": "stdout",
     "output_type": "stream",
     "text": [
      "[2, 3, 5, 7]\n"
     ]
    }
   ],
   "source": [
    "def Prime_Factorial(n):\n",
    "    if n < 4:\n",
    "        return n\n",
    "    arr = []\n",
    "    while n > 1:\n",
    "        for i in range(2, int(2+n//2)):\n",
    "            if i == (1 + n // 2):\n",
    "                arr.append(n)\n",
    "                n = n // n\n",
    "            if n % i == 0:\n",
    "                arr.append(i)\n",
    "                n = n // i\n",
    "                break\n",
    "    return arr\n",
    "\n",
    "\n",
    "n = 210\n",
    "print(Prime_Factorial(n))"
   ]
  },
  {
   "cell_type": "markdown",
   "id": "0bff0b4a",
   "metadata": {},
   "source": [
    "24. Implement a function to check if a given number is a power of two."
   ]
  },
  {
   "cell_type": "code",
   "execution_count": 39,
   "id": "1c7c85f2",
   "metadata": {},
   "outputs": [
    {
     "name": "stdout",
     "output_type": "stream",
     "text": [
      "True\n",
      "True\n",
      "False\n"
     ]
    }
   ],
   "source": [
    "def is_power_of_two(number):\n",
    "\n",
    "    return number > 0 and (number & (number - 1)) == 0\n",
    "print(is_power_of_two(4)) \n",
    "print(is_power_of_two(16)) \n",
    "print(is_power_of_two(10))"
   ]
  },
  {
   "cell_type": "markdown",
   "id": "856bcf45",
   "metadata": {},
   "source": [
    "25. Write a Python program to merge two sorted lists into a single sorted list.\n"
   ]
  },
  {
   "cell_type": "code",
   "execution_count": 43,
   "id": "c70ef44d",
   "metadata": {},
   "outputs": [
    {
     "name": "stdout",
     "output_type": "stream",
     "text": [
      "[1, 2, 3, 4, 5, 6, 7, 8, 9, 10]\n"
     ]
    }
   ],
   "source": [
    "def merge_sorted_lists(list1, list2):\n",
    "\n",
    "    merged_list = []\n",
    "    i, j = 0, 0\n",
    "\n",
    "    while i < len(list1) and j < len(list2):\n",
    "        if list1[i] < list2[j]:\n",
    "            merged_list.append(list1[i])\n",
    "            i += 1\n",
    "        else:\n",
    "            merged_list.append(list2[j])\n",
    "            j += 1\n",
    "\n",
    "    while i < len(list1):\n",
    "        merged_list.append(list1[i])\n",
    "        i += 1\n",
    "        \n",
    "    while j < len(list2):\n",
    "        merged_list.append(list2[j])\n",
    "        j += 1\n",
    "\n",
    "    return merged_list\n",
    "\n",
    "list1 = [1, 3, 5, 7, 9]\n",
    "list2 = [2, 4, 6, 8, 10]\n",
    "merged_list = merge_sorted_lists(list1, list2)\n",
    "print(merged_list)"
   ]
  },
  {
   "cell_type": "markdown",
   "id": "e4a955f3",
   "metadata": {},
   "source": [
    "26. Implement a function to find the mode of a list of numbers.\n"
   ]
  },
  {
   "cell_type": "code",
   "execution_count": 45,
   "id": "137e54f8",
   "metadata": {},
   "outputs": [
    {
     "name": "stdout",
     "output_type": "stream",
     "text": [
      "[4]\n"
     ]
    }
   ],
   "source": [
    "from collections import Counter\n",
    "\n",
    "def find_mode(numbers):\n",
    "    counter = Counter(numbers)\n",
    "    max_count = max(counter.values())\n",
    "    modes = [number for number, count in counter.items() if count == max_count]\n",
    "    return modes\n",
    "\n",
    "numbers = [1, 2, 2, 3, 3, 3, 4, 4, 4, 4]\n",
    "modes = find_mode(numbers)\n",
    "print(modes)\n"
   ]
  },
  {
   "cell_type": "markdown",
   "id": "51017a8a",
   "metadata": {},
   "source": [
    "27. Write a program to find the greatest common divisor (GCD) of two numbers."
   ]
  },
  {
   "cell_type": "code",
   "execution_count": 47,
   "id": "784e52b6",
   "metadata": {},
   "outputs": [
    {
     "name": "stdout",
     "output_type": "stream",
     "text": [
      "12\n"
     ]
    }
   ],
   "source": [
    "def find_gcd(a, b):\n",
    "\n",
    "    while b != 0:\n",
    "        a, b = b, a % b\n",
    "\n",
    "    return a\n",
    "\n",
    "num1 = 24\n",
    "num2 = 36\n",
    "gcd = find_gcd(num1, num2)\n",
    "print(gcd) "
   ]
  },
  {
   "cell_type": "markdown",
   "id": "0de3e4f9",
   "metadata": {},
   "source": [
    "28. Implement a function to calculate the square root of a given number."
   ]
  },
  {
   "cell_type": "code",
   "execution_count": 55,
   "id": "5eebd5be",
   "metadata": {},
   "outputs": [
    {
     "name": "stdout",
     "output_type": "stream",
     "text": [
      "The square root of 4.00 is 2.00\n"
     ]
    }
   ],
   "source": [
    "def calculate_square_root(number):\n",
    "\n",
    "    num_sqrt = number ** 0.5\n",
    "    print('The square root of %0.2f is %0.2f'%(number ,num_sqrt))\n",
    "\n",
    "calculate_square_root(4)"
   ]
  },
  {
   "cell_type": "markdown",
   "id": "3dcfa04a",
   "metadata": {},
   "source": [
    "29. Write a Python program to check if a given string is a valid palindrome ignoring non-alphanumeric characters."
   ]
  },
  {
   "cell_type": "code",
   "execution_count": 59,
   "id": "5c6ddd54",
   "metadata": {},
   "outputs": [
    {
     "name": "stdout",
     "output_type": "stream",
     "text": [
      "The string is a palindrome.\n",
      "The string is not a palindrome.\n"
     ]
    }
   ],
   "source": [
    "def check_palindrom(my_str):\n",
    "    my_str = my_str.casefold()\n",
    "    rev_str = reversed(my_str)\n",
    "\n",
    "    if list(my_str) == list(rev_str):\n",
    "        return \"The string is a palindrome.\"\n",
    "    else:\n",
    "        return \"The string is not a palindrome.\"\n",
    "print(check_palindrom('rePapEr'))\n",
    "print(check_palindrom('DEAr'))"
   ]
  },
  {
   "cell_type": "markdown",
   "id": "330c464a",
   "metadata": {},
   "source": [
    "30. Implement a function to find the minimum element in a rotated sorted list."
   ]
  },
  {
   "cell_type": "code",
   "execution_count": 3,
   "id": "43b2e16e",
   "metadata": {},
   "outputs": [
    {
     "data": {
      "text/plain": [
       "0"
      ]
     },
     "execution_count": 3,
     "metadata": {},
     "output_type": "execute_result"
    }
   ],
   "source": [
    "def find_min_element(nums):\n",
    "    min_element = float('inf')\n",
    "\n",
    "    for num in nums:\n",
    "        if num < min_element:\n",
    "            min_element = num\n",
    "\n",
    "    return min_element\n",
    "nums = [4, 5, 6, 7, 0, 1, 2]\n",
    "find_min_element(nums)"
   ]
  },
  {
   "cell_type": "markdown",
   "id": "394beb43",
   "metadata": {},
   "source": [
    "31. Write a program to find the sum of all even numbers in a list.\n"
   ]
  },
  {
   "cell_type": "code",
   "execution_count": 4,
   "id": "fc610aaf",
   "metadata": {},
   "outputs": [
    {
     "data": {
      "text/plain": [
       "30"
      ]
     },
     "execution_count": 4,
     "metadata": {},
     "output_type": "execute_result"
    }
   ],
   "source": [
    "def sum_of_even_numbers(numbers):\n",
    "\n",
    "    sum = 0\n",
    "    for num in numbers:\n",
    "        if num % 2 == 0:\n",
    "            sum += num\n",
    "    return sum\n",
    "\n",
    "\n",
    "\n",
    "numbers = [1, 2, 3, 4, 5, 6, 7, 8, 9, 10]\n",
    "sum_of_even_numbers(numbers)"
   ]
  },
  {
   "cell_type": "markdown",
   "id": "1de6dff1",
   "metadata": {},
   "source": [
    "32. Implement a function to calculate the power of a number using recursion."
   ]
  },
  {
   "cell_type": "code",
   "execution_count": 6,
   "id": "fb4d0210",
   "metadata": {},
   "outputs": [
    {
     "name": "stdout",
     "output_type": "stream",
     "text": [
      "2 to the power 3 is 8\n"
     ]
    }
   ],
   "source": [
    "def power(a, b):\n",
    "    if b != 0:\n",
    "        return a * power(a, b - 1)\n",
    "    else:\n",
    "        return 1\n",
    "\n",
    "a = 2\n",
    "b = 3\n",
    "print(a, \"to the power\", b, \"is\", power(a, b))"
   ]
  },
  {
   "cell_type": "markdown",
   "id": "be501dc9",
   "metadata": {},
   "source": [
    "33. Write a Python program to remove duplicates from a list while preserving the order.\n"
   ]
  },
  {
   "cell_type": "code",
   "execution_count": 8,
   "id": "05f868b0",
   "metadata": {},
   "outputs": [
    {
     "data": {
      "text/plain": [
       "[1, 3, 2, 5, 4]"
      ]
     },
     "execution_count": 8,
     "metadata": {},
     "output_type": "execute_result"
    }
   ],
   "source": [
    "def remove_duplicates_preserve_order(lst):\n",
    "    \n",
    "    seen = set()\n",
    "    result = []\n",
    "    for i in lst:\n",
    "        if i not in seen:\n",
    "            seen.add(i)\n",
    "            result.append(i)\n",
    "\n",
    "    return result\n",
    "my_list = [1, 3, 2, 2, 1, 5, 4, 3, 5]\n",
    "remove_duplicates_preserve_order(my_list)"
   ]
  },
  {
   "cell_type": "markdown",
   "id": "c80b1e9f",
   "metadata": {},
   "source": [
    "34. Implement a function to find the longest common prefix among a list of strings."
   ]
  },
  {
   "cell_type": "code",
   "execution_count": 19,
   "id": "5105c5b3",
   "metadata": {},
   "outputs": [
    {
     "data": {
      "text/plain": [
       "'fl'"
      ]
     },
     "execution_count": 19,
     "metadata": {},
     "output_type": "execute_result"
    }
   ],
   "source": [
    "def find_longest_common_prefix(strs):\n",
    "   \n",
    "    if not strs:\n",
    "        return \"\"\n",
    "    strs.sort()\n",
    "    first_string = strs[0]\n",
    "    last_string = strs[-1]\n",
    "\n",
    "    prefix = \"\"\n",
    "    for i in range(len(first_string)):\n",
    "        if first_string[i] == last_string[i]:\n",
    "            prefix += first_string[i]\n",
    "        else:\n",
    "            break\n",
    "\n",
    "    return prefix\n",
    "strings = [\"flower\", \"flow\", \"flight\"]\n",
    "find_longest_common_prefix(strings)\n"
   ]
  },
  {
   "cell_type": "markdown",
   "id": "af09a616",
   "metadata": {},
   "source": [
    "35. Write a program to check if a given number is a perfect square.\n"
   ]
  },
  {
   "cell_type": "code",
   "execution_count": 21,
   "id": "c55556ce",
   "metadata": {},
   "outputs": [
    {
     "data": {
      "text/plain": [
       "False"
      ]
     },
     "execution_count": 21,
     "metadata": {},
     "output_type": "execute_result"
    }
   ],
   "source": [
    "def is_perfect_square(number):\n",
    "    if number < 0:\n",
    "        return False\n",
    "    square_root = int(number ** 0.5)\n",
    "    if square_root * square_root == number:\n",
    "        return True\n",
    "    else:\n",
    "        return False\n",
    "\n",
    "num = 18\n",
    "is_perfect_square(num)"
   ]
  },
  {
   "cell_type": "markdown",
   "id": "766e06df",
   "metadata": {},
   "source": [
    "36. Implement a function to calculate the product of all elements in a list."
   ]
  },
  {
   "cell_type": "code",
   "execution_count": 22,
   "id": "b43d4369",
   "metadata": {},
   "outputs": [
    {
     "data": {
      "text/plain": [
       "120"
      ]
     },
     "execution_count": 22,
     "metadata": {},
     "output_type": "execute_result"
    }
   ],
   "source": [
    "def calculate_product(numbers):\n",
    "    product = 1\n",
    "    for num in numbers:\n",
    "        product *= num\n",
    "    return product\n",
    "numbers = [2, 3, 4, 5]\n",
    "calculate_product(numbers)"
   ]
  },
  {
   "cell_type": "markdown",
   "id": "aaabd29e",
   "metadata": {},
   "source": [
    "37. Write a Python program to reverse the order of words in a sentence while preserving the word order."
   ]
  },
  {
   "cell_type": "code",
   "execution_count": 23,
   "id": "46652378",
   "metadata": {},
   "outputs": [
    {
     "data": {
      "text/plain": [
       "'you? are how Hello,'"
      ]
     },
     "execution_count": 23,
     "metadata": {},
     "output_type": "execute_result"
    }
   ],
   "source": [
    "def reverse_words(sentence):\n",
    "    \n",
    "    words = sentence.split()  \n",
    "    reversed_words = words[::-1]  \n",
    "    reversed_sentence = \" \".join(reversed_words)\n",
    "    return reversed_sentence\n",
    "\n",
    "sentence = \"Hello, how are you?\"\n",
    "reverse_words(sentence)"
   ]
  },
  {
   "cell_type": "markdown",
   "id": "df54e015",
   "metadata": {},
   "source": [
    "38. Implement a function to find the missing number in a given list of consecutive numbers."
   ]
  },
  {
   "cell_type": "code",
   "execution_count": 40,
   "id": "a4144d41",
   "metadata": {},
   "outputs": [
    {
     "data": {
      "text/plain": [
       "[5, 6]"
      ]
     },
     "execution_count": 40,
     "metadata": {},
     "output_type": "execute_result"
    }
   ],
   "source": [
    "def find_Missing_Numbers(n):\n",
    "    numbers = set(n)\n",
    "    output = []\n",
    "    for i in range(1, n[-1]):\n",
    "        if i not in numbers:\n",
    "            output.append(i)\n",
    "    return output\n",
    "\n",
    "numbers = [1, 2, 3, 4, 7, 8, 9, 10]\n",
    "find_Missing_Numbers(numbers)"
   ]
  },
  {
   "cell_type": "markdown",
   "id": "04a6ce52",
   "metadata": {},
   "source": [
    "39. Write a program to find the sum of digits of a given number.\n"
   ]
  },
  {
   "cell_type": "code",
   "execution_count": 41,
   "id": "d525b3b0",
   "metadata": {},
   "outputs": [
    {
     "data": {
      "text/plain": [
       "15"
      ]
     },
     "execution_count": 41,
     "metadata": {},
     "output_type": "execute_result"
    }
   ],
   "source": [
    "def sum_of_digits(number):\n",
    "\n",
    "    number_str = str(number)\n",
    "    digit_sum = 0\n",
    "\n",
    "    for digit in number_str:\n",
    "        digit_sum += int(digit)\n",
    "    return digit_sum\n",
    "\n",
    "num = 12345\n",
    "sum_of_digits(num)"
   ]
  },
  {
   "cell_type": "markdown",
   "id": "076912fc",
   "metadata": {},
   "source": [
    "40. Implement a function to check if a given string is a valid palindrome considering case sensitivity."
   ]
  },
  {
   "cell_type": "code",
   "execution_count": 42,
   "id": "5bf0e6c8",
   "metadata": {},
   "outputs": [
    {
     "name": "stdout",
     "output_type": "stream",
     "text": [
      "The string is a palindrome.\n",
      "The string is not a palindrome.\n"
     ]
    }
   ],
   "source": [
    "def check_palindrom(my_str):\n",
    "    my_str = my_str.casefold()\n",
    "    rev_str = reversed(my_str)\n",
    "\n",
    "    if list(my_str) == list(rev_str):\n",
    "        return \"The string is a palindrome.\"\n",
    "    else:\n",
    "        return \"The string is not a palindrome.\"\n",
    "print(check_palindrom('rePapEr'))\n",
    "print(check_palindrom('DEAr'))"
   ]
  },
  {
   "cell_type": "markdown",
   "id": "d8a3f94a",
   "metadata": {},
   "source": [
    "41. Write a Python program to find the smallest missing positive integer in a list."
   ]
  },
  {
   "cell_type": "code",
   "execution_count": 43,
   "id": "7a8c4f42",
   "metadata": {},
   "outputs": [
    {
     "name": "stdout",
     "output_type": "stream",
     "text": [
      "5\n"
     ]
    }
   ],
   "source": [
    "l=[1, 2, 3, 4, 7, 8, 9, 10]\n",
    "for i in range(1, max(l)):\n",
    "    if i not in  l: \n",
    "        break\n",
    "print(i) "
   ]
  },
  {
   "cell_type": "markdown",
   "id": "6db2f64c",
   "metadata": {},
   "source": [
    "42. Implement a function to find the longest palindrome substring in a given string."
   ]
  },
  {
   "cell_type": "code",
   "execution_count": 46,
   "id": "4a5453ca",
   "metadata": {},
   "outputs": [
    {
     "name": "stdout",
     "output_type": "stream",
     "text": [
      "eme\n",
      " a \n",
      "bcb\n"
     ]
    }
   ],
   "source": [
    "def find_longest_palindrome(s):\n",
    "    longest = ''\n",
    "    n = len(s)\n",
    "    for i in range(n):\n",
    "        for j in range(i+1,n+1):\n",
    "            word = s[i:j]\n",
    "            if word == word[::-1]:\n",
    "                if len(word)>len(longest):\n",
    "                    longest = word          \n",
    "    return longest\n",
    "\n",
    "\n",
    "print(find_longest_palindrome('Implement a function '))\n",
    "print(find_longest_palindrome('palindrome substring in a given string'))\n",
    "print(find_longest_palindrome('abcb'))"
   ]
  },
  {
   "cell_type": "markdown",
   "id": "591e02e8",
   "metadata": {},
   "source": [
    "43. Write a program to find the number of occurrences of a given element in a list."
   ]
  },
  {
   "cell_type": "code",
   "execution_count": 51,
   "id": "6f6bff03",
   "metadata": {},
   "outputs": [
    {
     "data": {
      "text/plain": [
       "{2: 2, 3: 1, 4: 1, 5: 3}"
      ]
     },
     "execution_count": 51,
     "metadata": {},
     "output_type": "execute_result"
    }
   ],
   "source": [
    "l=[2,2,3,4,5,5,5]\n",
    "def occurance(l):\n",
    "    return dict((i,l.count(i)) for i in l)\n",
    "occurance(l)"
   ]
  },
  {
   "cell_type": "markdown",
   "id": "09c4335b",
   "metadata": {},
   "source": [
    "44. Implement a function to check if a given number is a perfect number."
   ]
  },
  {
   "cell_type": "code",
   "execution_count": 50,
   "id": "64e7b996",
   "metadata": {},
   "outputs": [
    {
     "data": {
      "text/plain": [
       "True"
      ]
     },
     "execution_count": 50,
     "metadata": {},
     "output_type": "execute_result"
    }
   ],
   "source": [
    "def is_perfect_number(number):\n",
    "\n",
    "    if number <= 0:\n",
    "        return False\n",
    "\n",
    "    divisors = []\n",
    "    for i in range(1, number):\n",
    "        if number % i == 0:\n",
    "            divisors.append(i)\n",
    "    sum_of_divisors = sum(divisors)\n",
    "\n",
    "    return sum_of_divisors == number\n",
    "\n",
    "num = 28\n",
    "is_perfect_number(num)"
   ]
  },
  {
   "cell_type": "markdown",
   "id": "02e99421",
   "metadata": {},
   "source": [
    "45. Write a Python program to remove all duplicates from a string."
   ]
  },
  {
   "cell_type": "code",
   "execution_count": 52,
   "id": "0ec68ac6",
   "metadata": {},
   "outputs": [
    {
     "data": {
      "text/plain": [
       "[2, 3, 4, 5]"
      ]
     },
     "execution_count": 52,
     "metadata": {},
     "output_type": "execute_result"
    }
   ],
   "source": [
    "l=[2,2,3,4,5,5,5]\n",
    "l=set(l)\n",
    "l=list(l)\n",
    "l"
   ]
  },
  {
   "cell_type": "markdown",
   "id": "4be9cd89",
   "metadata": {},
   "source": [
    "46. Implement a function to find the first missing positive"
   ]
  },
  {
   "cell_type": "code",
   "execution_count": 56,
   "id": "df824c21",
   "metadata": {},
   "outputs": [
    {
     "name": "stdout",
     "output_type": "stream",
     "text": [
      "5\n"
     ]
    }
   ],
   "source": [
    "l=[-1,-2,-3,-5,1, 2, 3, 4, 7, 8, 9, 10]\n",
    "for i in range(min(l), max(l)):\n",
    "    if i not in  l and i>0: \n",
    "        break\n",
    "print(i) "
   ]
  },
  {
   "cell_type": "code",
   "execution_count": null,
   "id": "1eb0d609",
   "metadata": {},
   "outputs": [],
   "source": []
  }
 ],
 "metadata": {
  "kernelspec": {
   "display_name": "Python 3 (ipykernel)",
   "language": "python",
   "name": "python3"
  },
  "language_info": {
   "codemirror_mode": {
    "name": "ipython",
    "version": 3
   },
   "file_extension": ".py",
   "mimetype": "text/x-python",
   "name": "python",
   "nbconvert_exporter": "python",
   "pygments_lexer": "ipython3",
   "version": "3.9.7"
  }
 },
 "nbformat": 4,
 "nbformat_minor": 5
}
