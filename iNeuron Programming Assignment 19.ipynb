{
 "cells": [
  {
   "cell_type": "markdown",
   "id": "d34668ad",
   "metadata": {},
   "source": [
    "<b>1.Create a function that takes a string and returns a string in which each character is repeated once.\n",
    "\n",
    "Examples:\n",
    "    \n",
    "double_char(\"String\") ➞ \"SSttrriinngg\"\n",
    "\n",
    "double_char(\"Hello World!\") ➞ \"HHeelllloo WWoorrlldd!!\"\n",
    "\n",
    "doublechar(\"1234!_\") ➞ \"11223344!!__\""
   ]
  },
  {
   "cell_type": "code",
   "execution_count": 2,
   "id": "63533c5a",
   "metadata": {},
   "outputs": [
    {
     "name": "stdout",
     "output_type": "stream",
     "text": [
      "Enter the Character: ineuron\n"
     ]
    },
    {
     "data": {
      "text/plain": [
       "'iinneeuurroonn'"
      ]
     },
     "execution_count": 2,
     "metadata": {},
     "output_type": "execute_result"
    }
   ],
   "source": [
    "def double_char():\n",
    "    input_=input('Enter the Character: ')\n",
    "    dcs= ''\n",
    "    for i in input_:\n",
    "        dcs+=i*2\n",
    "    return dcs\n",
    "double_char()"
   ]
  },
  {
   "cell_type": "markdown",
   "id": "edb65afd",
   "metadata": {},
   "source": [
    "<b>2.Create a function that reverses a boolean value and returns the string \"boolean expected\" if another variable type is given.\n",
    "\n",
    "Examples:\n",
    "    \n",
    "reverse(True) ➞ False\n",
    "\n",
    "reverse(False) ➞ True\n",
    "\n",
    "reverse(0) ➞ \"boolean expected\"\n",
    "\n",
    "reverse(None) ➞ \"boolean expected\""
   ]
  },
  {
   "cell_type": "code",
   "execution_count": 7,
   "id": "596f2bfe",
   "metadata": {},
   "outputs": [
    {
     "name": "stdout",
     "output_type": "stream",
     "text": [
      "False\n",
      "True\n",
      "Boolean expected\n",
      "Boolean expected\n"
     ]
    }
   ],
   "source": [
    "def reverse(bool_):\n",
    "    if type(bool_)==bool:\n",
    "        return not bool_\n",
    "    else:\n",
    "        return 'Boolean expected'\n",
    "\n",
    "print(reverse(True)) # False\n",
    "print(reverse(False)) # True\n",
    "print(reverse(0)) # \"boolean expected\"\n",
    "print(reverse(None)) # \"boolean expected\""
   ]
  },
  {
   "cell_type": "markdown",
   "id": "37d21017",
   "metadata": {},
   "source": [
    "<b>3. Create a function that returns the thickness (in meters) of a piece of paper after folding it n number of times. The paper starts off with a thickness of 0.5mm.\n",
    "\n",
    "Examples:\n",
    "num_layers(1) ➞ \"0.001m\" # Paper folded once is 1mm (equal to 0.001m) \n",
    "\n",
    "num_layers(4) ➞ \"0.008m\" # Paper folded 4 times is 8mm (equal to 0.008m) \n",
    "\n",
    "num_layers(21) ➞ \"1048.576m\" # Paper folded 21 times is 1048576mm (equal to 1048.576m)"
   ]
  },
  {
   "cell_type": "code",
   "execution_count": 29,
   "id": "42d33b84",
   "metadata": {},
   "outputs": [
    {
     "name": "stdout",
     "output_type": "stream",
     "text": [
      "Number of Entries: 3\n",
      "\n",
      "Enter the Layer: 1\n",
      "Thickness is 0.001 meter\n",
      "\n",
      "Enter the Layer: 4\n",
      "Thickness is 0.008 meter\n",
      "\n",
      "Enter the Layer: 21\n",
      "Thickness is 1048.576 meter\n"
     ]
    }
   ],
   "source": [
    "number_of_input=int(input('Number of Entries: '))\n",
    "def thickness_layers():\n",
    "    layer=int(input('\\nEnter the Layer: '))\n",
    "    thickness=0.5\n",
    "    for i in range(layer):\n",
    "        thickness=thickness*2\n",
    "    print(f'Thickness is {thickness/1000} meter')\n",
    "for i in range(number_of_input):\n",
    "    thickness_layers()"
   ]
  },
  {
   "cell_type": "markdown",
   "id": "6b70baa5",
   "metadata": {},
   "source": [
    "<b>4.Create a function that takes a single string as argument and returns an ordered list containing the indices of all capital letters in the string.\n",
    "\n",
    "Examples:\n",
    "index_of_caps(\"eDaBiT\") ➞ [1, 3, 5]\n",
    "\n",
    "index_of_caps(\"eQuINoX\") ➞ [1, 3, 4, 6]\n",
    "\n",
    "index_of_caps(\"determine\") ➞ []\n",
    "\n",
    "index_of_caps(\"STRIKE\") ➞ [0, 1, 2, 3, 4, 5]\n",
    "\n",
    "index_of_caps(\"sUn\") ➞ [1]"
   ]
  },
  {
   "cell_type": "code",
   "execution_count": 42,
   "id": "a8301103",
   "metadata": {},
   "outputs": [
    {
     "name": "stdout",
     "output_type": "stream",
     "text": [
      "Enter the Number of Input: 5\n",
      "\n",
      "Enter the String: eDaBiT\n",
      "Index Of Capsstring is ➞ [1, 3, 5]\n",
      "\n",
      "Enter the String: eQuINoX\n",
      "Index Of Capsstring is ➞ [1, 3, 4, 6]\n",
      "\n",
      "Enter the String: determine\n",
      "Index Of Capsstring is ➞ []\n",
      "\n",
      "Enter the String: STRIKE\n",
      "Index Of Capsstring is ➞ [0, 1, 2, 3, 4, 5]\n",
      "\n",
      "Enter the String: sUn\n",
      "Index Of Capsstring is ➞ [1]\n"
     ]
    }
   ],
   "source": [
    "number_input=int(input('Enter the Number of Input: '))\n",
    "def find_index_upper():\n",
    "    string=input('\\nEnter the String: ')\n",
    "    elist=[]\n",
    "    for i in string:\n",
    "        if i==i.upper():\n",
    "            elist.append(string.index(i))\n",
    "    print(f'Index Of Caps{(\"string\")} is ➞ {elist}')\n",
    "\n",
    "for i in range(number_input):\n",
    "    find_index_upper()"
   ]
  },
  {
   "cell_type": "markdown",
   "id": "ba88496b",
   "metadata": {},
   "source": [
    "<b>5.Using list comprehensions, create a function that finds all even numbers from 1 to the given number.\n",
    "\n",
    "Examples:\n",
    "    \n",
    "find_even_nums(8) ➞ [2, 4, 6, 8]\n",
    "\n",
    "find_even_nums(4) ➞ [2, 4]\n",
    "\n",
    "find_even_nums(2) ➞ [2]"
   ]
  },
  {
   "cell_type": "code",
   "execution_count": 44,
   "id": "7ea98e6c",
   "metadata": {},
   "outputs": [
    {
     "name": "stdout",
     "output_type": "stream",
     "text": [
      "Enter the number of input: 3\n",
      "Enter the number: 8\n",
      "Even Numbers in the range of 8 is ➞  [2, 4, 6, 8]\n",
      "Enter the number: 4\n",
      "Even Numbers in the range of 4 is ➞  [2, 4]\n",
      "Enter the number: 2\n",
      "Even Numbers in the range of 2 is ➞  [2]\n"
     ]
    }
   ],
   "source": [
    "input_=int(input(\"Enter the number of input: \"))\n",
    "def find_even_numbers():\n",
    "    number=int(input(\"Enter the number: \"))\n",
    "    even_numbesr=[i for i in range(1,number+1) if i%2==0]\n",
    "    print(f'Even Numbers in the range of {(number)} is ➞  {even_numbesr}')\n",
    "for i in range(input_):\n",
    "    find_even_numbers()"
   ]
  },
  {
   "cell_type": "code",
   "execution_count": null,
   "id": "d639c78b",
   "metadata": {},
   "outputs": [],
   "source": []
  }
 ],
 "metadata": {
  "kernelspec": {
   "display_name": "Python 3 (ipykernel)",
   "language": "python",
   "name": "python3"
  },
  "language_info": {
   "codemirror_mode": {
    "name": "ipython",
    "version": 3
   },
   "file_extension": ".py",
   "mimetype": "text/x-python",
   "name": "python",
   "nbconvert_exporter": "python",
   "pygments_lexer": "ipython3",
   "version": "3.9.7"
  }
 },
 "nbformat": 4,
 "nbformat_minor": 5
}
