{
 "cells": [
  {
   "cell_type": "markdown",
   "id": "3c25f576",
   "metadata": {},
   "source": [
    "<b>1.Write a function that takes a list and a number as arguments. Add the number to the end of the list, then remove the first element of the list. The function should then return the updated list.\n",
    "\n",
    "Examples:\n",
    "next_in_line([5, 6, 7, 8, 9], 1) ➞ [6, 7, 8, 9, 1]\n",
    "\n",
    "next_in_line([7, 6, 3, 23, 17], 10) ➞ [6, 3, 23, 17, 10]\n",
    "\n",
    "next_in_line([1, 10, 20, 42 ], 6) ➞ [10, 20, 42, 6]\n",
    "\n",
    "next_in_line([], 6) ➞ \"No list has been selected\""
   ]
  },
  {
   "cell_type": "code",
   "execution_count": 16,
   "id": "d9de6ff4",
   "metadata": {},
   "outputs": [
    {
     "name": "stdout",
     "output_type": "stream",
     "text": [
      "[6, 7, 8, 9, 1]\n",
      "No list has been selected\n"
     ]
    }
   ],
   "source": [
    "def next_in_line(list_, num):\n",
    "    if len(list_)>1:\n",
    "        list_.remove(list_[0])\n",
    "        f_list=list_+[num]\n",
    "        print(f_list)\n",
    "    else:\n",
    "        print(\"No list has been selected\")\n",
    "next_in_line([5, 6, 7, 8, 9],1)\n",
    "next_in_line([],2)"
   ]
  },
  {
   "cell_type": "markdown",
   "id": "a21fcc21",
   "metadata": {},
   "source": [
    "<b>2.Create the function that takes a list of dictionaries and returns the sum of people's budgets.\n",
    "\n",
    "Examples:\n",
    "    \n",
    "get_budgets([ { \"name\": \"John\", \"age\": 21, \"budget\": 23000 }, { \"name\": \"Steve\", \"age\": 32, \"budget\": 40000 }, { \"name\": \"Martin\", \"age\": 16, \"budget\": 2700 } ]) ➞ 65700\n",
    "\n",
    "get_budgets([ { \"name\": \"John\", \"age\": 21, \"budget\": 29000 }, { \"name\": \"Steve\", \"age\": 32, \"budget\": 32000 }, { \"name\": \"Martin\", \"age\": 16, \"budget\": 1600 } ]) ➞ 62600"
   ]
  },
  {
   "cell_type": "code",
   "execution_count": 25,
   "id": "cc456f5d",
   "metadata": {},
   "outputs": [
    {
     "name": "stdout",
     "output_type": "stream",
     "text": [
      "65700\n"
     ]
    }
   ],
   "source": [
    "def get_budget(dicts):\n",
    "    List=[]\n",
    "    for i in dic:\n",
    "        for j,k in i.items():\n",
    "            if j=='budget':\n",
    "                List.append(k)\n",
    "    print(sum(List))\n",
    "dic1=[{\"name\": \"John\", \"age\": 21, \"budget\": 23000 }, \n",
    "     {\"name\": \"Steve\", \"age\": 32, \"budget\": 40000 },\n",
    "     {\"name\": \"Martin\", \"age\": 16, \"budget\": 2700 }]\n",
    "get_budget(dic1)"
   ]
  },
  {
   "cell_type": "markdown",
   "id": "5c4cad3c",
   "metadata": {},
   "source": [
    "<b>3.Create a function that takes a string and returns a string with its letters in alphabetical order.\n",
    "\n",
    "Examples:\n",
    "\n",
    "alphabet_soup(\"hello\") ➞ \"ehllo\"\n",
    "\n",
    "alphabet_soup(\"edabit\") ➞ \"abdeit\"\n",
    "\n",
    "alphabet_soup(\"hacker\") ➞ \"acehkr\"\n",
    "\n",
    "alphabet_soup(\"geek\") ➞ \"eegk\"\n",
    "\n",
    "alphabet_soup(\"javascript\") ➞ \"aacijprstv\""
   ]
  },
  {
   "cell_type": "code",
   "execution_count": 39,
   "id": "6ecb77b1",
   "metadata": {},
   "outputs": [
    {
     "name": "stdout",
     "output_type": "stream",
     "text": [
      "ehllo\n",
      "aacijprstv\n"
     ]
    }
   ],
   "source": [
    "def short_alpha(word):\n",
    " \n",
    "    li = []\n",
    "    l = len(word)\n",
    "    for i in range (0,l):\n",
    "        li.append(word[i])\n",
    "\n",
    "\n",
    "    for i in range(0,l):\n",
    "        for j in range(0,l):\n",
    "            if li[i]<li[j]:\n",
    "                li[i],li[j]=li[j],li[i]\n",
    "    j=\"\"\n",
    "\n",
    "    for i in range(0,l):\n",
    "        j = j+li[i]\n",
    "\n",
    "    print(j)\n",
    "    \n",
    "short_alpha('hello')\n",
    "short_alpha('javascript')"
   ]
  },
  {
   "cell_type": "markdown",
   "id": "32b56aef",
   "metadata": {},
   "source": [
    "<b>4.What will be the value of your investment at the end of the 10 year period?\n",
    "\n",
    "Create a function that accepts the principal p, the term in years t, the interest rate r, and the number of compounding periods per year n. The function returns the value at the end of term rounded to the nearest cent.\n",
    "\n",
    "For the example above:\n",
    "\n",
    "compound_interest(10000, 10, 0.06, 12) ➞ 18193.97\n",
    "\n",
    "Note that the interest rate is given as a decimal and n=12 because with monthly compounding there are 12 periods per year. Compounding can also be done annually, quarterly, weekly, or daily.\n",
    "\n",
    "Examples:\n",
    "\n",
    "compound_interest(100, 1, 0.05, 1) ➞ 105.0\n",
    "\n",
    "compound_interest(3500, 15, 0.1, 4) ➞ 15399.26\n",
    "\n",
    "compound_interest(100000, 20, 0.15, 365) ➞ 2007316.26"
   ]
  },
  {
   "cell_type": "code",
   "execution_count": 43,
   "id": "c8383877",
   "metadata": {},
   "outputs": [
    {
     "name": "stdout",
     "output_type": "stream",
     "text": [
      "105.0\n",
      "2007316.26\n"
     ]
    }
   ],
   "source": [
    "def compound_interest(amt, years, intrest, compPeriod):\n",
    "    future_value = amt *(1 + (intrest/compPeriod)) ** (years * compPeriod)\n",
    "    print(round(future_value,2))\n",
    "\n",
    "compound_interest(100, 1, 0.05, 1)\n",
    "compound_interest(100000, 20, 0.15, 365)"
   ]
  },
  {
   "cell_type": "markdown",
   "id": "56761928",
   "metadata": {},
   "source": [
    "<b>5.Write a function that takes a list of elements and returns only the integers.\n",
    "\n",
    "Examples:\n",
    "\n",
    "    return_only_integer([9, 2, \"space\", \"car\", \"lion\", 16]) ➞ [9, 2, 16]\n",
    "\n",
    "    return_only_integer([\"hello\", 81, \"basketball\", 123, \"fox\"]) ➞ [81, 123]\n",
    "\n",
    "    return_only_integer([10, \"121\", 56, 20, \"car\", 3, \"lion\"]) ➞ [10, 56, 20,3]\n",
    "\n",
    "    return_only_integer([\"String\", True, 3.3, 1]) ➞ [1]"
   ]
  },
  {
   "cell_type": "code",
   "execution_count": 45,
   "id": "47d00b53",
   "metadata": {},
   "outputs": [
    {
     "name": "stdout",
     "output_type": "stream",
     "text": [
      "[9, 2, 16]\n",
      "[81, 123]\n",
      "[10, 56, 20, 3]\n",
      "[1]\n"
     ]
    }
   ],
   "source": [
    "def return_only_integer(list):\n",
    "    List = []\n",
    "    for i in list:\n",
    "        if type(i) == int:\n",
    "            List.append(i)\n",
    "    print(List) \n",
    "\n",
    "return_only_integer([9, 2, \"space\", \"car\", \"lion\", 16])\n",
    "return_only_integer([\"hello\", 81, \"basketball\", 123, \"fox\"])\n",
    "return_only_integer([10, \"121\", 56, 20, \"car\", 3, \"lion\"])\n",
    "return_only_integer([\"String\", True, 3.3, 1])"
   ]
  },
  {
   "cell_type": "code",
   "execution_count": null,
   "id": "151a3283",
   "metadata": {},
   "outputs": [],
   "source": []
  }
 ],
 "metadata": {
  "kernelspec": {
   "display_name": "Python 3 (ipykernel)",
   "language": "python",
   "name": "python3"
  },
  "language_info": {
   "codemirror_mode": {
    "name": "ipython",
    "version": 3
   },
   "file_extension": ".py",
   "mimetype": "text/x-python",
   "name": "python",
   "nbconvert_exporter": "python",
   "pygments_lexer": "ipython3",
   "version": "3.9.7"
  }
 },
 "nbformat": 4,
 "nbformat_minor": 5
}
