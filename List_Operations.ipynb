{
 "cells": [
  {
   "cell_type": "markdown",
   "id": "e53fbeb4",
   "metadata": {},
   "source": [
    "1. What exactly is [  ]?\n",
    "\n",
    "Ans. [  ] is a square bracket. It is use to declare lists in Python."
   ]
  },
  {
   "cell_type": "raw",
   "id": "513383ba",
   "metadata": {},
   "source": [
    "2. In a list of values stored in a variable called spam, how would you assign the value 'hello'; as the\n",
    "third value? (Assume [2, 4, 6, 8, 10] are in spam.)"
   ]
  },
  {
   "cell_type": "code",
   "execution_count": 1,
   "id": "67fdc6f6",
   "metadata": {},
   "outputs": [
    {
     "data": {
      "text/plain": [
       "[2, 4, 6, 8, 10, 'hello']"
      ]
     },
     "execution_count": 1,
     "metadata": {},
     "output_type": "execute_result"
    }
   ],
   "source": [
    "spam=[2, 4, 6, 8, 10]\n",
    "spam.append('hello')\n",
    "spam"
   ]
  },
  {
   "cell_type": "markdown",
   "id": "25bac711",
   "metadata": {},
   "source": [
    "# Let's pretend the spam includes the list ['a','b','c','d'] for the next three queries."
   ]
  },
  {
   "cell_type": "raw",
   "id": "3dac8abd",
   "metadata": {},
   "source": [
    "3. What is the value of spam[int(int('3' * 2) / 11)]?\n",
    "\n",
    "The answer should be index 3 of ['a','b','c','d'] which is 'd'.\n",
    "\n",
    "because ('3'*2) will be a string ('33') then int('33') will convert the ('33') into integer number 33.\n",
    "\n",
    "33/11=3. int(3) will be integer number 3 then spam[3]= third index of spam. Here spam is a variable which holds ['a','b','c','d'] so the output is 'd'\n",
    "\n",
    "Lets see the process step by step."
   ]
  },
  {
   "cell_type": "code",
   "execution_count": 2,
   "id": "5b247803",
   "metadata": {},
   "outputs": [],
   "source": [
    "spam=['a','b','c','d']"
   ]
  },
  {
   "cell_type": "code",
   "execution_count": 3,
   "id": "ee09d8f7",
   "metadata": {},
   "outputs": [
    {
     "data": {
      "text/plain": [
       "'33'"
      ]
     },
     "execution_count": 3,
     "metadata": {},
     "output_type": "execute_result"
    }
   ],
   "source": [
    "'3'*2"
   ]
  },
  {
   "cell_type": "code",
   "execution_count": 4,
   "id": "1041bddc",
   "metadata": {},
   "outputs": [
    {
     "data": {
      "text/plain": [
       "33"
      ]
     },
     "execution_count": 4,
     "metadata": {},
     "output_type": "execute_result"
    }
   ],
   "source": [
    "int('33')"
   ]
  },
  {
   "cell_type": "code",
   "execution_count": 6,
   "id": "e76b23be",
   "metadata": {},
   "outputs": [
    {
     "data": {
      "text/plain": [
       "3"
      ]
     },
     "execution_count": 6,
     "metadata": {},
     "output_type": "execute_result"
    }
   ],
   "source": [
    "int(int('3' * 2) / 11)"
   ]
  },
  {
   "cell_type": "code",
   "execution_count": 9,
   "id": "8c3e9639",
   "metadata": {},
   "outputs": [
    {
     "data": {
      "text/plain": [
       "'d'"
      ]
     },
     "execution_count": 9,
     "metadata": {},
     "output_type": "execute_result"
    }
   ],
   "source": [
    "spam[int(int('3' * 2) / 11)]"
   ]
  },
  {
   "cell_type": "raw",
   "id": "735dffcc",
   "metadata": {},
   "source": [
    "4. What is the value of spam[-1]?\n",
    "\n",
    "[-1] indicate the first value of reverse indexing and reverse indexing start with [-1]. \n",
    "\n",
    "The answer should be the first value of a reverse list. \n",
    "\n",
    "Here the list is ['a', 'b', 'c','d']. Here 'd' is the fist value of the reverse list."
   ]
  },
  {
   "cell_type": "raw",
   "id": "1c85913c",
   "metadata": {},
   "source": [
    "5. What is the value of spam[:2]?\n",
    "\n",
    "list[Start index : Last index : Index jump by]\n",
    "\n",
    "Since here first value is empty index 0 will be automatically taken and the last index should be(last index-1) will be 1. ."
   ]
  },
  {
   "cell_type": "code",
   "execution_count": 10,
   "id": "6b1e9adb",
   "metadata": {},
   "outputs": [
    {
     "data": {
      "text/plain": [
       "['a', 'b']"
      ]
     },
     "execution_count": 10,
     "metadata": {},
     "output_type": "execute_result"
    }
   ],
   "source": [
    "spam[:2]"
   ]
  },
  {
   "cell_type": "markdown",
   "id": "37af8ead",
   "metadata": {},
   "source": [
    "# Let's pretend bacon has the list [3.14, 'cat', 11, 'cat', True] for the next three questions."
   ]
  },
  {
   "cell_type": "raw",
   "id": "d0c3842e",
   "metadata": {},
   "source": [
    "6. What is the value of bacon.index('cat')?\n",
    "\n",
    "since we have two 'cat' inside the list it will always show the index of fist out of all elements 'cat'. So the answer will be 1."
   ]
  },
  {
   "cell_type": "code",
   "execution_count": 31,
   "id": "826ecffa",
   "metadata": {},
   "outputs": [
    {
     "data": {
      "text/plain": [
       "1"
      ]
     },
     "execution_count": 31,
     "metadata": {},
     "output_type": "execute_result"
    }
   ],
   "source": [
    "bacon=[3.14, 'cat', 11, 'cat', True]\n",
    "bacon.index('cat')"
   ]
  },
  {
   "cell_type": "raw",
   "id": "a1b9d74f",
   "metadata": {},
   "source": [
    "7. How does bacon.append(99) change the look of the list value in bacon?\n",
    "\n",
    "--> .append(99) will always add the value in the list after the last index of the existing list."
   ]
  },
  {
   "cell_type": "code",
   "execution_count": 32,
   "id": "4bbe484c",
   "metadata": {},
   "outputs": [],
   "source": [
    "bacon.append(99)"
   ]
  },
  {
   "cell_type": "code",
   "execution_count": 33,
   "id": "0f1661ea",
   "metadata": {},
   "outputs": [
    {
     "data": {
      "text/plain": [
       "[3.14, 'cat', 11, 'cat', True, 99]"
      ]
     },
     "execution_count": 33,
     "metadata": {},
     "output_type": "execute_result"
    }
   ],
   "source": [
    "bacon"
   ]
  },
  {
   "cell_type": "raw",
   "id": "7844fce0",
   "metadata": {},
   "source": [
    "8. How does bacon.remove('cat') change the look of the list in bacon?\n",
    "\n",
    "-->.remove will only remove the string 'cat' which comes first index wise."
   ]
  },
  {
   "cell_type": "code",
   "execution_count": 34,
   "id": "b8d0c21e",
   "metadata": {},
   "outputs": [],
   "source": [
    "bacon.remove('cat')"
   ]
  },
  {
   "cell_type": "code",
   "execution_count": 35,
   "id": "769202c4",
   "metadata": {},
   "outputs": [
    {
     "data": {
      "text/plain": [
       "[3.14, 11, 'cat', True, 99]"
      ]
     },
     "execution_count": 35,
     "metadata": {},
     "output_type": "execute_result"
    }
   ],
   "source": [
    "bacon"
   ]
  },
  {
   "cell_type": "raw",
   "id": "84ae72c0",
   "metadata": {},
   "source": [
    "9. What are the list concatenation and list replication operators?\n",
    "\n",
    "--> list concatenation operators are .append(), .extend(), .insert() and * is a replication operator in list.\n"
   ]
  },
  {
   "cell_type": "raw",
   "id": "6eab68e4",
   "metadata": {},
   "source": [
    "10. What is difference between the list methods append() and insert()?\n",
    "\n",
    "--> With the help append one can add value in a list at the end and with insert one can insert value\n",
    "    index wise.\n",
    "    \n",
    "    examples are : "
   ]
  },
  {
   "cell_type": "code",
   "execution_count": 36,
   "id": "5d8a5e1b",
   "metadata": {},
   "outputs": [
    {
     "data": {
      "text/plain": [
       "[3.14, 11, 'cat', True, 99]"
      ]
     },
     "execution_count": 36,
     "metadata": {},
     "output_type": "execute_result"
    }
   ],
   "source": [
    "bacon"
   ]
  },
  {
   "cell_type": "code",
   "execution_count": 38,
   "id": "481a7812",
   "metadata": {},
   "outputs": [],
   "source": [
    "bacon.append('python')"
   ]
  },
  {
   "cell_type": "code",
   "execution_count": 39,
   "id": "454e1bf9",
   "metadata": {},
   "outputs": [
    {
     "data": {
      "text/plain": [
       "[3.14, 11, 'cat', True, 99, 'python']"
      ]
     },
     "execution_count": 39,
     "metadata": {},
     "output_type": "execute_result"
    }
   ],
   "source": [
    "bacon"
   ]
  },
  {
   "cell_type": "code",
   "execution_count": 40,
   "id": "48950f1e",
   "metadata": {},
   "outputs": [
    {
     "data": {
      "text/plain": [
       "['python', 3.14, 11, 'cat', True, 99, 'python']"
      ]
     },
     "execution_count": 40,
     "metadata": {},
     "output_type": "execute_result"
    }
   ],
   "source": [
    "bacon.insert(0,'python')\n",
    "bacon"
   ]
  },
  {
   "cell_type": "raw",
   "id": "07ffeaec",
   "metadata": {},
   "source": [
    "11. What are the two methods for removing items from a list?\n",
    "\n",
    "-->.pop() and .remove() are two syntaxes to emove elements from list.\n",
    "\n",
    "   we have to call index in .pop() and in .remove() we have to call the particular element\n",
    "   \n",
    "   lets see the exampale."
   ]
  },
  {
   "cell_type": "code",
   "execution_count": 41,
   "id": "652df8f8",
   "metadata": {},
   "outputs": [
    {
     "data": {
      "text/plain": [
       "['python', 3.14, 11, 'cat', True, 99, 'python']"
      ]
     },
     "execution_count": 41,
     "metadata": {},
     "output_type": "execute_result"
    }
   ],
   "source": [
    "bacon"
   ]
  },
  {
   "cell_type": "code",
   "execution_count": 42,
   "id": "45d64ba6",
   "metadata": {},
   "outputs": [
    {
     "data": {
      "text/plain": [
       "[3.14, 11, 'cat', True, 99, 'python']"
      ]
     },
     "execution_count": 42,
     "metadata": {},
     "output_type": "execute_result"
    }
   ],
   "source": [
    "bacon.pop(0)\n",
    "bacon"
   ]
  },
  {
   "cell_type": "code",
   "execution_count": 44,
   "id": "c8cda247",
   "metadata": {},
   "outputs": [],
   "source": [
    "bacon.remove('python')"
   ]
  },
  {
   "cell_type": "code",
   "execution_count": 45,
   "id": "8736a37a",
   "metadata": {},
   "outputs": [
    {
     "data": {
      "text/plain": [
       "[3.14, 11, 'cat', True, 99]"
      ]
     },
     "execution_count": 45,
     "metadata": {},
     "output_type": "execute_result"
    }
   ],
   "source": [
    "bacon"
   ]
  },
  {
   "cell_type": "raw",
   "id": "bbaab2f5",
   "metadata": {},
   "source": [
    "12. Describe how list values and string values are identical.\n",
    "\n",
    "-->lists are mutable and strings are immutable.\n",
    "   A list can hold different data types and string can only hold 'character'"
   ]
  },
  {
   "cell_type": "raw",
   "id": "f0d9fc0f",
   "metadata": {},
   "source": [
    "13. What's the difference between tuples and lists?\n",
    "\n",
    "--> 1. A list is defined inside a square bracket [ ] and a tuple defined inside round cracket( )\n",
    "    2. List is mutable but tuple is immutable.\n",
    "    3. List consume more memory space than tuples.\n",
    "    4. Iteration in tuple is faster than list"
   ]
  },
  {
   "cell_type": "raw",
   "id": "55d78e50",
   "metadata": {},
   "source": [
    "14. How do you type a tuple value that only contains the integer 42?\n",
    "\n",
    "--> When we have a single value, in the round bracket if we writ the value and then writw a comma ','\n",
    "    it will return data type as tuple."
   ]
  },
  {
   "cell_type": "code",
   "execution_count": 46,
   "id": "b6321f2c",
   "metadata": {},
   "outputs": [
    {
     "data": {
      "text/plain": [
       "int"
      ]
     },
     "execution_count": 46,
     "metadata": {},
     "output_type": "execute_result"
    }
   ],
   "source": [
    "a=(42)\n",
    "type(a)"
   ]
  },
  {
   "cell_type": "code",
   "execution_count": 47,
   "id": "139038d3",
   "metadata": {},
   "outputs": [
    {
     "data": {
      "text/plain": [
       "tuple"
      ]
     },
     "execution_count": 47,
     "metadata": {},
     "output_type": "execute_result"
    }
   ],
   "source": [
    "a=(42,)\n",
    "type(a)"
   ]
  },
  {
   "cell_type": "code",
   "execution_count": null,
   "id": "4f3ea37a",
   "metadata": {},
   "outputs": [],
   "source": [
    "15. How do you get a list value in form of tuple and tuple value form of a list?"
   ]
  },
  {
   "cell_type": "code",
   "execution_count": 55,
   "id": "065dd206",
   "metadata": {},
   "outputs": [
    {
     "data": {
      "text/plain": [
       "list"
      ]
     },
     "execution_count": 55,
     "metadata": {},
     "output_type": "execute_result"
    }
   ],
   "source": [
    "bacon=[3.14, 'cat', 11, 'cat', True]\n",
    "type(bacon)"
   ]
  },
  {
   "cell_type": "code",
   "execution_count": 56,
   "id": "3ebafe0f",
   "metadata": {},
   "outputs": [
    {
     "data": {
      "text/plain": [
       "tuple"
      ]
     },
     "execution_count": 56,
     "metadata": {},
     "output_type": "execute_result"
    }
   ],
   "source": [
    "Change_to_Tuple=tuple(bacon)\n",
    "type(Change_to_Tuple)"
   ]
  },
  {
   "cell_type": "code",
   "execution_count": 57,
   "id": "243055f1",
   "metadata": {},
   "outputs": [
    {
     "data": {
      "text/plain": [
       "tuple"
      ]
     },
     "execution_count": 57,
     "metadata": {},
     "output_type": "execute_result"
    }
   ],
   "source": [
    "bacon=(3.14, 'cat', 11, 'cat', True)\n",
    "type(bacon)"
   ]
  },
  {
   "cell_type": "code",
   "execution_count": 58,
   "id": "1f5543f5",
   "metadata": {},
   "outputs": [
    {
     "data": {
      "text/plain": [
       "list"
      ]
     },
     "execution_count": 58,
     "metadata": {},
     "output_type": "execute_result"
    }
   ],
   "source": [
    "Change_to_list=list(bacon)\n",
    "type(Change_to_list)"
   ]
  },
  {
   "cell_type": "raw",
   "id": "e4ef10fd",
   "metadata": {},
   "source": [
    "16. Variables that &quot;contain&quot; list values are not necessarily lists themselves. Instead, what do they\n",
    "    contain?\n",
    "    \n",
    "--> A list contains elements."
   ]
  },
  {
   "cell_type": "raw",
   "id": "52d41510",
   "metadata": {},
   "source": [
    "17. How do you distinguish between copy.copy() and copy.deepcopy()?\n",
    "\n",
    "-->shallow copy dosen't allow to change element value in original list but dosen't work in nested list while copy.deepcopy do now allow to change value in nested list as well"
   ]
  },
  {
   "cell_type": "code",
   "execution_count": 1,
   "id": "3fdd2e52",
   "metadata": {},
   "outputs": [],
   "source": [
    "value=[1,2,3,4,5]"
   ]
  },
  {
   "cell_type": "code",
   "execution_count": 2,
   "id": "69e14e07",
   "metadata": {},
   "outputs": [],
   "source": [
    "value[4]=10"
   ]
  },
  {
   "cell_type": "code",
   "execution_count": 3,
   "id": "54dcec24",
   "metadata": {},
   "outputs": [
    {
     "data": {
      "text/plain": [
       "[1, 2, 3, 4, 10]"
      ]
     },
     "execution_count": 3,
     "metadata": {},
     "output_type": "execute_result"
    }
   ],
   "source": [
    "value"
   ]
  },
  {
   "cell_type": "code",
   "execution_count": 5,
   "id": "47a35cdc",
   "metadata": {},
   "outputs": [],
   "source": [
    "value2=value.copy()"
   ]
  },
  {
   "cell_type": "code",
   "execution_count": 6,
   "id": "b2595c62",
   "metadata": {},
   "outputs": [
    {
     "data": {
      "text/plain": [
       "[1, 2, 3, 4, 10]"
      ]
     },
     "execution_count": 6,
     "metadata": {},
     "output_type": "execute_result"
    }
   ],
   "source": [
    "value2"
   ]
  },
  {
   "cell_type": "code",
   "execution_count": 7,
   "id": "95cbfd4d",
   "metadata": {},
   "outputs": [
    {
     "data": {
      "text/plain": [
       "[1, 2, 3, 4, 500]"
      ]
     },
     "execution_count": 7,
     "metadata": {},
     "output_type": "execute_result"
    }
   ],
   "source": [
    "value2[4]=500"
   ]
  },
  {
   "cell_type": "code",
   "execution_count": 9,
   "id": "3a5a6350",
   "metadata": {},
   "outputs": [
    {
     "data": {
      "text/plain": [
       "([1, 2, 3, 4, 500], [1, 2, 3, 4, 10])"
      ]
     },
     "execution_count": 9,
     "metadata": {},
     "output_type": "execute_result"
    }
   ],
   "source": [
    "value2, value"
   ]
  },
  {
   "cell_type": "code",
   "execution_count": 11,
   "id": "933a218d",
   "metadata": {},
   "outputs": [],
   "source": [
    "value3=[[1,2,3,4], [9,8,7,6,5]]\n",
    "value4=value3.copy()"
   ]
  },
  {
   "cell_type": "code",
   "execution_count": 12,
   "id": "5526a34b",
   "metadata": {},
   "outputs": [
    {
     "data": {
      "text/plain": [
       "[[1, 2, 3, 4], [9, 8, 7, 6, 100]]"
      ]
     },
     "execution_count": 12,
     "metadata": {},
     "output_type": "execute_result"
    }
   ],
   "source": [
    "value4[1][4]=100\n",
    "value4"
   ]
  },
  {
   "cell_type": "code",
   "execution_count": 13,
   "id": "9f8b1aa1",
   "metadata": {},
   "outputs": [
    {
     "data": {
      "text/plain": [
       "([[1, 2, 3, 4], [9, 8, 7, 6, 100]], [[1, 2, 3, 4], [9, 8, 7, 6, 100]])"
      ]
     },
     "execution_count": 13,
     "metadata": {},
     "output_type": "execute_result"
    }
   ],
   "source": [
    "value4, value3"
   ]
  },
  {
   "cell_type": "code",
   "execution_count": 16,
   "id": "35a4940b",
   "metadata": {},
   "outputs": [],
   "source": [
    "import copy\n",
    "value3=[[1,2,3,4], [9,8,7,6,5]]\n",
    "value5=copy.deepcopy(value3)"
   ]
  },
  {
   "cell_type": "code",
   "execution_count": 17,
   "id": "ee3a4b0a",
   "metadata": {},
   "outputs": [
    {
     "data": {
      "text/plain": [
       "[[1, 2, 3, 4], [9, 8, 7, 6, 100]]"
      ]
     },
     "execution_count": 17,
     "metadata": {},
     "output_type": "execute_result"
    }
   ],
   "source": [
    "value5[1][4]=100\n",
    "value5"
   ]
  },
  {
   "cell_type": "code",
   "execution_count": 18,
   "id": "d5fa1a4d",
   "metadata": {},
   "outputs": [
    {
     "data": {
      "text/plain": [
       "([[1, 2, 3, 4], [9, 8, 7, 6, 100]], [[1, 2, 3, 4], [9, 8, 7, 6, 5]])"
      ]
     },
     "execution_count": 18,
     "metadata": {},
     "output_type": "execute_result"
    }
   ],
   "source": [
    "value5,value3"
   ]
  },
  {
   "cell_type": "code",
   "execution_count": null,
   "id": "4dc95362",
   "metadata": {},
   "outputs": [],
   "source": []
  }
 ],
 "metadata": {
  "kernelspec": {
   "display_name": "Python 3 (ipykernel)",
   "language": "python",
   "name": "python3"
  },
  "language_info": {
   "codemirror_mode": {
    "name": "ipython",
    "version": 3
   },
   "file_extension": ".py",
   "mimetype": "text/x-python",
   "name": "python",
   "nbconvert_exporter": "python",
   "pygments_lexer": "ipython3",
   "version": "3.9.7"
  }
 },
 "nbformat": 4,
 "nbformat_minor": 5
}
