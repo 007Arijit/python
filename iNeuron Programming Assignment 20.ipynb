{
 "cells": [
  {
   "cell_type": "markdown",
   "id": "25437d2f",
   "metadata": {},
   "source": [
    "<b>1.Create a function that takes a list of strings and integers, and filters out the list so that it returns a list of integers only.\n",
    "\n",
    "Examples:\n",
    "\n",
    "filter_list([1, 2, 3, \"a\", \"b\", 4]) ➞ [1, 2, 3, 4]\n",
    "\n",
    "filter_list([\"A\", 0, \"Edabit\", 1729, \"Python\", \"1729\"]) ➞ [0, 1729]\n",
    "\n",
    "filter_list([\"Nothing\", \"here\"]) ➞ []"
   ]
  },
  {
   "cell_type": "code",
   "execution_count": 2,
   "id": "13443a85",
   "metadata": {},
   "outputs": [
    {
     "name": "stdout",
     "output_type": "stream",
     "text": [
      "Enthe the list: 1, 2, 3, \"a\", \"b\", 4\n",
      "[1, 2, 3, 4]\n"
     ]
    }
   ],
   "source": [
    "def int_from_list():\n",
    "    list_=eval(input('Enthe the list: '))\n",
    "    elist=[]\n",
    "    for i in list_:\n",
    "        if type(i)==int:\n",
    "            elist.append(i)\n",
    "    print(elist)\n",
    "int_from_list()"
   ]
  },
  {
   "cell_type": "markdown",
   "id": "c2f37c89",
   "metadata": {},
   "source": [
    "<b>2.Given a list of numbers, create a function which returns the list but with each element's index in the list added to itself. This means you add 0 to the number at index 0, add 1 to the number at index 1, etc...\n",
    "\n",
    "Examples:\n",
    "    \n",
    "add_indexes([0, 0, 0, 0, 0]) ➞ [0, 1, 2, 3, 4]\n",
    "\n",
    "add_indexes([1, 2, 3, 4, 5]) ➞ [1, 3, 5, 7, 9]\n",
    "\n",
    "add_indexes([5, 4, 3, 2, 1]) ➞ [5, 5, 5, 5, 5]"
   ]
  },
  {
   "cell_type": "code",
   "execution_count": 17,
   "id": "3301db68",
   "metadata": {},
   "outputs": [
    {
     "name": "stdout",
     "output_type": "stream",
     "text": [
      "[1, 3, 5, 7, 9]\n",
      "[5, 5, 5, 5, 5]\n"
     ]
    }
   ],
   "source": [
    "def add_index_ele(list_):\n",
    "    sum_of_inde_ele=[]\n",
    "\n",
    "    for i in range(len(list_)):\n",
    "        sum_of_inde_ele.append(i+list_[i])\n",
    "    print(sum_of_inde_ele)\n",
    "add_index_ele([1, 2, 3, 4, 5])\n",
    "add_index_ele([1, 2, 3, 4, 5][::-1])"
   ]
  },
  {
   "cell_type": "markdown",
   "id": "1d469858",
   "metadata": {},
   "source": [
    "<b>3.Create a function that takes the height and radius of a cone as arguments and returns the volume of the cone rounded to the nearest hundredth. See the resources tab for the formula.\n",
    "\n",
    "Examples:\n",
    "    \n",
    "cone_volume(3, 2) ➞ 12.57\n",
    "\n",
    "cone_volume(15, 6) ➞ 565.49\n",
    "\n",
    "cone_volume(18, 0) ➞ 0\n"
   ]
  },
  {
   "cell_type": "code",
   "execution_count": 24,
   "id": "21719e23",
   "metadata": {},
   "outputs": [
    {
     "name": "stdout",
     "output_type": "stream",
     "text": [
      "12.57\n",
      "565.49\n"
     ]
    }
   ],
   "source": [
    "import math\n",
    "pi = math.pi\n",
    " \n",
    "def cone_volume(height,radius):\n",
    "    return round(( pi * pow(radius,2) * height/3),2)\n",
    "print(cone_volume(3,2))\n",
    "print(cone_volume(15, 6))"
   ]
  },
  {
   "cell_type": "markdown",
   "id": "acbbf629",
   "metadata": {},
   "source": [
    "<b>4.This Triangular Number Sequence is generated from a pattern of dots that form a triangle.\n",
    "\n",
    "The first 5 numbers of the sequence, or dots, are: 1, 3, 6, 10, 15\n",
    "    \n",
    "This means that the first triangle has just one dot, the second one has three dots, the third one has 6 dots and so on. Write a function that gives the number of dots with its corresponding triangle number of the sequence.\n",
    "\n",
    "Examples:\n",
    "    \n",
    "triangle(1) ➞ 1\n",
    "\n",
    "triangle(6) ➞ 21\n",
    "\n",
    "triangle(215) ➞ 23220"
   ]
  },
  {
   "cell_type": "code",
   "execution_count": 27,
   "id": "6cab4d7b",
   "metadata": {},
   "outputs": [
    {
     "name": "stdout",
     "output_type": "stream",
     "text": [
      "1\n",
      "3\n",
      "6\n",
      "10\n",
      "15\n",
      "21\n",
      "23220\n"
     ]
    }
   ],
   "source": [
    "def triangle(n):\n",
    "    return (n*(n+1))/2\n",
    "\n",
    "print(int(triangle(1)))\n",
    "print(int(triangle(2)))\n",
    "print(int(triangle(3)))\n",
    "print(int(triangle(4)))\n",
    "print(int(triangle(5)))\n",
    "print(int(triangle(6)))\n",
    "print(int(triangle(215)))"
   ]
  },
  {
   "cell_type": "markdown",
   "id": "3f4d073a",
   "metadata": {},
   "source": [
    "<b>5.Create a function that takes a list of numbers between 1 and 10 (excluding one number) and returns the missing number.\n",
    "\n",
    "Examples\n",
    "\n",
    "missing_num([1, 2, 3, 4, 6, 7, 8, 9, 10]) ➞ 5\n",
    "\n",
    "missing_num([7, 2, 3, 6, 5, 9, 1, 4, 8]) ➞ 10\n",
    "\n",
    "missing_num([10, 5, 1, 2, 4, 6, 8, 3, 9]) ➞ 7"
   ]
  },
  {
   "cell_type": "code",
   "execution_count": 69,
   "id": "0abb3385",
   "metadata": {},
   "outputs": [
    {
     "name": "stdout",
     "output_type": "stream",
     "text": [
      "[5]\n"
     ]
    }
   ],
   "source": [
    "def find_the_missing(list_):\n",
    "    list1=[]\n",
    "    for i in range(1, 11):\n",
    "        if i not in list_:\n",
    "            list1.append(i)\n",
    "    print(list1)\n",
    "\n",
    "list=[1, 2, 3, 4, 6, 7, 8, 9, 10,12,14,15]\n",
    "find_the_missing(list)"
   ]
  },
  {
   "cell_type": "code",
   "execution_count": 70,
   "id": "367e9529",
   "metadata": {},
   "outputs": [
    {
     "name": "stdout",
     "output_type": "stream",
     "text": [
      "[10]\n"
     ]
    }
   ],
   "source": [
    "find_the_missing([7, 2, 3, 6, 5, 9, 1, 4, 8])"
   ]
  },
  {
   "cell_type": "code",
   "execution_count": null,
   "id": "6ad679a7",
   "metadata": {},
   "outputs": [],
   "source": []
  }
 ],
 "metadata": {
  "kernelspec": {
   "display_name": "Python 3 (ipykernel)",
   "language": "python",
   "name": "python3"
  },
  "language_info": {
   "codemirror_mode": {
    "name": "ipython",
    "version": 3
   },
   "file_extension": ".py",
   "mimetype": "text/x-python",
   "name": "python",
   "nbconvert_exporter": "python",
   "pygments_lexer": "ipython3",
   "version": "3.9.7"
  }
 },
 "nbformat": 4,
 "nbformat_minor": 5
}
