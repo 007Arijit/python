{
 "cells": [
  {
   "cell_type": "markdown",
   "id": "12f125e5",
   "metadata": {},
   "source": [
    "1. What is the result of the code, and explain?"
   ]
  },
  {
   "cell_type": "code",
   "execution_count": 2,
   "id": "afa1ebcc",
   "metadata": {},
   "outputs": [
    {
     "name": "stdout",
     "output_type": "stream",
     "text": [
      "iNeuron\n"
     ]
    }
   ],
   "source": [
    ">>> X = 'iNeuron'\n",
    ">>> def func():\n",
    "        print(X)\n",
    ">>> func()"
   ]
  },
  {
   "cell_type": "raw",
   "id": "cb4eb0d1",
   "metadata": {},
   "source": [
    "Ans: The answer is 'iNeuron' because there is no local variable x that's why function i'll print the x value of global variable"
   ]
  },
  {
   "cell_type": "markdown",
   "id": "61b70063",
   "metadata": {},
   "source": [
    "2. What is the result of the code, and explain?\n",
    "\n",
    "X = 'iNeuron'\n",
    "\n",
    "def func():\n",
    "\n",
    "X = 'NI!'\n",
    "\n",
    "func()\n",
    "\n",
    "print(X)"
   ]
  },
  {
   "cell_type": "raw",
   "id": "fcb81872",
   "metadata": {},
   "source": [
    "Ans: The answer is iNeuron because there in no print statement inside the function tht's why print statement will print the value of global variable."
   ]
  },
  {
   "cell_type": "code",
   "execution_count": 3,
   "id": "90f83ec4",
   "metadata": {},
   "outputs": [
    {
     "name": "stdout",
     "output_type": "stream",
     "text": [
      "iNeuron\n"
     ]
    }
   ],
   "source": [
    ">>> X = 'iNeuron'\n",
    ">>> def func():\n",
    "        X = 'NI!'\n",
    ">>> func()\n",
    ">>> print(X)"
   ]
  },
  {
   "cell_type": "markdown",
   "id": "b000a81c",
   "metadata": {},
   "source": [
    "3. What does this code print, and why?\n",
    "\n",
    "X = 'iNeuron'\n",
    "\n",
    "def func():\n",
    "\n",
    "    X = 'NI'\n",
    "    \n",
    "    print(X)\n",
    "    \n",
    "func()\n",
    "\n",
    "print(X)"
   ]
  },
  {
   "cell_type": "raw",
   "id": "ff79ef82",
   "metadata": {},
   "source": [
    "Ans:  First print option inside the function will print the value of local variable which is 'NI' and the print statement outside the loop will print the value of global variable which is 'iNeuron'."
   ]
  },
  {
   "cell_type": "code",
   "execution_count": 4,
   "id": "18f703ee",
   "metadata": {},
   "outputs": [
    {
     "name": "stdout",
     "output_type": "stream",
     "text": [
      "NI\n",
      "iNeuron\n"
     ]
    }
   ],
   "source": [
    ">>> X = 'iNeuron'\n",
    ">>> def func():\n",
    "        X = 'NI'\n",
    "        print(X)\n",
    ">>> func()\n",
    ">>> print(X)"
   ]
  },
  {
   "cell_type": "markdown",
   "id": "cdcde2d1",
   "metadata": {},
   "source": [
    "4. What output does this code produce? Why?\n",
    "\n",
    "X = 'iNeuron'\n",
    "\n",
    "def func():\n",
    "\n",
    "    global X\n",
    "\n",
    "    X = 'NI'\n",
    "\n",
    "func()\n",
    "\n",
    "print(X)\n"
   ]
  },
  {
   "cell_type": "raw",
   "id": "e5df8715",
   "metadata": {},
   "source": [
    "Ans: Global x will replace the value of Global varible 'iNeuron' with the local variable value 'NI'"
   ]
  },
  {
   "cell_type": "code",
   "execution_count": 5,
   "id": "e0f6a22e",
   "metadata": {},
   "outputs": [
    {
     "name": "stdout",
     "output_type": "stream",
     "text": [
      "NI\n"
     ]
    }
   ],
   "source": [
    "X = 'iNeuron'\n",
    "\n",
    "def func():\n",
    "    global X\n",
    "    X = 'NI'\n",
    "func()\n",
    "print(X)"
   ]
  },
  {
   "cell_type": "markdown",
   "id": "1483b242",
   "metadata": {},
   "source": [
    "5. What about this code—what’s the output, and why?\n",
    "\n",
    "X = 'iNeuron'\n",
    "\n",
    "def func():\n",
    "    \n",
    "    X = 'NI'\n",
    "    \n",
    "    def nested():\n",
    "        \n",
    "        print(X)\n",
    "        \n",
    "    nested()\n",
    "    \n",
    "func()\n",
    "\n",
    "X"
   ]
  },
  {
   "cell_type": "markdown",
   "id": "de6ebef4",
   "metadata": {},
   "source": [
    "Ans: nested() function will parint the value of local variable X which is 'NI' and after 'iNeuron' for calling the X variable at the end."
   ]
  },
  {
   "cell_type": "code",
   "execution_count": 8,
   "id": "de557095",
   "metadata": {},
   "outputs": [
    {
     "name": "stdout",
     "output_type": "stream",
     "text": [
      "NI\n"
     ]
    },
    {
     "data": {
      "text/plain": [
       "'iNeuron'"
      ]
     },
     "execution_count": 8,
     "metadata": {},
     "output_type": "execute_result"
    }
   ],
   "source": [
    "X = 'iNeuron'\n",
    "def func():\n",
    "    X = 'NI'\n",
    "    def nested():\n",
    "        print(X)\n",
    "    nested()\n",
    "func()\n",
    "X"
   ]
  },
  {
   "cell_type": "markdown",
   "id": "0b3e4a40",
   "metadata": {},
   "source": [
    "6. How about this code: what is its output in Python 3, and explain?\n",
    "    \n",
    "def func():\n",
    "    \n",
    "    X = 'NI'\n",
    "\n",
    "    def nested():\n",
    "    \n",
    "        nonlocal X\n",
    "\n",
    "        X = 'Spam'\n",
    "\n",
    "    nested()\n",
    "\n",
    "print(X)\n",
    "\n",
    "func()"
   ]
  },
  {
   "cell_type": "code",
   "execution_count": 10,
   "id": "fc3dc6af",
   "metadata": {},
   "outputs": [
    {
     "name": "stdout",
     "output_type": "stream",
     "text": [
      "Spam\n"
     ]
    }
   ],
   "source": [
    "def func():\n",
    "    X = 'NI'\n",
    "    def nested():\n",
    "        nonlocal X\n",
    "        X = 'Spam'\n",
    "    nested()\n",
    "    print(X)\n",
    "func()"
   ]
  },
  {
   "cell_type": "raw",
   "id": "e54d4c12",
   "metadata": {},
   "source": [
    "Ans: The output of the code is Spam. nonlocal keyword in python is used to declare a variable as not local.Hence the statement \n",
    "X = \"Spam\" is modified in the global scope. hence the output of print(X) statement is Spam"
   ]
  },
  {
   "cell_type": "code",
   "execution_count": null,
   "id": "ad364c0a",
   "metadata": {},
   "outputs": [],
   "source": []
  }
 ],
 "metadata": {
  "kernelspec": {
   "display_name": "Python 3 (ipykernel)",
   "language": "python",
   "name": "python3"
  },
  "language_info": {
   "codemirror_mode": {
    "name": "ipython",
    "version": 3
   },
   "file_extension": ".py",
   "mimetype": "text/x-python",
   "name": "python",
   "nbconvert_exporter": "python",
   "pygments_lexer": "ipython3",
   "version": "3.9.7"
  }
 },
 "nbformat": 4,
 "nbformat_minor": 5
}
