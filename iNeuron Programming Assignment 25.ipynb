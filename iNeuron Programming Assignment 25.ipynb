{
 "cells": [
  {
   "cell_type": "markdown",
   "id": "ec4fabb2",
   "metadata": {},
   "source": [
    "<b>Question1: \n",
    "    \n",
    "Create a function that takes three integer arguments (a, b, c) and returns the amount of\n",
    "integers which are of equal value."
   ]
  },
  {
   "cell_type": "code",
   "execution_count": 1,
   "id": "aaf22694",
   "metadata": {},
   "outputs": [],
   "source": [
    "n=0\n",
    "def math(a,b,c):\n",
    "    if a==b and a==c:\n",
    "        print(3)\n",
    "    elif a==b or a==c:\n",
    "        print(2)\n",
    "    else:\n",
    "        print(0)"
   ]
  },
  {
   "cell_type": "code",
   "execution_count": 2,
   "id": "36af2275",
   "metadata": {},
   "outputs": [
    {
     "name": "stdout",
     "output_type": "stream",
     "text": [
      "2\n"
     ]
    }
   ],
   "source": [
    "math(3,4,3)"
   ]
  },
  {
   "cell_type": "code",
   "execution_count": 3,
   "id": "a5e186d8",
   "metadata": {},
   "outputs": [
    {
     "name": "stdout",
     "output_type": "stream",
     "text": [
      "3\n"
     ]
    }
   ],
   "source": [
    "math(1,1,1)"
   ]
  },
  {
   "cell_type": "code",
   "execution_count": 4,
   "id": "ae4b47d4",
   "metadata": {},
   "outputs": [
    {
     "name": "stdout",
     "output_type": "stream",
     "text": [
      "0\n"
     ]
    }
   ],
   "source": [
    "math(3,4,1)"
   ]
  },
  {
   "cell_type": "markdown",
   "id": "9e117f55",
   "metadata": {},
   "source": [
    "<b>Question2:\n",
    "    \n",
    "Write a function that creates a dictionary with each (key, value) pair being the (lower case,\n",
    "upper case) versions of a letter, respectively."
   ]
  },
  {
   "cell_type": "code",
   "execution_count": 5,
   "id": "06e2ce83",
   "metadata": {},
   "outputs": [],
   "source": [
    "def dictintolist(d):\n",
    "    return list(d.items())"
   ]
  },
  {
   "cell_type": "code",
   "execution_count": 6,
   "id": "257d2b0d",
   "metadata": {},
   "outputs": [
    {
     "data": {
      "text/plain": [
       "[('D', 1), ('B', 2), ('C', 3)]"
      ]
     },
     "execution_count": 6,
     "metadata": {},
     "output_type": "execute_result"
    }
   ],
   "source": [
    "dictintolist({'D': 1,'B': 2,'C': 3})"
   ]
  },
  {
   "cell_type": "markdown",
   "id": "be260a46",
   "metadata": {},
   "source": [
    "<b>Question3\n",
    "\n",
    "Write a function that creates a dictionary with each (key, value) pair being the (lower case,\n",
    "upper case) versions of a letter, respectively."
   ]
  },
  {
   "cell_type": "code",
   "execution_count": 7,
   "id": "9f8dd0fe",
   "metadata": {},
   "outputs": [],
   "source": [
    "def mapping(d):\n",
    "    return {i.lower():i.upper() for i in d}"
   ]
  },
  {
   "cell_type": "code",
   "execution_count": 8,
   "id": "81913528",
   "metadata": {},
   "outputs": [
    {
     "data": {
      "text/plain": [
       "{'p': 'P', 'q': 'Q'}"
      ]
     },
     "execution_count": 8,
     "metadata": {},
     "output_type": "execute_result"
    }
   ],
   "source": [
    "mapping(['p', 'q'])"
   ]
  },
  {
   "cell_type": "code",
   "execution_count": 9,
   "id": "f76007fc",
   "metadata": {},
   "outputs": [
    {
     "data": {
      "text/plain": [
       "{'a': 'A', 'v': 'V', 'y': 'Y', 'z': 'Z'}"
      ]
     },
     "execution_count": 9,
     "metadata": {},
     "output_type": "execute_result"
    }
   ],
   "source": [
    "mapping(['a', 'v', 'y','z'])"
   ]
  },
  {
   "cell_type": "markdown",
   "id": "5ca14365",
   "metadata": {},
   "source": [
    "<b>Question4\n",
    "\n",
    "Write a function, that replaces all vowels in a string with a specified vowel."
   ]
  },
  {
   "cell_type": "code",
   "execution_count": 10,
   "id": "a4d4e679",
   "metadata": {},
   "outputs": [],
   "source": [
    "def replace_vowel(str, char):\n",
    "    newstr = \"\"\n",
    "    for i in range(len(str)):\n",
    "        if str[i]=='a' or str[i]=='e' or str[i]=='i' or str[i]=='o' or str[i]=='u':\n",
    "            newstr = newstr + char\n",
    "        else:\n",
    "            newstr = newstr + str[i]\n",
    "    return newstr\n"
   ]
  },
  {
   "cell_type": "code",
   "execution_count": 11,
   "id": "ddce7c1d",
   "metadata": {},
   "outputs": [
    {
     "name": "stdout",
     "output_type": "stream",
     "text": [
      "upplus und bununus\n",
      "chooso cossorolo\n",
      "steffed jelepene peppers\n"
     ]
    }
   ],
   "source": [
    "print(replace_vowel('apples and bananas','u'))\n",
    "print(replace_vowel('cheese casserole','o'))\n",
    "print(replace_vowel('stuffed jalapeno poppers', 'e'))"
   ]
  },
  {
   "cell_type": "markdown",
   "id": "ecfd36b1",
   "metadata": {},
   "source": [
    "Question5\n",
    "\n",
    "Create a function that takes a string as input and capitalizes a letter if its ASCII code is even\n",
    "and returns its lower case version if its ASCII code is odd."
   ]
  },
  {
   "cell_type": "markdown",
   "id": "46f234af",
   "metadata": {},
   "source": [
    "<b>Question5\n",
    "\n",
    "Create a function that takes a string as input and capitalizes a letter if its ASCII code is even\n",
    "and returns its lower case version if its ASCII code is odd."
   ]
  },
  {
   "cell_type": "code",
   "execution_count": 12,
   "id": "cf8b9ce9",
   "metadata": {},
   "outputs": [],
   "source": [
    "def ascii_capitalize(str):\n",
    "    newstr=''\n",
    "    for i in range(len(str)):\n",
    "        if ord(str[i])%2==0:\n",
    "            newstr=newstr+(str[i].upper())\n",
    "        else:\n",
    "            newstr=newstr+(str[i].lower())\n",
    "    return newstr"
   ]
  },
  {
   "cell_type": "code",
   "execution_count": 14,
   "id": "62e7c7c2",
   "metadata": {},
   "outputs": [
    {
     "name": "stdout",
     "output_type": "stream",
     "text": [
      "To Be oR NoT To Be\n",
      "THe LiTTLe meRmaiD\n",
      "oH wHaT a BeauTiFuL moRNiNg.\n"
     ]
    }
   ],
   "source": [
    "print(ascii_capitalize('TO BE OR NOT TO BE'))\n",
    "print(ascii_capitalize('THE LITTLE MERMAID'))\n",
    "print(ascii_capitalize('Oh what a beautiful morning.'))"
   ]
  },
  {
   "cell_type": "code",
   "execution_count": null,
   "id": "715a582e",
   "metadata": {},
   "outputs": [],
   "source": []
  }
 ],
 "metadata": {
  "kernelspec": {
   "display_name": "Python 3 (ipykernel)",
   "language": "python",
   "name": "python3"
  },
  "language_info": {
   "codemirror_mode": {
    "name": "ipython",
    "version": 3
   },
   "file_extension": ".py",
   "mimetype": "text/x-python",
   "name": "python",
   "nbconvert_exporter": "python",
   "pygments_lexer": "ipython3",
   "version": "3.9.7"
  }
 },
 "nbformat": 4,
 "nbformat_minor": 5
}
