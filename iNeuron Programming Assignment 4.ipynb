{
 "cells": [
  {
   "cell_type": "markdown",
   "id": "75694718",
   "metadata": {},
   "source": [
    "1. Write a Python Program to Find the Factorial of a Number?"
   ]
  },
  {
   "cell_type": "code",
   "execution_count": 1,
   "id": "de0e1e58",
   "metadata": {},
   "outputs": [
    {
     "name": "stdout",
     "output_type": "stream",
     "text": [
      "Enter the Number: 4\n",
      "24\n"
     ]
    }
   ],
   "source": [
    "number=int(input('Enter the Number: '))\n",
    "def factorial(number):\n",
    "    factorial=1\n",
    "    for i in range(1,number+1):\n",
    "        factorial=factorial*i\n",
    "    print(factorial)\n",
    "factorial(number)"
   ]
  },
  {
   "cell_type": "markdown",
   "id": "1428ce04",
   "metadata": {},
   "source": [
    "2. Write a Python Program to Display the multiplication Table?"
   ]
  },
  {
   "cell_type": "code",
   "execution_count": 2,
   "id": "4ebb9e64",
   "metadata": {},
   "outputs": [
    {
     "name": "stdout",
     "output_type": "stream",
     "text": [
      "Enter the Number: 5\n",
      "5\n",
      "10\n",
      "15\n",
      "20\n",
      "25\n",
      "30\n",
      "35\n",
      "40\n",
      "45\n",
      "50\n"
     ]
    }
   ],
   "source": [
    "def multiplication(number):\n",
    "    number=int(input('Enter the Number: '))\n",
    "    for i in range(1,11):\n",
    "        print(number*i)\n",
    "multiplication(number)"
   ]
  },
  {
   "cell_type": "markdown",
   "id": "c0976794",
   "metadata": {},
   "source": [
    "3. Write a Python Program to Print the Fibonacci sequence?"
   ]
  },
  {
   "cell_type": "code",
   "execution_count": 3,
   "id": "b8556c4f",
   "metadata": {},
   "outputs": [
    {
     "name": "stdout",
     "output_type": "stream",
     "text": [
      "Enter the Number ro Get Fibonacci Value: 153\n",
      "0\n",
      "1\n",
      "1\n",
      "2\n",
      "3\n",
      "5\n",
      "8\n",
      "13\n",
      "21\n",
      "34\n",
      "55\n",
      "89\n",
      "144\n",
      "233\n",
      "377\n",
      "610\n",
      "987\n",
      "1597\n",
      "2584\n",
      "4181\n",
      "6765\n",
      "10946\n",
      "17711\n",
      "28657\n",
      "46368\n",
      "75025\n",
      "121393\n",
      "196418\n",
      "317811\n",
      "514229\n",
      "832040\n",
      "1346269\n",
      "2178309\n",
      "3524578\n",
      "5702887\n",
      "9227465\n",
      "14930352\n",
      "24157817\n",
      "39088169\n",
      "63245986\n",
      "102334155\n",
      "165580141\n",
      "267914296\n",
      "433494437\n",
      "701408733\n",
      "1134903170\n",
      "1836311903\n",
      "2971215073\n",
      "4807526976\n",
      "7778742049\n",
      "12586269025\n",
      "20365011074\n",
      "32951280099\n",
      "53316291173\n",
      "86267571272\n",
      "139583862445\n",
      "225851433717\n",
      "365435296162\n",
      "591286729879\n",
      "956722026041\n",
      "1548008755920\n",
      "2504730781961\n",
      "4052739537881\n",
      "6557470319842\n",
      "10610209857723\n",
      "17167680177565\n",
      "27777890035288\n",
      "44945570212853\n",
      "72723460248141\n",
      "117669030460994\n",
      "190392490709135\n",
      "308061521170129\n",
      "498454011879264\n",
      "806515533049393\n",
      "1304969544928657\n",
      "2111485077978050\n",
      "3416454622906707\n",
      "5527939700884757\n",
      "8944394323791464\n",
      "14472334024676221\n",
      "23416728348467685\n",
      "37889062373143906\n",
      "61305790721611591\n",
      "99194853094755497\n",
      "160500643816367088\n",
      "259695496911122585\n",
      "420196140727489673\n",
      "679891637638612258\n",
      "1100087778366101931\n",
      "1779979416004714189\n",
      "2880067194370816120\n",
      "4660046610375530309\n",
      "7540113804746346429\n",
      "12200160415121876738\n",
      "19740274219868223167\n",
      "31940434634990099905\n",
      "51680708854858323072\n",
      "83621143489848422977\n",
      "135301852344706746049\n",
      "218922995834555169026\n",
      "354224848179261915075\n",
      "573147844013817084101\n",
      "927372692193078999176\n",
      "1500520536206896083277\n",
      "2427893228399975082453\n",
      "3928413764606871165730\n",
      "6356306993006846248183\n",
      "10284720757613717413913\n",
      "16641027750620563662096\n",
      "26925748508234281076009\n",
      "43566776258854844738105\n",
      "70492524767089125814114\n",
      "114059301025943970552219\n",
      "184551825793033096366333\n",
      "298611126818977066918552\n",
      "483162952612010163284885\n",
      "781774079430987230203437\n",
      "1264937032042997393488322\n",
      "2046711111473984623691759\n",
      "3311648143516982017180081\n",
      "5358359254990966640871840\n",
      "8670007398507948658051921\n",
      "14028366653498915298923761\n",
      "22698374052006863956975682\n",
      "36726740705505779255899443\n",
      "59425114757512643212875125\n",
      "96151855463018422468774568\n",
      "155576970220531065681649693\n",
      "251728825683549488150424261\n",
      "407305795904080553832073954\n",
      "659034621587630041982498215\n",
      "1066340417491710595814572169\n",
      "1725375039079340637797070384\n",
      "2791715456571051233611642553\n",
      "4517090495650391871408712937\n",
      "7308805952221443105020355490\n",
      "11825896447871834976429068427\n",
      "19134702400093278081449423917\n",
      "30960598847965113057878492344\n",
      "50095301248058391139327916261\n",
      "81055900096023504197206408605\n",
      "131151201344081895336534324866\n",
      "212207101440105399533740733471\n",
      "343358302784187294870275058337\n",
      "555565404224292694404015791808\n",
      "898923707008479989274290850145\n",
      "1454489111232772683678306641953\n",
      "2353412818241252672952597492098\n",
      "3807901929474025356630904134051\n",
      "6161314747715278029583501626149\n",
      "9969216677189303386214405760200\n",
      "16130531424904581415797907386349\n",
      "26099748102093884802012313146549\n",
      "42230279526998466217810220532898\n",
      "68330027629092351019822533679447\n",
      "110560307156090817237632754212345\n"
     ]
    }
   ],
   "source": [
    "number=int(input('Enter the Number ro Get Fibonacci Value: '))\n",
    "\n",
    "def fibonacciof(number):\n",
    "    m=0\n",
    "    n=1\n",
    "    if number==1:\n",
    "        print(m)\n",
    "    elif number<=0:\n",
    "        print('Invalid Entry')\n",
    "    else:\n",
    "        print(m)\n",
    "        print(n)\n",
    "        for i in range(0,number+1):\n",
    "            o=m+n\n",
    "            m=n\n",
    "            n=o\n",
    "            print(o)\n",
    "fibonacciof(number)"
   ]
  },
  {
   "cell_type": "markdown",
   "id": "e4cc8471",
   "metadata": {},
   "source": [
    "4.Write a Python Program to check Armstrong number ?"
   ]
  },
  {
   "cell_type": "code",
   "execution_count": 4,
   "id": "3a2fa82b",
   "metadata": {},
   "outputs": [
    {
     "name": "stdout",
     "output_type": "stream",
     "text": [
      "Enter a number: 153\n",
      "\n",
      "153 is a Armstrong Number\n"
     ]
    }
   ],
   "source": [
    "num = input('Enter a number: ')\n",
    "def Armstrong_number(num):\n",
    "    sum = 0\n",
    "    for i in range(len(num)):\n",
    "        sum = sum + int(num[i])**3\n",
    "    if sum == int(num):\n",
    "        print(f'\\n{num} is a Armstrong Number')\n",
    "    else:\n",
    "        print(f'\\n{num} is a Not Armstrong Number')\n",
    "Armstrong_number(num)"
   ]
  },
  {
   "cell_type": "markdown",
   "id": "dadd0da2",
   "metadata": {},
   "source": [
    "5. Write a Python Program to Find Armstrong Number in an Interval?"
   ]
  },
  {
   "cell_type": "code",
   "execution_count": 5,
   "id": "3ee8bd1d",
   "metadata": {},
   "outputs": [
    {
     "name": "stdout",
     "output_type": "stream",
     "text": [
      "Enter lower range: 1\n",
      "Enter upper range: 1000\n",
      "1\n",
      "153\n",
      "370\n",
      "371\n",
      "407\n"
     ]
    }
   ],
   "source": [
    "lower_interval = int(input(\"Enter the lower range: \"))\n",
    "upper_interval = int(input(\"Enter the upper range: \"))\n",
    " \n",
    "for num in range(lower_interval,upper_interval + 1):\n",
    "    sum = 0\n",
    "    temp = num\n",
    "    while temp > 0:\n",
    "        digit = temp % 10\n",
    "        sum += digit ** 3\n",
    "        temp //= 10\n",
    " \n",
    "    if num == sum:\n",
    "        print(num)"
   ]
  },
  {
   "cell_type": "markdown",
   "id": "48180559",
   "metadata": {},
   "source": [
    "6.Write a Python Program to sum of natural numbers ?"
   ]
  },
  {
   "cell_type": "code",
   "execution_count": 7,
   "id": "427eb43d",
   "metadata": {},
   "outputs": [
    {
     "name": "stdout",
     "output_type": "stream",
     "text": [
      "Enter The number: 20\n",
      "Sum of 20 natural numbers is 210.0\n"
     ]
    }
   ],
   "source": [
    "number = int(input('Enter The number: '))\n",
    "def sum_of_natural_numbers(number):\n",
    "    sum = number*((number+1)/2)\n",
    "    print(f'Sum of {number} natural numbers is {sum}')\n",
    "sum_of_natural_numbers(number)"
   ]
  },
  {
   "cell_type": "code",
   "execution_count": null,
   "id": "8cfd12c8",
   "metadata": {},
   "outputs": [],
   "source": []
  }
 ],
 "metadata": {
  "kernelspec": {
   "display_name": "Python 3 (ipykernel)",
   "language": "python",
   "name": "python3"
  },
  "language_info": {
   "codemirror_mode": {
    "name": "ipython",
    "version": 3
   },
   "file_extension": ".py",
   "mimetype": "text/x-python",
   "name": "python",
   "nbconvert_exporter": "python",
   "pygments_lexer": "ipython3",
   "version": "3.9.7"
  }
 },
 "nbformat": 4,
 "nbformat_minor": 5
}
