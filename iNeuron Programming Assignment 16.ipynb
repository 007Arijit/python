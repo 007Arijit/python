{
 "cells": [
  {
   "cell_type": "markdown",
   "id": "d7d17d83",
   "metadata": {},
   "source": [
    "<B>1.Write a function that stutters a word as if someone is struggling to read it. The first two letters are repeated twice with an ellipsis ... and space after each, and then the word is pronounced with a question mark ?<b>\n",
    "\n",
    "Examples: stutter(\"incredible\") ➞ \"in... in... incredible?\" \n",
    "    \n",
    "stutter(\"enthusiastic\") ➞ \"en... en... enthusiastic?\"\n",
    "    \n",
    "stutter(\"outstanding\") ➞ \"ou... ou... outstanding?\""
   ]
  },
  {
   "cell_type": "code",
   "execution_count": 18,
   "id": "071fb91e",
   "metadata": {},
   "outputs": [
    {
     "name": "stdout",
     "output_type": "stream",
     "text": [
      "Enter the number of words you want to enter: 3\n",
      "Enter Your Word: incredible\n",
      "Stutter of incredible ➞  in...in...incredible?\n",
      "Enter Your Word: enthusiastic\n",
      "Stutter of enthusiastic ➞  en...en...enthusiastic?\n",
      "Enter Your Word: outstanding\n",
      "Stutter of outstanding ➞  ou...ou...outstanding?\n"
     ]
    }
   ],
   "source": [
    "number_of_words=int(input('Enter the number of words you want to enter: '))\n",
    "#word=input('Enter Your Word: ')\n",
    "def stutters():\n",
    "    word=input('Enter Your Word: ')\n",
    "    stuttersword=word[0:2]+'...'+word[0:2]+'...'+word+'?'\n",
    "    print(f'Stutter of {word} ➞  {stuttersword}')\n",
    "    \n",
    "for i in range(number_of_words):\n",
    "    stutters()"
   ]
  },
  {
   "cell_type": "markdown",
   "id": "23bfb777",
   "metadata": {},
   "source": [
    "<b>2.Create a function that takes an angle in radians and returns the corresponding angle in degrees rounded to one decimal place ?\n",
    "\n",
    "Examples: radians_to_degrees(1) ➞ 57.3\n",
    "    \n",
    "radians_to_degrees(20) ➞ 1145.9\n",
    "\n",
    "radians_to_degrees(50) ➞ 2864.8"
   ]
  },
  {
   "cell_type": "code",
   "execution_count": 24,
   "id": "ebb127ad",
   "metadata": {},
   "outputs": [
    {
     "name": "stdout",
     "output_type": "stream",
     "text": [
      "Enter the number of Angle you want to enter: 3\n",
      "\n",
      "Enter the Angle : 1\n",
      "Radians of 1 ➞  57.3 degree\n",
      "\n",
      "Enter the Angle : 20\n",
      "Radians of 20 ➞  1145.9 degree\n",
      "\n",
      "Enter the Angle : 50\n",
      "Radians of 50 ➞  2864.8 degree\n"
     ]
    }
   ],
   "source": [
    "import math\n",
    "number_of_radians=int(input('Enter the number of Angle you want to enter: '))\n",
    "def radians():\n",
    "    angle=int(input('\\nEnter the Angle : '))\n",
    "    radians = (180/math.pi)*angle\n",
    "    print(f'Radians of {angle} ➞  {round(radians,1)} degree')\n",
    "    \n",
    "for i in range(number_of_radians):\n",
    "    radians()"
   ]
  },
  {
   "cell_type": "markdown",
   "id": "e7e67c9c",
   "metadata": {},
   "source": [
    "<b>3.In this challenge, establish if a given integer num is a Curzon number. If 1 plus 2 elevated to num is exactly divisible by 1 plus 2 multiplied by num, then num is a Curzon number. Given a non-negative integer num, implement a function that returns True if num is a Curzon number, or False otherwise\n",
    "    \n",
    " Examples: \n",
    "    is_curzon(5) ➞ True # 2 ** 5 + 1 = 33 # 2 * 5 + 1 = 11 # 33 is a multiple of 11 \n",
    "    \n",
    "    is_curzon(10) ➞ False # 2 ** 10 + 1 = 1025 # 2 * 10 + 1 = 21 # 1025 is not a multiple of 21 \n",
    "    \n",
    "    is_curzon(14) ➞ True # 2 ** 14 + 1 = 16385 # 2 * 14 + 1 = 29 # 16385 is a multiple of 29"
   ]
  },
  {
   "cell_type": "code",
   "execution_count": 31,
   "id": "b018ef85",
   "metadata": {},
   "outputs": [
    {
     "name": "stdout",
     "output_type": "stream",
     "text": [
      "Enter the number of integers you want to check: 3\n",
      "\n",
      "Enter a number you want to check: 5\n",
      "\n",
      "5 ➞ 5 is a Curzon Number\n",
      "\n",
      "Enter a number you want to check: 10\n",
      "\n",
      "10 ➞ 10 is Not a Curzon Number\n",
      "\n",
      "Enter a number you want to check: 14\n",
      "\n",
      "14 ➞ 14 is a Curzon Number\n"
     ]
    }
   ],
   "source": [
    "number_of_int=int(input('Enter the number of integers you want to check: '))\n",
    "\n",
    "def check_curzon_number():\n",
    "    number = int(input(\"\\nEnter a number you want to check: \"))\n",
    "    if (pow(2,number)+1)%((2*number)+1) == 0:\n",
    "        print(f'\\n{number} ➞ {number} is a Curzon Number')\n",
    "    else:\n",
    "        print(f'\\n{number} ➞ {number} is Not a Curzon Number')\n",
    "\n",
    "for i in range(number_of_int):\n",
    "    check_curzon_number()"
   ]
  },
  {
   "cell_type": "markdown",
   "id": "15c80cc6",
   "metadata": {},
   "source": [
    "<b>4.Given the side length x find the area of a hexagon?\n",
    "\n",
    "Examples: area_of_hexagon(1) ➞ 2.6\n",
    "    \n",
    "area_of_hexagon(2) ➞ 10.4\n",
    "\n",
    "area_of_hexagon(3) ➞ 23.4"
   ]
  },
  {
   "cell_type": "code",
   "execution_count": 33,
   "id": "41fa0f7e",
   "metadata": {},
   "outputs": [
    {
     "name": "stdout",
     "output_type": "stream",
     "text": [
      "Enter the  different number of hexagon area you want to check: 3\n",
      "\n",
      "Enter the side length of a Hexagon: 1\n",
      "If the side length of Hexagon 1 ➞ The area of Hexagon is 2.6\n",
      "\n",
      "Enter the side length of a Hexagon: 2\n",
      "If the side length of Hexagon 2 ➞ The area of Hexagon is 10.4\n",
      "\n",
      "Enter the side length of a Hexagon: 3\n",
      "If the side length of Hexagon 3 ➞ The area of Hexagon is 23.4\n"
     ]
    }
   ],
   "source": [
    "import math\n",
    "number_of_int=int(input('Enter the  different number of hexagon area you want to check: '))\n",
    "\n",
    "def area_of_hexagon():\n",
    "    x = int(input('\\nEnter the side length of a Hexagon: '))\n",
    "    area = ((3*math.sqrt(3))/2)*(pow(x,2))\n",
    "    print(f'If the side length of Hexagon {x} ➞ The area of Hexagon is {round(area,1)}')\n",
    "    \n",
    "for x in range(3):\n",
    "    area_of_hexagon()"
   ]
  },
  {
   "cell_type": "markdown",
   "id": "11175e40",
   "metadata": {},
   "source": [
    "<b>5.Create a function that returns a base-2 (binary) representation of a base-10 (decimal) string number. To convert is simple:\n",
    "    \n",
    "((2) means base-2 and (10) means base-10)\n",
    "\n",
    "010101001(2) = 1 + 8 + 32 + 128.\n",
    "\n",
    "\n",
    "Going from right to left, the value of the most right bit is 1, now from that every bit to the left will be x2 the value, value of an 8 bit binary numbers are (256, 128, 64, 32, 16, 8, 4, 2, 1).\n",
    "\n",
    "Examples:\n",
    "    \n",
    "binary(1) ➞ \"1\" # 1* 1 = 1 binary(5) ➞ \"101\" # 1 1 + 1 4 = 5 binary(10) ➞ \"1010\" # 1 2 + 1 8 = 10"
   ]
  },
  {
   "cell_type": "code",
   "execution_count": 40,
   "id": "c6e114ca",
   "metadata": {},
   "outputs": [
    {
     "name": "stdout",
     "output_type": "stream",
     "text": [
      "Number of integer you want to check: 5\n",
      "\n",
      "Enter a Number: 7\n",
      "Binary of 7 is ➞ 111\n",
      "\n",
      "Enter a Number: 31\n",
      "Binary of 31 is ➞ 11111\n",
      "\n",
      "Enter a Number: 64\n",
      "Binary of 64 is ➞ 1000000\n",
      "\n",
      "Enter a Number: 22\n",
      "Binary of 22 is ➞ 10110\n",
      "\n",
      "Enter a Number: 10\n",
      "Binary of 10 is ➞ 1010\n"
     ]
    }
   ],
   "source": [
    "Number_of_entry=int(input('Number of integer you want to check: '))\n",
    "\n",
    "def number_to_binary():\n",
    "    number = int(input(\"\\nEnter a Number: \"))\n",
    "    binary_number = bin(number).replace('0b','') \n",
    "    print(f'Binary of {number} is ➞ {binary_number}')\n",
    "\n",
    "for x in range(Number_of_entry):\n",
    "    number_to_binary()"
   ]
  },
  {
   "cell_type": "code",
   "execution_count": 41,
   "id": "3af35594",
   "metadata": {},
   "outputs": [
    {
     "data": {
      "text/plain": [
       "str"
      ]
     },
     "execution_count": 41,
     "metadata": {},
     "output_type": "execute_result"
    }
   ],
   "source": [
    "type(binary)"
   ]
  },
  {
   "cell_type": "code",
   "execution_count": null,
   "id": "46824372",
   "metadata": {},
   "outputs": [],
   "source": []
  }
 ],
 "metadata": {
  "kernelspec": {
   "display_name": "Python 3 (ipykernel)",
   "language": "python",
   "name": "python3"
  },
  "language_info": {
   "codemirror_mode": {
    "name": "ipython",
    "version": 3
   },
   "file_extension": ".py",
   "mimetype": "text/x-python",
   "name": "python",
   "nbconvert_exporter": "python",
   "pygments_lexer": "ipython3",
   "version": "3.9.7"
  }
 },
 "nbformat": 4,
 "nbformat_minor": 5
}
