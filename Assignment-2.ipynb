{
 "cells": [
  {
   "cell_type": "markdown",
   "id": "c969c0aa",
   "metadata": {},
   "source": [
    "1.What are the two values of the Boolean data type? How do you write them?\n",
    "\n",
    "The value of Boolean types are True(1) and False(0)"
   ]
  },
  {
   "cell_type": "markdown",
   "id": "a5b8c4fb",
   "metadata": {},
   "source": [
    "2. What are the three different types of Boolean operators?\n",
    "\n",
    "AND, OR, NOT, XOR, XNOR,NAND"
   ]
  },
  {
   "cell_type": "raw",
   "id": "1d13429f",
   "metadata": {},
   "source": [
    "3. Make a list of each Boolean operator's truth tables (i.e. every possible combination of Boolean\n",
    "values for the operator and what it evaluate ).\n",
    "\n",
    "    AND                  OR                   NOT            XOR                XNOR                NAND\n",
    " A   B   Output       A   B   Output       A   Output     A   B   Output     A   B   Output      A   B   Output         \n",
    " 0   0     0          0   0     0          0     1        0   0     0        0   0      1        0   0      1      \n",
    " 0   1     0          0   1     1          1     0        0   1     1        0   1      0        0   1      1           \n",
    " 1   0     0          1   0     1                         1   0     1        1   0      0        1   0      1          \n",
    " 1   1     1          1   1     1                         1   1     0        1   1      1        1   1      0           \n"
   ]
  },
  {
   "cell_type": "markdown",
   "id": "6f5d09c3",
   "metadata": {},
   "source": [
    "4. What are the values of the following expressions?"
   ]
  },
  {
   "cell_type": "raw",
   "id": "e9d827af",
   "metadata": {},
   "source": [
    "(5> 4) and (3 == 5) \n",
    "\n",
    "is False\n",
    "\n",
    "5>4 is true but 3==5 is False in AND gate if any of the input is 0 then output is also 0. So value is False\n",
    "\n",
    "\n",
    "not (5 > 4)\n",
    "\n",
    "is false\n",
    "\n",
    "\n",
    "(5 > 4) or (3 == 5)\n",
    "\n",
    "is True\n",
    "\n",
    "5>4 is True but 3==5 is False so output is True, because in OR gate if one of the input is 1 then outout is 1(True)\n",
    "\n",
    "\n",
    "(True and True) and (True == False)\n",
    "\n",
    "is False\n",
    "\n",
    "\n",
    "True and True is true but True == False is False in AND gate if any of the input is 0 then output is also 0. So value is False\n",
    "\n",
    "\n",
    "(not False) or (not True)\n",
    "\n",
    "\n",
    "in OR gate if one of the input is 1 then outout is 1(True)"
   ]
  },
  {
   "cell_type": "raw",
   "id": "5e291915",
   "metadata": {},
   "source": [
    "5. What are the six comparison operators?\n",
    "\n",
    "\n",
    "Grater than (>), Lessthan (<), Equal to (==), Not equal to(!=), Grater than equql to (>=), Less than equal to(<=)"
   ]
  },
  {
   "cell_type": "raw",
   "id": "0b16a8ee",
   "metadata": {},
   "source": [
    "6. How do you tell the difference between the equal to and assignment operators?Describe a\n",
    "condition and when you would use one.\n",
    "\n",
    "equal to described by (==)   like 10==10\n",
    "\n",
    "and assignment operators is equal sign (=),  if you want to assign a operaton with a varible l=\"Python\"\n",
    "\n"
   ]
  },
  {
   "cell_type": "raw",
   "id": "d91df793",
   "metadata": {},
   "source": [
    "#7. Identify the three blocks in this code:\n",
    "    \n",
    "spam = 0\n",
    "if spam == 10:\n",
    "    print('eggs')\n",
    "if spam>5:\n",
    "    print('bacon')\n",
    "else:\n",
    "    print('ham')\n",
    "print('spam')\n",
    "print('spam')"
   ]
  },
  {
   "cell_type": "raw",
   "id": "b8b7808c",
   "metadata": {},
   "source": [
    "#8. Write code that prints Hello if 1 is stored in spam, prints Howdy if 2 is stored in spam, and print Greetings! \n",
    "    if anything else is stored in spam.\n",
    "\n",
    "spam = 2\n",
    "if spam == 10:\n",
    "    print('Hello')\n",
    "if spam==2:\n",
    "    print('Howdy')\n",
    "else:\n",
    "    print('Greetings!')"
   ]
  },
  {
   "cell_type": "raw",
   "id": "ffa773ee",
   "metadata": {},
   "source": [
    "9.If your programme is stuck in an endless loop, what keys you’ll press?\n",
    "\n",
    "I will press \"interrupt the kernel\""
   ]
  },
  {
   "cell_type": "code",
   "execution_count": 16,
   "id": "677571cc",
   "metadata": {},
   "outputs": [
    {
     "name": "stdout",
     "output_type": "stream",
     "text": [
      "A\n",
      "r\n",
      "i\n",
      "Thank You\n"
     ]
    }
   ],
   "source": [
    "#10. How can you tell the difference between break and continue?\n",
    "\n",
    "#Break statement will terminate the current loop and jump to the next statement.\n",
    "\n",
    "for i in 'Arijit':\n",
    "    if i=='j':\n",
    "        break\n",
    "    else:\n",
    "        print(i)\n",
    "print('Thank You')"
   ]
  },
  {
   "cell_type": "code",
   "execution_count": 17,
   "id": "39b0fc57",
   "metadata": {},
   "outputs": [
    {
     "name": "stdout",
     "output_type": "stream",
     "text": [
      "A\n",
      "r\n",
      "i\n",
      "i\n",
      "t\n",
      "Thank You\n"
     ]
    }
   ],
   "source": [
    "#While continue skip the particular part given in the condition and keep executing the rest part in the same look\n",
    "\n",
    "for i in 'Arijit':\n",
    "    if i=='j':\n",
    "        continue\n",
    "    else:\n",
    "        print(i)\n",
    "print('Thank You')"
   ]
  },
  {
   "cell_type": "raw",
   "id": "2aab8378",
   "metadata": {},
   "source": [
    "11. In a for loop, what is the difference between range(10), range(0, 10), and range(0, 10, 1)?\n",
    "\n",
    "the parameter of range is renge(start value, end value, step)\n",
    " \n",
    "range (10) will autometically return the end value as 10.\n",
    "range (0,10) here 0 is the start value and 10 and end value which is mentioned\n",
    "range (0,10,1) here start value is 0 and value is 10 and it will jump by one step."
   ]
  },
  {
   "cell_type": "raw",
   "id": "e2c8d093",
   "metadata": {},
   "source": [
    "# 12. Write a short program that prints the numbers 1 to 10 using a for loop. Then write an equivalent\n",
    "program that prints the numbers 1 to 10 using a while loop."
   ]
  },
  {
   "cell_type": "code",
   "execution_count": 29,
   "id": "ef00649d",
   "metadata": {},
   "outputs": [
    {
     "name": "stdout",
     "output_type": "stream",
     "text": [
      "1\n",
      "2\n",
      "3\n",
      "4\n",
      "5\n",
      "6\n",
      "7\n",
      "8\n",
      "9\n",
      "10\n"
     ]
    }
   ],
   "source": [
    "j=10\n",
    "for i in range(j):\n",
    "    i=1+i\n",
    "    print(i)"
   ]
  },
  {
   "cell_type": "code",
   "execution_count": 49,
   "id": "902baa76",
   "metadata": {},
   "outputs": [
    {
     "name": "stdout",
     "output_type": "stream",
     "text": [
      "1\n",
      "2\n",
      "3\n",
      "4\n",
      "5\n",
      "6\n",
      "7\n",
      "8\n",
      "9\n",
      "10\n"
     ]
    }
   ],
   "source": [
    "j=1\n",
    "while j<=10:\n",
    "    print(j)\n",
    "    j=j+1\n",
    "    \n",
    "    "
   ]
  },
  {
   "cell_type": "raw",
   "id": "fe644285",
   "metadata": {},
   "source": [
    "13. If you had a function named bacon() inside a module named spam, how would you call it after\n",
    "importing spam?\n",
    "\n",
    "spam.bacon()"
   ]
  },
  {
   "cell_type": "code",
   "execution_count": null,
   "id": "e9e753ed",
   "metadata": {},
   "outputs": [],
   "source": []
  }
 ],
 "metadata": {
  "kernelspec": {
   "display_name": "Python 3 (ipykernel)",
   "language": "python",
   "name": "python3"
  },
  "language_info": {
   "codemirror_mode": {
    "name": "ipython",
    "version": 3
   },
   "file_extension": ".py",
   "mimetype": "text/x-python",
   "name": "python",
   "nbconvert_exporter": "python",
   "pygments_lexer": "ipython3",
   "version": "3.9.7"
  }
 },
 "nbformat": 4,
 "nbformat_minor": 5
}
