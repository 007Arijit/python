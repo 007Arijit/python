{
 "cells": [
  {
   "cell_type": "markdown",
   "id": "125947b9",
   "metadata": {},
   "source": [
    "1. Write a Python program to find words which are greater than given length k ?"
   ]
  },
  {
   "cell_type": "code",
   "execution_count": 10,
   "id": "b90e1926",
   "metadata": {},
   "outputs": [
    {
     "name": "stdout",
     "output_type": "stream",
     "text": [
      "Enter your string: My name is arijit koley. I am a student od iNeuron\n",
      "Enter the length of minimum the word: 3\n",
      "['name', 'arijit', 'koley.', 'student', 'iNeuron']\n"
     ]
    }
   ],
   "source": [
    "string = input(\"Enter your string: \")\n",
    "length = int(input('Enter the length of minimum the word: '))\n",
    "def checklenth():\n",
    "    output = []\n",
    "    for i in string.split(' '):\n",
    "        if len(i) >length:\n",
    "            output.append(i)\n",
    "    print(output)\n",
    "\n",
    "checklenth()"
   ]
  },
  {
   "cell_type": "markdown",
   "id": "1611e1a1",
   "metadata": {},
   "source": [
    "2. Write a Python program for removing i-th character from a string?"
   ]
  },
  {
   "cell_type": "code",
   "execution_count": 31,
   "id": "938b9f37",
   "metadata": {},
   "outputs": [
    {
     "name": "stdout",
     "output_type": "stream",
     "text": [
      "Enter your string: Arijit2\n",
      "Enter the i-th position: 2\n",
      "Arjit2\n"
     ]
    }
   ],
   "source": [
    "string = input(\"Enter your string: \")\n",
    "ith = int(input('Enter the i-th position: '))\n",
    "def removeposition():\n",
    "    output=''\n",
    "    for i in range(len(string)):\n",
    "        if i!=ith:\n",
    "            output+=string[i]\n",
    "    print(output)\n",
    "removeposition()"
   ]
  },
  {
   "cell_type": "markdown",
   "id": "55595196",
   "metadata": {},
   "source": [
    "3. Write a Python program to split and join a string ?"
   ]
  },
  {
   "cell_type": "code",
   "execution_count": 33,
   "id": "101b4ab8",
   "metadata": {},
   "outputs": [
    {
     "name": "stdout",
     "output_type": "stream",
     "text": [
      "Enter the string: My name is arijit koley. I am a student od iNeuron\n",
      "Split String: ['My', 'name', 'is', 'arijit', 'koley.', 'I', 'am', 'a', 'student', 'od', 'iNeuron']\n",
      "Join String: My--name--is--arijit--koley.--I--am--a--student--od--iNeuron\n"
     ]
    }
   ],
   "source": [
    "def splitandjoin():\n",
    "    string = input('Enter the string: ')\n",
    "    print(f\"Split String: {string.split(' ')}\")\n",
    "    print(f\"Join String: {'--'.join(string.split(' '))}\")\n",
    "\n",
    "splitandjoin()"
   ]
  },
  {
   "cell_type": "code",
   "execution_count": 31,
   "id": "2af5d3c7",
   "metadata": {},
   "outputs": [
    {
     "name": "stdout",
     "output_type": "stream",
     "text": [
      "Enter the Number: 1223\n",
      "1223 is Not a Binary Number\n"
     ]
    }
   ],
   "source": [
    "number=int(input(\"Enter the Number: \"))\n",
    "l='0', '1'\n",
    "def checkbinary():\n",
    "    for i in str(number):\n",
    "        if i not in l:\n",
    "            print(f'{number} is Not a Binary Number')\n",
    "            break       \n",
    "    else:\n",
    "        print(f'{number} is a Binary Number')\n",
    "checkbinary()"
   ]
  },
  {
   "cell_type": "markdown",
   "id": "33fb1347",
   "metadata": {},
   "source": [
    "5. Write a Python program to find uncommon words from two Strings ?"
   ]
  },
  {
   "cell_type": "code",
   "execution_count": 74,
   "id": "23d391e2",
   "metadata": {},
   "outputs": [
    {
     "name": "stdout",
     "output_type": "stream",
     "text": [
      "Enter the First String: \n",
      "I am a boy\n",
      "Enter the Second String: \n",
      "I am a girl\n",
      "\n",
      "The uncommon words are ['boy', 'girl']\n"
     ]
    }
   ],
   "source": [
    "uncommon=[]\n",
    "def uncommonwords():\n",
    "    string1=input('Enter the First String: \\n')\n",
    "    string2=input('Enter the Second String: \\n')\n",
    "    for i in string1.split(' '):\n",
    "        if i not in string2.split(' '):\n",
    "            uncommon.append(i) \n",
    "    for j in string2.split(' '):\n",
    "        if j not in string1.split(' '):\n",
    "            uncommon.append(j)\n",
    "            print(f'\\nThe uncommon words are {uncommon}')\n",
    "            break\n",
    "    else:\n",
    "        print('Both are same Words')\n",
    "uncommonwords()"
   ]
  },
  {
   "cell_type": "markdown",
   "id": "eaaebb87",
   "metadata": {},
   "source": [
    "6. Write a Python to find all duplicate characters in string ?"
   ]
  },
  {
   "cell_type": "code",
   "execution_count": 23,
   "id": "bee2fa1b",
   "metadata": {},
   "outputs": [
    {
     "name": "stdout",
     "output_type": "stream",
     "text": [
      "Enter your string: \n",
      " \n",
      "Write a Python to find all duplicate characters in string\n",
      "\n",
      "Duplicats letters are:  rite ahondlcs\n"
     ]
    }
   ],
   "source": [
    "stri=input('Enter your string: \\n \\n')\n",
    "def dublicates():\n",
    "    count=0\n",
    "    string=''\n",
    "    for i in stri:\n",
    "        if stri.count(i)>1 and i not in string:\n",
    "            string+=i\n",
    "    print('\\nDuplicats letters are: ',string)\n",
    "    #return string\n",
    "dublicates()"
   ]
  },
  {
   "cell_type": "code",
   "execution_count": 25,
   "id": "aa73e339",
   "metadata": {},
   "outputs": [
    {
     "name": "stdout",
     "output_type": "stream",
     "text": [
      "Enter your string: \n",
      " \n",
      "Write a Python to find all duplicate characters in string\n",
      "\n",
      "Duplicats letters are:  ['r', 'i', 't', 'e', ' ', 'a', 'h', 'o', 'n', 'd', 'l', 'c', 's']\n"
     ]
    }
   ],
   "source": [
    "stri=input('Enter your string: \\n \\n')\n",
    "def dublicates():\n",
    "    count=0\n",
    "    string=[]\n",
    "    for i in stri:\n",
    "        if stri.count(i)>1 and i not in string:\n",
    "            string.append(i)\n",
    "    print('\\nDuplicats letters are: ',string)\n",
    "dublicates()"
   ]
  },
  {
   "cell_type": "markdown",
   "id": "c9d47b7f",
   "metadata": {},
   "source": [
    "7. Write a Python Program to check if a string contains any special character?"
   ]
  },
  {
   "cell_type": "code",
   "execution_count": 34,
   "id": "84db31df",
   "metadata": {},
   "outputs": [
    {
     "name": "stdout",
     "output_type": "stream",
     "text": [
      "Enter your string: \n",
      "Commercial spreadsheet languages are partially explicit; the user must enter a special character (often a '$') with a cell reference to make it an 'absolute' reference.\n",
      "\n",
      " \n",
      "The special characters are:  ['(', '$', ')']\n"
     ]
    }
   ],
   "source": [
    "string=input('Enter your string: \\n')\n",
    "def specialchar():\n",
    "    list=[]\n",
    "    special_char = '[@_!#$%^&*()<>?/\\|}{~:]\"\"'\n",
    "    for i in string:\n",
    "        if i in special_char:\n",
    "            list.append(i)\n",
    "    print('\\n \\nThe special characters are: ', list)\n",
    "specialchar()            "
   ]
  },
  {
   "cell_type": "code",
   "execution_count": null,
   "id": "78162f6b",
   "metadata": {},
   "outputs": [],
   "source": []
  }
 ],
 "metadata": {
  "kernelspec": {
   "display_name": "Python 3 (ipykernel)",
   "language": "python",
   "name": "python3"
  },
  "language_info": {
   "codemirror_mode": {
    "name": "ipython",
    "version": 3
   },
   "file_extension": ".py",
   "mimetype": "text/x-python",
   "name": "python",
   "nbconvert_exporter": "python",
   "pygments_lexer": "ipython3",
   "version": "3.9.7"
  }
 },
 "nbformat": 4,
 "nbformat_minor": 5
}
