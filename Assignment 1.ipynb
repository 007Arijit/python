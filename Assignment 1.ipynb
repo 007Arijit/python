{
 "cells": [
  {
   "cell_type": "markdown",
   "id": "566e5460",
   "metadata": {},
   "source": [
    "1. In the below elements which of them are values or an expression?\n",
    "\n",
    "Values: 'hello', -87.8,6\n",
    "\n",
    "Expression: *, - , / , +"
   ]
  },
  {
   "cell_type": "markdown",
   "id": "3cc042f3",
   "metadata": {},
   "source": [
    "2. What is the difference between string and variable?\n",
    "\n",
    "A variable where we store data and a String is a data type. That means a string which can ve stored in variable."
   ]
  },
  {
   "cell_type": "markdown",
   "id": "9fb3ef16",
   "metadata": {},
   "source": [
    "3. Describe three different data types.\n",
    "\n",
    "Integer (int):Integer is a data type which store zero, positive or negative but hole values without decimal values"
   ]
  },
  {
   "cell_type": "markdown",
   "id": "f1bb3c8d",
   "metadata": {},
   "source": [
    "4. What is an expression made up of? What do all expressions do?\n",
    "\n",
    "An expression is a construct made up of variables, operators which are constructed according to the syntax of the language, that evaluates a value."
   ]
  },
  {
   "cell_type": "markdown",
   "id": "667c21f6",
   "metadata": {},
   "source": [
    "5. This assignment statements, like spam = 10. What is the difference between an\n",
    "expression and a statement?\n",
    "\n",
    "Here spam is an expression or variable ansvalue assigned to spam is 10 that is a statement."
   ]
  },
  {
   "cell_type": "markdown",
   "id": "ec1b43f6",
   "metadata": {},
   "source": [
    "6. After running the following code, what does the variable bacon contain?\n",
    "\n",
    "bacon = 22\n",
    "\n",
    "bacon + 1"
   ]
  },
  {
   "cell_type": "code",
   "execution_count": 6,
   "id": "e4b88dc8",
   "metadata": {},
   "outputs": [
    {
     "data": {
      "text/plain": [
       "23"
      ]
     },
     "execution_count": 6,
     "metadata": {},
     "output_type": "execute_result"
    }
   ],
   "source": [
    "bacon=22\n",
    "bacon+1"
   ]
  },
  {
   "cell_type": "markdown",
   "id": "11760d19",
   "metadata": {},
   "source": [
    "7. What should the values of the following two terms be?\n",
    "\n",
    "'spam' + 'spamspam'\n",
    "\n",
    "'spam' * 3\n",
    "\n",
    "O/P would be same as 'spamspamspam'"
   ]
  },
  {
   "cell_type": "code",
   "execution_count": 9,
   "id": "e4e44511",
   "metadata": {},
   "outputs": [
    {
     "data": {
      "text/plain": [
       "'spamspamspam'"
      ]
     },
     "execution_count": 9,
     "metadata": {},
     "output_type": "execute_result"
    }
   ],
   "source": [
    "'spam' + 'spamspam'"
   ]
  },
  {
   "cell_type": "code",
   "execution_count": 10,
   "id": "08e19d18",
   "metadata": {},
   "outputs": [
    {
     "data": {
      "text/plain": [
       "'spamspamspam'"
      ]
     },
     "execution_count": 10,
     "metadata": {},
     "output_type": "execute_result"
    }
   ],
   "source": [
    "'spam' * 3"
   ]
  },
  {
   "cell_type": "markdown",
   "id": "f07f46ff",
   "metadata": {},
   "source": [
    "8. Why is eggs a valid variable name while 100 is invalid?\n",
    "\n",
    "variable can not start with number while 100 is a number so it is invalid."
   ]
  },
  {
   "cell_type": "markdown",
   "id": "03ccd934",
   "metadata": {},
   "source": [
    "9. What three functions can be used to get the integer, floating-point number, or string\n",
    "version of a value?\n",
    "\n",
    "int,float, str"
   ]
  },
  {
   "cell_type": "markdown",
   "id": "e4f36c65",
   "metadata": {},
   "source": [
    "10. Why does this expression cause an error? How can you fix it?\n",
    "\n",
    "'I have eaten' + 99 + 'burritos.'"
   ]
  },
  {
   "cell_type": "code",
   "execution_count": 12,
   "id": "92b4c1ba",
   "metadata": {},
   "outputs": [
    {
     "data": {
      "text/plain": [
       "'I have eaten 99 burritos.'"
      ]
     },
     "execution_count": 12,
     "metadata": {},
     "output_type": "execute_result"
    }
   ],
   "source": [
    "'I have eaten ' + str(99) + ' burritos.'"
   ]
  },
  {
   "cell_type": "code",
   "execution_count": null,
   "id": "916051d7",
   "metadata": {},
   "outputs": [],
   "source": []
  }
 ],
 "metadata": {
  "kernelspec": {
   "display_name": "Python 3 (ipykernel)",
   "language": "python",
   "name": "python3"
  },
  "language_info": {
   "codemirror_mode": {
    "name": "ipython",
    "version": 3
   },
   "file_extension": ".py",
   "mimetype": "text/x-python",
   "name": "python",
   "nbconvert_exporter": "python",
   "pygments_lexer": "ipython3",
   "version": "3.9.7"
  }
 },
 "nbformat": 4,
 "nbformat_minor": 5
}
