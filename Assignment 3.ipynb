{
 "cells": [
  {
   "cell_type": "markdown",
   "id": "d5565159",
   "metadata": {},
   "source": [
    "<b>1. Why are functions advantageous to have in your programs?"
   ]
  },
  {
   "cell_type": "raw",
   "id": "5aa8ce7e",
   "metadata": {},
   "source": [
    "Ans: Functions reduce the need for duplicate code. This makes programs shorter, easier to read, and easier to update. The main advantage of functions is code Reusability."
   ]
  },
  {
   "cell_type": "markdown",
   "id": "80ccfe4b",
   "metadata": {},
   "source": [
    "<b>2. When does the code in a function run: when it's specified or when it's called?"
   ]
  },
  {
   "cell_type": "raw",
   "id": "62ae6cda",
   "metadata": {},
   "source": [
    "Ans: The code in a function executes when the function is called, not when the function is specified."
   ]
  },
  {
   "cell_type": "markdown",
   "id": "01bb58ec",
   "metadata": {},
   "source": [
    "<b>3. What statement creates a function?"
   ]
  },
  {
   "cell_type": "raw",
   "id": "b1cde973",
   "metadata": {},
   "source": [
    "Ans: The def statement defines a function\n",
    "    \n",
    "Syntax of Function:\n",
    "    \n",
    "def function_name(parameters): \n",
    "    \"\"\"doc string\"\"\" \n",
    "    -----function body----- \n",
    "    -----function body----- \n",
    "    return value"
   ]
  },
  {
   "cell_type": "markdown",
   "id": "fb43e3f0",
   "metadata": {},
   "source": [
    "<b>4. What is the difference between a function and a function call?"
   ]
  },
  {
   "cell_type": "raw",
   "id": "45eb8b56",
   "metadata": {},
   "source": [
    "Ans: A function is procedure to achieve a particular result. while function call is using this function to achive that task. Using a function to do a particular task any point in program is called as function call."
   ]
  },
  {
   "cell_type": "markdown",
   "id": "7a5ee2ca",
   "metadata": {},
   "source": [
    "<b>5. How many global scopes are there in a Python program? How many local scopes?"
   ]
  },
  {
   "cell_type": "markdown",
   "id": "f27b2057",
   "metadata": {},
   "source": [
    "Ans: There is one global scope, a local scope, and a Built-in Scope."
   ]
  },
  {
   "cell_type": "markdown",
   "id": "302fe412",
   "metadata": {},
   "source": [
    "<b>6. What happens to variables in a local scope when the function call returns?"
   ]
  },
  {
   "cell_type": "raw",
   "id": "2e02289b",
   "metadata": {},
   "source": [
    "Ans: When a function returns, the local scope is destroyed, and all the variables in it are forgotten."
   ]
  },
  {
   "cell_type": "markdown",
   "id": "f1a9f19e",
   "metadata": {},
   "source": [
    "<b>7. What is the concept of a return value? Is it possible to have a return value in an expression?"
   ]
  },
  {
   "cell_type": "raw",
   "id": "bbc198bd",
   "metadata": {},
   "source": [
    "Ans: A return value is the value that a function call evaluates to. Like any value, a return value can be used as part of an expression."
   ]
  },
  {
   "cell_type": "markdown",
   "id": "59a44939",
   "metadata": {},
   "source": [
    "<b>8. If a function does not have a return statement, what is the return value of a call to that function?"
   ]
  },
  {
   "cell_type": "raw",
   "id": "1931baed",
   "metadata": {},
   "source": [
    "Ans: If there is no return statement for a function, its return value is None"
   ]
  },
  {
   "cell_type": "markdown",
   "id": "1f129ba0",
   "metadata": {},
   "source": [
    "<b>9. How do you make a function variable refer to the global variable?"
   ]
  },
  {
   "cell_type": "raw",
   "id": "cea5cdc3",
   "metadata": {},
   "source": [
    "Ans: A global statement will force a variable in a function to refer to the global variable. If you want to refer to a global variable in a function, you can use the global keyword to declare which variables are global."
   ]
  },
  {
   "cell_type": "markdown",
   "id": "00998ffd",
   "metadata": {},
   "source": [
    "<b>10. What is the data type of None?"
   ]
  },
  {
   "cell_type": "markdown",
   "id": "2892b7b3",
   "metadata": {},
   "source": [
    "<b>11. What does the sentence import areallyourpetsnamederic do?"
   ]
  },
  {
   "cell_type": "raw",
   "id": "8a1c420f",
   "metadata": {},
   "source": [
    "Ans: That import statement imports a module named areallyourpetsnamederic."
   ]
  },
  {
   "cell_type": "markdown",
   "id": "6b0010e5",
   "metadata": {},
   "source": [
    "<b>12. If you had a bacon() feature in a spam module, what would you call it after importing spam?"
   ]
  },
  {
   "cell_type": "raw",
   "id": "9ce19ab2",
   "metadata": {},
   "source": [
    "Ans: This function can be called with spam.bacon()"
   ]
  },
  {
   "cell_type": "markdown",
   "id": "5248ed2c",
   "metadata": {},
   "source": [
    "<b>13. What can you do to save a programme from crashing if it encounters an error?"
   ]
  },
  {
   "cell_type": "raw",
   "id": "88205561",
   "metadata": {},
   "source": [
    "Ans: Place the line of code that might cause an error in a try clause and use except block to handle the error."
   ]
  },
  {
   "cell_type": "markdown",
   "id": "a68fc61e",
   "metadata": {},
   "source": [
    "<b>14. What is the purpose of the try clause? What is the purpose of the except clause?"
   ]
  },
  {
   "cell_type": "raw",
   "id": "3ef0b14d",
   "metadata": {},
   "source": [
    "ANS:The code that could potentially cause an error goes in the try clause. The code that executes if an error happens goes in the except clause."
   ]
  },
  {
   "cell_type": "code",
   "execution_count": null,
   "id": "cba59447",
   "metadata": {},
   "outputs": [],
   "source": []
  }
 ],
 "metadata": {
  "kernelspec": {
   "display_name": "Python 3 (ipykernel)",
   "language": "python",
   "name": "python3"
  },
  "language_info": {
   "codemirror_mode": {
    "name": "ipython",
    "version": 3
   },
   "file_extension": ".py",
   "mimetype": "text/x-python",
   "name": "python",
   "nbconvert_exporter": "python",
   "pygments_lexer": "ipython3",
   "version": "3.9.7"
  }
 },
 "nbformat": 4,
 "nbformat_minor": 5
}
