{
 "cells": [
  {
   "cell_type": "markdown",
   "id": "aae9056e",
   "metadata": {},
   "source": [
    "1. Write a Python Program to find sum of array?"
   ]
  },
  {
   "cell_type": "code",
   "execution_count": 7,
   "id": "f3b5a430",
   "metadata": {},
   "outputs": [
    {
     "name": "stdout",
     "output_type": "stream",
     "text": [
      "The sum of the Array is : 52\n"
     ]
    }
   ],
   "source": [
    "arr=[3,4,5,6,7,8,2,3,4,10]\n",
    "\n",
    "def sumofarray():\n",
    "    n=0\n",
    "    for i in arr:\n",
    "        n=n+i\n",
    "    return n\n",
    "print(f'The sum of the Array is : {sumofarray()}')"
   ]
  },
  {
   "cell_type": "markdown",
   "id": "d27ca3c3",
   "metadata": {},
   "source": [
    "2. Write a Python Program to find largest element in an array?"
   ]
  },
  {
   "cell_type": "code",
   "execution_count": 14,
   "id": "0e4cf95b",
   "metadata": {},
   "outputs": [
    {
     "name": "stdout",
     "output_type": "stream",
     "text": [
      "10\n"
     ]
    }
   ],
   "source": [
    "arr=[3,4,5,6,7,8,2,3,4,10]\n",
    "def maxnumber(arr):\n",
    "    for i in arr:\n",
    "        n=0\n",
    "        if i>n:\n",
    "            n=i\n",
    "    print(n)\n",
    "maxnumber(arr)"
   ]
  },
  {
   "cell_type": "markdown",
   "id": "e51092b1",
   "metadata": {},
   "source": [
    "3. Write a Python Program for array rotation ?"
   ]
  },
  {
   "cell_type": "code",
   "execution_count": 17,
   "id": "a57fdf04",
   "metadata": {},
   "outputs": [
    {
     "data": {
      "text/plain": [
       "[10, 4, 3, 2, 8, 7, 6, 5, 4, 3]"
      ]
     },
     "execution_count": 17,
     "metadata": {},
     "output_type": "execute_result"
    }
   ],
   "source": [
    "def arrayrotation(arr):\n",
    "    arr=[3,4,5,6,7,8,2,3,4,10]\n",
    "    return arr[::-1]\n",
    "arrayrotation(arr)"
   ]
  },
  {
   "cell_type": "markdown",
   "id": "843fc695",
   "metadata": {},
   "source": [
    "4. Write a Python Program to Split the array and add the first part to the end ?"
   ]
  },
  {
   "cell_type": "code",
   "execution_count": 22,
   "id": "762792ec",
   "metadata": {},
   "outputs": [
    {
     "name": "stdout",
     "output_type": "stream",
     "text": [
      " Sum of first and last part of the Array is: 13\n"
     ]
    }
   ],
   "source": [
    "def sum_of_first_and_last_part_of_the_array():\n",
    "    arr=[3,4,5,6,7,8,2,3,4,10]\n",
    "    print(f' Sum of first and last part of the Array is: {arr[0]+arr[-1]}')\n",
    "sum_of_first_and_last_part_of_the_array()"
   ]
  },
  {
   "cell_type": "markdown",
   "id": "cedea716",
   "metadata": {},
   "source": [
    "5. Write a Python Program to check if given array is Monotonic ?"
   ]
  },
  {
   "cell_type": "code",
   "execution_count": 26,
   "id": "cfdfebb0",
   "metadata": {},
   "outputs": [
    {
     "data": {
      "text/plain": [
       "'Array is Not Monotonic'"
      ]
     },
     "execution_count": 26,
     "metadata": {},
     "output_type": "execute_result"
    }
   ],
   "source": [
    "arr=[3,4,5,6,7,8,2,3,4,10]\n",
    "def ismonotone(arr):\n",
    "    n=len(arr)\n",
    "    if n==1:\n",
    "        return 'Array is Monotonic'\n",
    "    else:\n",
    "        if all(arr[i]>=arr[i+1] for i in range(0,n-1) or arr[i]<=arr[i+1] for i in range(0,n-1)):\n",
    "            return 'Array is Monotonic'\n",
    "        else:\n",
    "            return 'Array is Not Monotonic'\n",
    "ismonotone(arr)"
   ]
  },
  {
   "cell_type": "code",
   "execution_count": null,
   "id": "6d36a835",
   "metadata": {},
   "outputs": [],
   "source": []
  }
 ],
 "metadata": {
  "kernelspec": {
   "display_name": "Python 3 (ipykernel)",
   "language": "python",
   "name": "python3"
  },
  "language_info": {
   "codemirror_mode": {
    "name": "ipython",
    "version": 3
   },
   "file_extension": ".py",
   "mimetype": "text/x-python",
   "name": "python",
   "nbconvert_exporter": "python",
   "pygments_lexer": "ipython3",
   "version": "3.9.7"
  }
 },
 "nbformat": 4,
 "nbformat_minor": 5
}
