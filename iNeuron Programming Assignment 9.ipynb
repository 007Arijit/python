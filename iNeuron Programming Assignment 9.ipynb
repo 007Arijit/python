{
 "cells": [
  {
   "cell_type": "markdown",
   "id": "c626fbf8",
   "metadata": {},
   "source": [
    "1. Write a Python program to check if the given number is a Disarium Number?"
   ]
  },
  {
   "cell_type": "code",
   "execution_count": 7,
   "id": "72dff29d",
   "metadata": {},
   "outputs": [
    {
     "name": "stdout",
     "output_type": "stream",
     "text": [
      "Enter the Number: 234\n",
      "75\n"
     ]
    }
   ],
   "source": [
    "number=input('Enter the Number: ')\n",
    "def Disarium(number):\n",
    "    n=0\n",
    "    for i in range(len(number)):\n",
    "        n=n+int(number[i])**(i+1)\n",
    "    print(n)\n",
    "Disarium(number)"
   ]
  },
  {
   "cell_type": "markdown",
   "id": "eb6e1594",
   "metadata": {},
   "source": [
    "2. Write a Python program to print all disarium numbers between 1 to 100?"
   ]
  },
  {
   "cell_type": "code",
   "execution_count": 65,
   "id": "e790d9d7",
   "metadata": {
    "scrolled": false
   },
   "outputs": [
    {
     "name": "stdout",
     "output_type": "stream",
     "text": [
      "Enter the Lower Range: \n",
      "1\n",
      "Enter the Upper Range: \n",
      "10\n",
      "[1, 2, 3, 4, 5, 6, 7, 8, 9]\n"
     ]
    }
   ],
   "source": [
    "lower_range=int(input('Enter the Lower Range: \\n'))\n",
    "upper_range=int(input('Enter the Upper Range: \\n'))\n",
    "def Disarium(lower_range,upper_range):\n",
    "    disarium_numbers=[]\n",
    "    for i in range(lower_range,upper_range+1):\n",
    "        number=0\n",
    "        for j in range(len(str(i))):\n",
    "            number=number+int(str(i)[j])**(j+1)\n",
    "            if number==i:\n",
    "                disarium_numbers.append(i)\n",
    "    return disarium_numbers\n",
    "print(Disarium(lower_range,upper_range))"
   ]
  },
  {
   "cell_type": "markdown",
   "id": "579dfe90",
   "metadata": {},
   "source": [
    "3. Write a Python program to check if the given number is Happy Number?"
   ]
  },
  {
   "cell_type": "code",
   "execution_count": 77,
   "id": "4aff4b8e",
   "metadata": {},
   "outputs": [
    {
     "name": "stdout",
     "output_type": "stream",
     "text": [
      "Enter the Number: 121\n",
      "\n",
      "121 is Happy not Number\n"
     ]
    }
   ],
   "source": [
    "number=int(input('Enter the Number: '))\n",
    "def Happy(number):\n",
    "    x=number\n",
    "    while x>=10:\n",
    "        sum=0\n",
    "        while x>0:\n",
    "            hn=x%10\n",
    "            sum+=hn**2\n",
    "            x=x//10\n",
    "        x=sum\n",
    "    if x==1:\n",
    "        print(f'\\n{number} is Happy Number')\n",
    "    else:\n",
    "        print(f'\\n{number} is Happy not Number')\n",
    "Happy(number)"
   ]
  },
  {
   "cell_type": "markdown",
   "id": "cd50c556",
   "metadata": {},
   "source": [
    "4. Write a Python program to print all happy numbers between 1 and 100?"
   ]
  },
  {
   "cell_type": "code",
   "execution_count": 81,
   "id": "a0bd9dd7",
   "metadata": {},
   "outputs": [
    {
     "name": "stdout",
     "output_type": "stream",
     "text": [
      "List of happy numbers between 1 and 100: \n",
      "1 7 10 13 19 23 28 31 32 44 49 68 70 79 82 86 91 94 97 100 "
     ]
    }
   ],
   "source": [
    "def isHappyNumber(num):  \n",
    "    rem = sum = 0  \n",
    "      \n",
    "    while(num > 0):  \n",
    "        rem = num%10  \n",
    "        sum = sum + (rem*rem)  \n",
    "        num = num//10  \n",
    "    return sum  \n",
    "           \n",
    "print(\"List of happy numbers between 1 and 100: \")  \n",
    "for i in range(1, 101):  \n",
    "    result = i  \n",
    "       \n",
    "    while(result != 1 and result != 4):  \n",
    "        result = isHappyNumber(result)  \n",
    "      \n",
    "    if(result == 1):  \n",
    "        print(i, end=' ')"
   ]
  },
  {
   "cell_type": "markdown",
   "id": "b83fe391",
   "metadata": {},
   "source": [
    "5.Write a Python Program to determine whether the given number is a Harshad Number ?"
   ]
  },
  {
   "cell_type": "code",
   "execution_count": 86,
   "id": "1f259ad7",
   "metadata": {},
   "outputs": [
    {
     "name": "stdout",
     "output_type": "stream",
     "text": [
      "Enter the Number: 1000002\n",
      "1000002 is a Harshad Number\n"
     ]
    }
   ],
   "source": [
    "number = input('Enter the Number: ')\n",
    "def checkHarshadnumber():\n",
    "    sum = 0\n",
    "    for i in range(len(number)):\n",
    "        sum = sum + int(number[i])\n",
    "    if int(number)%sum == 0:\n",
    "        print(f'{number} is a Harshad Number')\n",
    "    else:\n",
    "        print(f'{number} is a Not Harshad Number')\n",
    "checkHarshadnumber()"
   ]
  },
  {
   "cell_type": "markdown",
   "id": "7ee4841b",
   "metadata": {},
   "source": [
    "6.Write a Python Program to print all pronic numbers between 1 and 100 ?"
   ]
  },
  {
   "cell_type": "code",
   "execution_count": 88,
   "id": "82ee3a17",
   "metadata": {},
   "outputs": [
    {
     "name": "stdout",
     "output_type": "stream",
     "text": [
      "Enthe the Number: 1\n",
      "Enthe the Number: 20\n",
      "[2, 6, 12, 20, 30, 42, 56, 72, 90, 110, 132, 156, 182, 210, 240, 272, 306, 342, 380, 420]\n"
     ]
    }
   ],
   "source": [
    "startnumber=int(input('Enthe the Number: '))\n",
    "endnumber=int(input('Enthe the Number: '))\n",
    "def Pronicnumbers(startnumber,endnumber):\n",
    "    outputList = []\n",
    "    for i in range(startnumber,endnumber+1):\n",
    "        outputList.append((i)*(i+1))\n",
    "    print(outputList)\n",
    "Pronicnumbers(startnumber,endnumber)"
   ]
  },
  {
   "cell_type": "code",
   "execution_count": null,
   "id": "106c317c",
   "metadata": {},
   "outputs": [],
   "source": []
  }
 ],
 "metadata": {
  "kernelspec": {
   "display_name": "Python 3 (ipykernel)",
   "language": "python",
   "name": "python3"
  },
  "language_info": {
   "codemirror_mode": {
    "name": "ipython",
    "version": 3
   },
   "file_extension": ".py",
   "mimetype": "text/x-python",
   "name": "python",
   "nbconvert_exporter": "python",
   "pygments_lexer": "ipython3",
   "version": "3.9.7"
  }
 },
 "nbformat": 4,
 "nbformat_minor": 5
}
