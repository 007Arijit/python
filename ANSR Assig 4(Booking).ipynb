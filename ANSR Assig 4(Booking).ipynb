{
 "cells": [
  {
   "cell_type": "markdown",
   "id": "00e262bc",
   "metadata": {},
   "source": [
    "<b>Importing the Required Libraries"
   ]
  },
  {
   "cell_type": "code",
   "execution_count": 1,
   "id": "3f24e964",
   "metadata": {},
   "outputs": [],
   "source": [
    "import pandas as pd"
   ]
  },
  {
   "cell_type": "markdown",
   "id": "9e7deef6",
   "metadata": {},
   "source": [
    "<b>Reading the Data"
   ]
  },
  {
   "cell_type": "code",
   "execution_count": 2,
   "id": "714eeded",
   "metadata": {
    "scrolled": false
   },
   "outputs": [
    {
     "data": {
      "text/html": [
       "<div>\n",
       "<style scoped>\n",
       "    .dataframe tbody tr th:only-of-type {\n",
       "        vertical-align: middle;\n",
       "    }\n",
       "\n",
       "    .dataframe tbody tr th {\n",
       "        vertical-align: top;\n",
       "    }\n",
       "\n",
       "    .dataframe thead th {\n",
       "        text-align: right;\n",
       "    }\n",
       "</style>\n",
       "<table border=\"1\" class=\"dataframe\">\n",
       "  <thead>\n",
       "    <tr style=\"text-align: right;\">\n",
       "      <th></th>\n",
       "      <th>anonymous_id</th>\n",
       "      <th>business_zoned</th>\n",
       "      <th>context_app_version</th>\n",
       "      <th>context_device_id</th>\n",
       "      <th>context_os_name</th>\n",
       "      <th>event_name</th>\n",
       "      <th>received_at</th>\n",
       "      <th>created_at</th>\n",
       "    </tr>\n",
       "  </thead>\n",
       "  <tbody>\n",
       "    <tr>\n",
       "      <th>0</th>\n",
       "      <td>9DDC5BCD-0477-4E83-A32A-51013DA0A4E7</td>\n",
       "      <td>Hamburg</td>\n",
       "      <td>3.1.13</td>\n",
       "      <td>7A718FF6-584F-40E2-939D-224231295B1E</td>\n",
       "      <td>iOS</td>\n",
       "      <td>Out-Of-Business Zone View Shown</td>\n",
       "      <td>2020-09-01 23:59:44</td>\n",
       "      <td>2020-09-01 23:59:18</td>\n",
       "    </tr>\n",
       "    <tr>\n",
       "      <th>1</th>\n",
       "      <td>5592E78E-CE87-4258-B8D7-DD834A687A1E</td>\n",
       "      <td>Hamburg</td>\n",
       "      <td>3.1.13</td>\n",
       "      <td>11D0CB16-DA38-4565-9C3B-066E7877856C</td>\n",
       "      <td>iOS</td>\n",
       "      <td>Application Opened</td>\n",
       "      <td>2020-09-01 23:59:41</td>\n",
       "      <td>2020-09-01 23:59:35</td>\n",
       "    </tr>\n",
       "    <tr>\n",
       "      <th>2</th>\n",
       "      <td>5592E78E-CE87-4258-B8D7-DD834A687A1E</td>\n",
       "      <td>Hamburg</td>\n",
       "      <td>3.1.13</td>\n",
       "      <td>11D0CB16-DA38-4565-9C3B-066E7877856C</td>\n",
       "      <td>iOS</td>\n",
       "      <td>Ride Done - Successful</td>\n",
       "      <td>2020-09-01 23:59:41</td>\n",
       "      <td>2020-09-01 23:59:37</td>\n",
       "    </tr>\n",
       "    <tr>\n",
       "      <th>3</th>\n",
       "      <td>5592E78E-CE87-4258-B8D7-DD834A687A1E</td>\n",
       "      <td>Hamburg</td>\n",
       "      <td>3.1.13</td>\n",
       "      <td>11D0CB16-DA38-4565-9C3B-066E7877856C</td>\n",
       "      <td>iOS</td>\n",
       "      <td>Application Opened</td>\n",
       "      <td>2020-09-01 23:59:36</td>\n",
       "      <td>2020-09-01 23:37:46</td>\n",
       "    </tr>\n",
       "    <tr>\n",
       "      <th>4</th>\n",
       "      <td>5592E78E-CE87-4258-B8D7-DD834A687A1E</td>\n",
       "      <td>Hamburg</td>\n",
       "      <td>3.1.13</td>\n",
       "      <td>11D0CB16-DA38-4565-9C3B-066E7877856C</td>\n",
       "      <td>iOS</td>\n",
       "      <td>Ride Done - Unsuccessful</td>\n",
       "      <td>2020-09-01 23:59:36</td>\n",
       "      <td>2020-09-01 23:37:52</td>\n",
       "    </tr>\n",
       "  </tbody>\n",
       "</table>\n",
       "</div>"
      ],
      "text/plain": [
       "                           anonymous_id business_zoned context_app_version  \\\n",
       "0  9DDC5BCD-0477-4E83-A32A-51013DA0A4E7        Hamburg              3.1.13   \n",
       "1  5592E78E-CE87-4258-B8D7-DD834A687A1E        Hamburg              3.1.13   \n",
       "2  5592E78E-CE87-4258-B8D7-DD834A687A1E        Hamburg              3.1.13   \n",
       "3  5592E78E-CE87-4258-B8D7-DD834A687A1E        Hamburg              3.1.13   \n",
       "4  5592E78E-CE87-4258-B8D7-DD834A687A1E        Hamburg              3.1.13   \n",
       "\n",
       "                      context_device_id context_os_name  \\\n",
       "0  7A718FF6-584F-40E2-939D-224231295B1E             iOS   \n",
       "1  11D0CB16-DA38-4565-9C3B-066E7877856C             iOS   \n",
       "2  11D0CB16-DA38-4565-9C3B-066E7877856C             iOS   \n",
       "3  11D0CB16-DA38-4565-9C3B-066E7877856C             iOS   \n",
       "4  11D0CB16-DA38-4565-9C3B-066E7877856C             iOS   \n",
       "\n",
       "                        event_name          received_at           created_at  \n",
       "0  Out-Of-Business Zone View Shown  2020-09-01 23:59:44  2020-09-01 23:59:18  \n",
       "1               Application Opened  2020-09-01 23:59:41  2020-09-01 23:59:35  \n",
       "2           Ride Done - Successful  2020-09-01 23:59:41  2020-09-01 23:59:37  \n",
       "3               Application Opened  2020-09-01 23:59:36  2020-09-01 23:37:46  \n",
       "4         Ride Done - Unsuccessful  2020-09-01 23:59:36  2020-09-01 23:37:52  "
      ]
     },
     "execution_count": 2,
     "metadata": {},
     "output_type": "execute_result"
    }
   ],
   "source": [
    "data = pd.read_csv('mobile_events_2020.csv',sep=\";\") #CSV file is separated by semicolons\n",
    "data.head() #Reading the Top 5 Records"
   ]
  },
  {
   "cell_type": "markdown",
   "id": "9e386901",
   "metadata": {},
   "source": [
    "<b>What is the % of sessions with an intention to book a scooter?"
   ]
  },
  {
   "cell_type": "code",
   "execution_count": 3,
   "id": "c84dcd43",
   "metadata": {},
   "outputs": [
    {
     "data": {
      "text/plain": [
       "array(['Out-Of-Business Zone View Shown', 'Application Opened',\n",
       "       'Ride Done - Successful', 'Ride Done - Unsuccessful',\n",
       "       'Reduced Speed Snackbar Shown - Out Of Business Zone',\n",
       "       'Vehicle Selected - User', 'Vehicle Selected - Auto',\n",
       "       'Qr Scanner Tapped', 'Qr Scanner - Scanned Succeeded',\n",
       "       'Ride Started - Pre-Ride', 'Ride Started - Successful',\n",
       "       'Application Updated', 'Scooter Selected - User',\n",
       "       'Scooter Selected - Auto',\n",
       "       'Qr Scanner - Scan Failed - Vehicle Not Available',\n",
       "       'Paypal Added Successfully', 'List Of Payment Shown',\n",
       "       'Payment Method Chosen', 'Personal Details Added Succeeded',\n",
       "       'Payment Method Screen Opened', 'Phone Number Entered',\n",
       "       'Terms And Privacy Policy Accepted', 'Qr Scanner - Enter Number',\n",
       "       'Ride Started - Unsuccessful', 'Add Payment Method',\n",
       "       'Sidebar Opened', 'Redeem Code', 'Play Sound From Vehicle',\n",
       "       'Map Legend Clicked', 'Rating Screen Closed - Maybe Later',\n",
       "       'Payment Details Screen Opened', 'Play Sound From Scooter',\n",
       "       'Qr Scanner - Cancel', 'Payment Opened', 'Qr Scanner - Flashlight',\n",
       "       'Signup Completed', 'Credit Card Details Accepted', 'Safety',\n",
       "       'Help - Booking', 'No-Parking View Shown', 'Signup Started',\n",
       "       'Rating Screen Closed - Not Interested', 'Help - Sidebar',\n",
       "       'Credit Card Details Rejected', 'Layover - Tier Not Available Yet',\n",
       "       'Account Setup Opened', 'Paypal Dialogue Shown',\n",
       "       'Paypal Dialogue - Okay Pressed', 'Ride Done - Not Charged',\n",
       "       'Qr Scanner - Scan Failed - Scooter Not Available',\n",
       "       'Ride Cancelled', 'Paypal Cancelled',\n",
       "       'Qr Scanner - Scan Failed - Not Our Scooter',\n",
       "       'Paypal Dialogue - Cancel Pressed', 'Paypal Error Shown',\n",
       "       'Location Services Dialogue Opened', 'Location Services Enabled',\n",
       "       'Signup Complete', 'Customer Blocked - Phone Validation',\n",
       "       'Phone Number Blocked - Phone Validation',\n",
       "       'Qr Scanner - Scan Failed - Not Our Vehicle'], dtype=object)"
      ]
     },
     "execution_count": 3,
     "metadata": {},
     "output_type": "execute_result"
    }
   ],
   "source": [
    "data['event_name'].unique() #To find the Unique Value of event_name and determine the values of intention to book"
   ]
  },
  {
   "cell_type": "code",
   "execution_count": 4,
   "id": "26130747",
   "metadata": {},
   "outputs": [
    {
     "name": "stdout",
     "output_type": "stream",
     "text": [
      "Percentage of sessions with intention to book: 45.31%\n"
     ]
    }
   ],
   "source": [
    "intention_to_book_events = ['Application Opened','Vehicle Selected - User', 'Vehicle Selected - Auto', \n",
    "                            'Scooter Selected - User', 'Scooter Selected - Auto','Location Services Enabled']  \n",
    "                            #Determining the intention to book values\n",
    "\n",
    "intention_to_book_sessions = len(data[data['event_name'].isin(intention_to_book_events)]) / len(data)\n",
    "\n",
    "'''Calculation to find the Intention to book percentage'''\n",
    "\n",
    "percentage_intention_to_book = intention_to_book_sessions * 100\n",
    "\n",
    "print(f'Percentage of sessions with intention to book: {percentage_intention_to_book:.2f}%')"
   ]
  },
  {
   "cell_type": "markdown",
   "id": "28bc36b1",
   "metadata": {},
   "source": [
    "<b>What is the % of sessions with a successful booking?"
   ]
  },
  {
   "cell_type": "code",
   "execution_count": 5,
   "id": "15342be4",
   "metadata": {},
   "outputs": [
    {
     "name": "stdout",
     "output_type": "stream",
     "text": [
      "Percentage of sessions with a successful booking: 18.58%\n"
     ]
    }
   ],
   "source": [
    "#Determining the Session with Successful Booking\n",
    "\n",
    "successful_booking_events = ['Ride Done - Successful',\n",
    "                                'Qr Scanner - Scanned Succeeded',\n",
    "                                'Ride Started - Successful',\n",
    "                                'Payment Method Chosen',\n",
    "                                'Rating Screen Closed - Maybe Later',\n",
    "                                'Payment Details Screen Opened',\n",
    "                                'Rating Screen Closed - Not Interested',\n",
    "                                'Ride Done - Not Charged',\n",
    "                                \"Credit Card Details Accepted\"]\n",
    "\n",
    "successful_book_sessions = len(data[data['event_name'].isin(successful_booking_events)]) / len(data)\n",
    "\n",
    "#Calculation to sessions with a successful booking percentage\n",
    "\n",
    "percentage_successful_book_sessions = successful_book_sessions * 100\n",
    "\n",
    "print(f'Percentage of sessions with a successful booking: {percentage_successful_book_sessions:.2f}%')"
   ]
  },
  {
   "cell_type": "markdown",
   "id": "882f8472",
   "metadata": {},
   "source": [
    "<b>What determines, according to you, an intention to book?"
   ]
  },
  {
   "cell_type": "markdown",
   "id": "35647bc7",
   "metadata": {},
   "source": [
    "Based on the unique event names I determine \n",
    "\n",
    "1. Vehicle Selected - User\n",
    "\n",
    "2. Vehicle Selected - Auto\n",
    "\n",
    "3. Scooter Selected - User\n",
    "\n",
    "4. Scooter Selected - Auto\n",
    "\n",
    "as Intention to book events because all these event appears when a user try selecting a vehicle or scooter and \n",
    "\n",
    "these all are the the key step to for a booking process. Therefore I consideres the above events name as Intention to Book"
   ]
  },
  {
   "cell_type": "markdown",
   "id": "45124e6f",
   "metadata": {},
   "source": [
    "<b>What are factors, according to you, determining a successful booking?"
   ]
  },
  {
   "cell_type": "markdown",
   "id": "3c1a9b53",
   "metadata": {},
   "source": [
    "Based on the unique event names I determine\n",
    "\n",
    "1.Qr Scanner - Scanned Succeeded\n",
    "\n",
    "2.Ride Started - Successful\n",
    "\n",
    "3.Payment Method Chosen\n",
    "\n",
    "4.Rating Screen Closed - Maybe Later\n",
    "\n",
    "5.Payment Details Screen Opened\n",
    "\n",
    "5.Rating Screen Closed - Not Interested\n",
    "\n",
    "6.Ride Done - Not Charged\n",
    "\n",
    "7.Credit Card Details Accepted\n",
    "\n",
    "as successful booking events because all these event appears when a user already booked a vehicle or scooter or after the\n",
    "successful ride which takes place after successful booking. Therefore I consideres the above events name as Successful booking.\n",
    "\n",
    "However a successful booking may vary based on the business logic and the dataset's context. It's essential to understand the \n",
    "business rules and the dataset's documentation to determine the criteria for a successful booking accurately."
   ]
  },
  {
   "cell_type": "markdown",
   "id": "bc293135",
   "metadata": {},
   "source": [
    "<b> Do you have any hypotheses after exploring this data? If yes, please add them. "
   ]
  },
  {
   "cell_type": "markdown",
   "id": "1eccb4aa",
   "metadata": {},
   "source": [
    "<b>User Engagement:<b> \n",
    "    \n",
    "    The relatively high percentage (45.31%) of sessions with an intention to book (based on specific events like selecting a         vehicle or scooter) suggests that users are actively engaging with the booking process. This might indicate that the             platform or service is user-friendly and encourages users to consider making a booking.\n",
    "\n",
    "<b>Success Rates:<b> \n",
    "    \n",
    "    The percentage (18.58%) of sessions with a successful booking (based on events like completing a ride or making a successful     payment) is lower than the intention-to-book rate. This could say that while users express an initial intention to book, not     all of them follow and complete a booking successfully. \n",
    "                \n",
    "<b>Feedback Engagement:<b> \n",
    "    \n",
    "    The engagement with feedback-related events, such as \"Rating Screen Closed - Maybe Later,\" suggests that users are willing       to provide feedback but may choose to do so at a later time. This could indicate that users value the opportunity to provide     feedback and want to do so on their terms.\n",
    "            \n",
    "<b>Payment Method Adoption:<b> \n",
    "    \n",
    "    The events related to payment methods (\"Payment Method Chosen,\" \"Payment Method Screen Opened,\" \"Add Payment Method\")           suggest that users are actively managing their payment methods. A hypothesis could be that offering a variety of payment         options or promotions related to payment methods might improve conversion rates.\n",
    "\n",
    "<b>Location Services:<b> \n",
    "    \n",
    "    he events related to location services (\"Location Services Dialogue Opened\" and \"Location Services Enabled\") indicate that       users are interacting with location-related features. A hypothesis could be that personalized location-based recommendations     or features could enhance the user experience."
   ]
  },
  {
   "cell_type": "code",
   "execution_count": null,
   "id": "e299c52f",
   "metadata": {},
   "outputs": [],
   "source": []
  }
 ],
 "metadata": {
  "kernelspec": {
   "display_name": "Python 3 (ipykernel)",
   "language": "python",
   "name": "python3"
  },
  "language_info": {
   "codemirror_mode": {
    "name": "ipython",
    "version": 3
   },
   "file_extension": ".py",
   "mimetype": "text/x-python",
   "name": "python",
   "nbconvert_exporter": "python",
   "pygments_lexer": "ipython3",
   "version": "3.9.7"
  }
 },
 "nbformat": 4,
 "nbformat_minor": 5
}
