{
 "cells": [
  {
   "cell_type": "markdown",
   "id": "2c1d28d8",
   "metadata": {},
   "source": [
    "<b>1.What are Escape characters ? and how do you use them ?"
   ]
  },
  {
   "cell_type": "raw",
   "id": "85856abb",
   "metadata": {},
   "source": [
    "Ans: Escape characters represent characters in string values that would otherwise be difficult or impossible to type into code. we can use the backslash character to escape a single character or symbol\n",
    "example: \\t, \\n"
   ]
  },
  {
   "cell_type": "markdown",
   "id": "8ca80d40",
   "metadata": {},
   "source": [
    "<b>2.What do the escape characters n and t stand for ?"
   ]
  },
  {
   "cell_type": "raw",
   "id": "50b93cdc",
   "metadata": {},
   "source": [
    "Ans: \\n is a newline, \\t is a tab"
   ]
  },
  {
   "cell_type": "markdown",
   "id": "b6dce3e1",
   "metadata": {},
   "source": [
    "<b>3.What is the way to include backslash character in a string?"
   ]
  },
  {
   "cell_type": "raw",
   "id": "87494151",
   "metadata": {},
   "source": [
    "Ans: The backslash (\"\\\") character is a special escape character used to indicate other special characters such as new lines (\\n), tabs (\\t), or quotation marks (\\\"). If you want to include a backslash character itself, you need two backslashes(\\\\)."
   ]
  },
  {
   "cell_type": "markdown",
   "id": "e9ac5a23",
   "metadata": {},
   "source": [
    "<b>4.The string \"Howl's Moving Castle\" is a correct value. Why isn't the single quote character in the word Howl's not escaped a problem ?"
   ]
  },
  {
   "cell_type": "raw",
   "id": "ec23a282",
   "metadata": {},
   "source": [
    "Ans: The string \"Howl's Moving Castle\" escaped the problem because it is wrapped inside double quotes. if its wrapped inside single quotes then we have to use escape character \\' to show single quote in the final output\n",
    "'Howl\\'s Moving Castle' -> 'Howl's Moving Castle'"
   ]
  },
  {
   "cell_type": "markdown",
   "id": "16cca590",
   "metadata": {},
   "source": [
    "<b>5.How do you write a string of newlines if you don't want to use the n character?"
   ]
  },
  {
   "cell_type": "raw",
   "id": "5662e926",
   "metadata": {},
   "source": [
    "Ans: Multiline string allow you to use newlines in string without the \\n escape character"
   ]
  },
  {
   "cell_type": "code",
   "execution_count": 4,
   "id": "fd22dffd",
   "metadata": {
    "scrolled": true
   },
   "outputs": [
    {
     "name": "stdout",
     "output_type": "stream",
     "text": [
      "iNeuron full stack\n",
      "Data Science Bootcamp\n"
     ]
    }
   ],
   "source": [
    "# Example:\n",
    "a = '''iNeuron full stack\n",
    "Data Science Bootcamp'''\n",
    "print(a)"
   ]
  },
  {
   "cell_type": "markdown",
   "id": "f08c74b0",
   "metadata": {},
   "source": [
    "<b>6.What are the values of the given expressions ?"
   ]
  },
  {
   "cell_type": "code",
   "execution_count": 6,
   "id": "6b87b903",
   "metadata": {},
   "outputs": [
    {
     "name": "stdout",
     "output_type": "stream",
     "text": [
      "e\n",
      "Hello\n",
      "Hello\n",
      "lo, world!\n"
     ]
    }
   ],
   "source": [
    "#slicer=(starting indes : final index: index jump by)\n",
    "\n",
    "print('Hello, world!'[1])\n",
    "print('Hello, world!'[0:5])\n",
    "print('Hello, world!'[:5])\n",
    "print('Hello, world!'[3:])"
   ]
  },
  {
   "cell_type": "markdown",
   "id": "f479faa9",
   "metadata": {},
   "source": [
    "<b>7.What are the values of the following expressions ?\n",
    "    \n",
    "   Hello'.upper()\n",
    "\n",
    "   'Hello'.upper().isupper()\n",
    "\n",
    "   'Hello'.upper().lower()"
   ]
  },
  {
   "cell_type": "code",
   "execution_count": 8,
   "id": "67076d32",
   "metadata": {},
   "outputs": [
    {
     "name": "stdout",
     "output_type": "stream",
     "text": [
      "HELLO\n",
      "True\n",
      "hello\n"
     ]
    }
   ],
   "source": [
    "print('Hello'.upper())\n",
    "print('Hello'.upper().isupper())\n",
    "print('Hello'.upper().lower())"
   ]
  },
  {
   "cell_type": "markdown",
   "id": "7403f58e",
   "metadata": {},
   "source": [
    "<b>8.What are the values of the following expressions ?\n",
    "\n",
    "'Remember, remember, the fifith of July.'.split()\n",
    "\n",
    "-'.join('There can only one'.split())"
   ]
  },
  {
   "cell_type": "code",
   "execution_count": 13,
   "id": "911adbbd",
   "metadata": {
    "scrolled": true
   },
   "outputs": [
    {
     "name": "stdout",
     "output_type": "stream",
     "text": [
      "['Remember,', 'remember,', 'the', 'fifith', 'of', 'July.']\n",
      "\n",
      "\n",
      "There-can-only-one\n"
     ]
    }
   ],
   "source": [
    "print('Remember, remember, the fifith of July.'.split())\n",
    "print('\\n')\n",
    "print('-'.join('There can only one'.split()))"
   ]
  },
  {
   "cell_type": "markdown",
   "id": "ba0bb92b",
   "metadata": {},
   "source": [
    "<b>9.What are the methods for right-justifying, left-justifying and centering a string ?"
   ]
  },
  {
   "cell_type": "raw",
   "id": "ef7c70c4",
   "metadata": {},
   "source": [
    "Ans: The rjust(),ljust(),center() string methods, respectively"
   ]
  },
  {
   "cell_type": "markdown",
   "id": "86dded09",
   "metadata": {},
   "source": [
    "<b>10.What is the best way to remove whitespace characters from the start or end ?"
   ]
  },
  {
   "cell_type": "raw",
   "id": "cbc7a1e5",
   "metadata": {},
   "source": [
    "Ans: The lstrip() and rstrip() methods remove whitesapce characters from the left and right ends of a string respectively"
   ]
  },
  {
   "cell_type": "code",
   "execution_count": null,
   "id": "4efb2d1f",
   "metadata": {},
   "outputs": [],
   "source": []
  }
 ],
 "metadata": {
  "kernelspec": {
   "display_name": "Python 3 (ipykernel)",
   "language": "python",
   "name": "python3"
  },
  "language_info": {
   "codemirror_mode": {
    "name": "ipython",
    "version": 3
   },
   "file_extension": ".py",
   "mimetype": "text/x-python",
   "name": "python",
   "nbconvert_exporter": "python",
   "pygments_lexer": "ipython3",
   "version": "3.9.7"
  }
 },
 "nbformat": 4,
 "nbformat_minor": 5
}
