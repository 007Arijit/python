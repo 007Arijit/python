{
 "cells": [
  {
   "cell_type": "markdown",
   "id": "76d0958c",
   "metadata": {},
   "source": [
    "1. What is the relationship between def statements and lambda expressions ?"
   ]
  },
  {
   "cell_type": "raw",
   "id": "1db8c6c6",
   "metadata": {},
   "source": [
    "Ans: def statement is used to create a normal function. where as lamba expressions are used to create Anonymous functions. which can be assigned to a variable and can be called using the variable later in function.\n",
    "\n",
    "Lambta is also a function. Lambda's body is a single expression and not a block of statements like def statement. The lambda expression's body is similar to what we'd put in a def body's return statement. We simply type the result as an expression instead of explicitly returning it. Because it is limited to an expression, a lambda is less general than a def statement."
   ]
  },
  {
   "cell_type": "markdown",
   "id": "b39db408",
   "metadata": {},
   "source": [
    "2. What is the benefit of lambda?"
   ]
  },
  {
   "cell_type": "raw",
   "id": "09a577a3",
   "metadata": {},
   "source": [
    "Ans: The following are some of the benefits of lambda expressions:\n",
    "\n",
    "Can be used to create Nameless/Anonymous functions inside some complex functions if we are planning to use it only once.\n",
    "Moderate to small functions can be created in a single line\n",
    "Fuctions created using lambda expressions can be assigned to a variable and can be used by simply calling the variable"
   ]
  },
  {
   "cell_type": "markdown",
   "id": "6082cfd7",
   "metadata": {},
   "source": [
    "3. Compare and contrast map, filter, and reduce."
   ]
  },
  {
   "cell_type": "raw",
   "id": "45a5f829",
   "metadata": {},
   "source": [
    "Ans: The differences between map, filter and reduce are:\n",
    "\n",
    "1.map(): The map() function is a type of higher-order. This function takes another function as a parameter\n",
    "  along with a sequence of iterables and returns an output after applying the function to each iterable present in the sequence.\n",
    "\n",
    "2. filter(): The filter() function is used to create an output list consisting of values for which the function returns true. \n",
    "\n",
    "3. reduce(): The reduce() function, as the name describes, applies a given function to the iterables and returns a single value"
   ]
  },
  {
   "cell_type": "code",
   "execution_count": 6,
   "id": "2dc421a5",
   "metadata": {},
   "outputs": [
    {
     "name": "stdout",
     "output_type": "stream",
     "text": [
      "Map -> [2, 4, 6, 8]\n",
      "Filter -> [1, 2, 3, 4]\n",
      "Reduce -> 10\n"
     ]
    }
   ],
   "source": [
    "import functools\n",
    "# Map function\n",
    "print('Map ->',list(map(lambda x:x+x, [1,2,3,4])))\n",
    "\n",
    "      \n",
    "# Fitler function\n",
    "print('Filter ->',list(filter(lambda x:x+x, [1,2,3,4])))\n",
    "      \n",
    "# Reduce function\n",
    "print('Reduce ->',functools.reduce(lambda x,y:x+y, [1,2,3,4]))"
   ]
  },
  {
   "cell_type": "markdown",
   "id": "91e1bd95",
   "metadata": {},
   "source": [
    "4. What are function annotations, and how are they used?"
   ]
  },
  {
   "cell_type": "raw",
   "id": "6f6d1df2",
   "metadata": {},
   "source": [
    "Annotations of simple parameters def func(x: expression, y: expression = 20):\n",
    "Whereas the annotations for excess parameters are as − def func (**args: expression, **kwargs: expression):"
   ]
  },
  {
   "cell_type": "markdown",
   "id": "8455e1e6",
   "metadata": {},
   "source": [
    "5. What are recursive functions, and how are they used?"
   ]
  },
  {
   "cell_type": "raw",
   "id": "b8c67804",
   "metadata": {},
   "source": [
    "Ans: A recursive function is a function that calls itself during its execution. The process may repeat several times, outputting the result and the end of each iteration."
   ]
  },
  {
   "cell_type": "markdown",
   "id": "cc361d5d",
   "metadata": {},
   "source": [
    "7. Name three or more ways that functions can communicate results to a caller."
   ]
  },
  {
   "cell_type": "code",
   "execution_count": null,
   "id": "dc68c98f",
   "metadata": {},
   "outputs": [],
   "source": [
    "1. print\n",
    "2. return\n",
    "3.yield"
   ]
  }
 ],
 "metadata": {
  "kernelspec": {
   "display_name": "Python 3 (ipykernel)",
   "language": "python",
   "name": "python3"
  },
  "language_info": {
   "codemirror_mode": {
    "name": "ipython",
    "version": 3
   },
   "file_extension": ".py",
   "mimetype": "text/x-python",
   "name": "python",
   "nbconvert_exporter": "python",
   "pygments_lexer": "ipython3",
   "version": "3.9.7"
  }
 },
 "nbformat": 4,
 "nbformat_minor": 5
}
