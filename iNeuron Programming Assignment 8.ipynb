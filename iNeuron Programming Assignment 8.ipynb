{
 "cells": [
  {
   "cell_type": "markdown",
   "id": "a18e480b",
   "metadata": {},
   "source": [
    "1. Write a Python Program to Add Two Matrices?"
   ]
  },
  {
   "cell_type": "code",
   "execution_count": 6,
   "id": "87de16c2",
   "metadata": {},
   "outputs": [
    {
     "name": "stdout",
     "output_type": "stream",
     "text": [
      "[[17, 15, 4], [10, 12, 9], [11, 13, 18]]\n"
     ]
    }
   ],
   "source": [
    "A = [[12,7,3],[4,5,6],[7,8,9]]\n",
    "B = [[5,8,1],[6,7,3],[4,5,9]]\n",
    "result = [[0,0,0],[0,0,0],[0,0,0]]\n",
    "\n",
    "for i in range(len(A)):\n",
    "    for j in range(len(A)):\n",
    "        result[i][j] = A[i][j] + B[i][j]\n",
    "print(result)\n",
    " \n"
   ]
  },
  {
   "cell_type": "code",
   "execution_count": 10,
   "id": "909f9f47",
   "metadata": {},
   "outputs": [
    {
     "name": "stdout",
     "output_type": "stream",
     "text": [
      "[[114, 160, 60], [74, 97, 73], [119, 157, 112]]\n"
     ]
    }
   ],
   "source": [
    "A = [[12,7,3],[4,5,6],[7,8,9]]\n",
    "B = [[5,8,1],[6,7,3],[4,5,9]]\n",
    "result = [[0,0,0],[0,0,0],[0,0,0]]\n",
    "\n",
    "for i in range(len(A)):\n",
    "    for j in range(len(B[0])):\n",
    "        for k in range(len(B)):\n",
    "            result[i][j] =result[i][j]+ (A[i][k] * B[k][j])\n",
    "print(result)"
   ]
  },
  {
   "cell_type": "markdown",
   "id": "583c47c4",
   "metadata": {},
   "source": [
    "3. Write a Python Program to Transpose a Matrix?"
   ]
  },
  {
   "cell_type": "code",
   "execution_count": 14,
   "id": "f8522f33",
   "metadata": {},
   "outputs": [
    {
     "name": "stdout",
     "output_type": "stream",
     "text": [
      "[[1, 4, 7], [3, 5, 9]]\n"
     ]
    }
   ],
   "source": [
    "m = [[1, 3], [4,5], [7, 9]]\n",
    "\n",
    "em= [[0, 0, 0], [0, 0, 0]]\n",
    "\n",
    "for i in range (len (m)):\n",
    "    for j in range (len (m[0])):\n",
    "        em[j][i]= m[i][j]\n",
    "print(em)"
   ]
  },
  {
   "cell_type": "markdown",
   "id": "3db19c1d",
   "metadata": {},
   "source": [
    "4. Write a Python Program to sort Words in an Alphabatical Order ?"
   ]
  },
  {
   "cell_type": "code",
   "execution_count": 21,
   "id": "fa14b1df",
   "metadata": {},
   "outputs": [
    {
     "name": "stdout",
     "output_type": "stream",
     "text": [
      "Enter a string : I am Coding\n",
      "The words sorted in alphabetical order are as follows:  ['am', 'coding', 'i']\n"
     ]
    }
   ],
   "source": [
    "string = input ('Enter a string : ')\n",
    "\n",
    "def sortstr(string):\n",
    "\n",
    "    words = [word.lower () for word in string.split ()]\n",
    "    words.sort ()\n",
    "    print ('The words sorted in alphabetical order are as follows: ', words)\n",
    "sortstr(string)\n"
   ]
  },
  {
   "cell_type": "markdown",
   "id": "8f9ab990",
   "metadata": {},
   "source": [
    "5. Write a Python Program to remove Punctuations From a String ?"
   ]
  },
  {
   "cell_type": "code",
   "execution_count": 42,
   "id": "85042513",
   "metadata": {},
   "outputs": [
    {
     "name": "stdout",
     "output_type": "stream",
     "text": [
      "Enter the string:\n",
      "\n",
      "You have three options for punctuating the end of a sentence: a period, an exclamation mark, or a question mark. Each one sets a different tone for the whole sentence: that of a statement, an outcry, or a question, respectively.\n",
      "\n",
      "The sentense withour punctuation is:\n",
      "\n",
      " You have three options for punctuating the end of a sentence a period an exclamation mark or a question mark Each one sets a different tone for the whole sentence that of a statement an outcry or a question respectively\n"
     ]
    }
   ],
   "source": [
    "punc = '''!()-[]{};:'\"\\,<>./?@#$%^&*_~'''\n",
    "\n",
    "def removeounction(string):\n",
    "    string = input ('Enter the string:\\n\\n')\n",
    "    str_without_punc = ''\n",
    "    for char in string:\n",
    "        if char not in punc:\n",
    "                    str_without_punc = str_without_punc + char\n",
    "    print ('\\nThe sentense withour punctuation is:\\n\\n',str_without_punc)\n",
    "removeounction(string)"
   ]
  }
 ],
 "metadata": {
  "kernelspec": {
   "display_name": "Python 3 (ipykernel)",
   "language": "python",
   "name": "python3"
  },
  "language_info": {
   "codemirror_mode": {
    "name": "ipython",
    "version": 3
   },
   "file_extension": ".py",
   "mimetype": "text/x-python",
   "name": "python",
   "nbconvert_exporter": "python",
   "pygments_lexer": "ipython3",
   "version": "3.9.7"
  }
 },
 "nbformat": 4,
 "nbformat_minor": 5
}
