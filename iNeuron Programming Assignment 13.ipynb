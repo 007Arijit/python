{
 "cells": [
  {
   "cell_type": "markdown",
   "id": "b18c7f98",
   "metadata": {},
   "source": [
    "<b>1.Write a program that calculates and prints the value according to the given formula:\n",
    "\n",
    "Q = Square root of [(2 * C * D)/H]\n",
    "\n",
    "Following are the fixed values of C and H:\n",
    "\n",
    "C is 50. \n",
    "H is 30.\n",
    "\n",
    "D is the variable whose values should be input to your program in a comma-separated sequence.\n",
    "Example: Let us assume the following comma separated input sequence is given to the program:100,150,180\n",
    "The output of the program should be: 18,22,24"
   ]
  },
  {
   "cell_type": "code",
   "execution_count": 24,
   "id": "ddfaf9ba",
   "metadata": {},
   "outputs": [
    {
     "name": "stdout",
     "output_type": "stream",
     "text": [
      "Enter the numbers: 100,150,180\n",
      "Output is 18,22,24\n"
     ]
    }
   ],
   "source": [
    "from math import sqrt\n",
    "numbers = eval(input(\"Enter the numbers: \"))\n",
    "def calculate():\n",
    "    C=50 \n",
    "    H=30\n",
    "    l=[]\n",
    "    for i in numbers:\n",
    "        Q = str(int(round(sqrt((2 * C * i)/H),0)))\n",
    "        l.append(Q)\n",
    "    print('Output is',','.join(l))\n",
    "calculate()"
   ]
  },
  {
   "cell_type": "markdown",
   "id": "84f630f0",
   "metadata": {},
   "source": [
    "2.Write a program which takes 2 digits, X,Y as input and generates a 2-dimensional array. The element value in the i-th row and\n",
    "\n",
    "j-th column of the array should be i*j.\n",
    "\n",
    "Note: i=0,1.., X-1; j=0,1,¡Y-1.\n",
    "Example: Suppose the following inputs are given to the program: 3,5\n",
    "Then, the output of the program should be:[[0, 0, 0, 0, 0], [0, 1, 2, 3, 4], [0, 2, 4, 6, 8]]"
   ]
  },
  {
   "cell_type": "code",
   "execution_count": 43,
   "id": "20122866",
   "metadata": {},
   "outputs": [
    {
     "name": "stdout",
     "output_type": "stream",
     "text": [
      "Enter values for row and column number: 4,5\n",
      "[[0, 0, 0, 0, 0], [0, 1, 2, 3, 4], [0, 2, 4, 6, 8], [0, 3, 6, 9, 12]]\n"
     ]
    }
   ],
   "source": [
    "X, Y = input(\"Enter values for row and column number: \").split(\",\")\n",
    "\n",
    "X = int(X)\n",
    "Y = int(Y)\n",
    "array = [[X*Y for Y in range(Y)] for X in range(X)]\n",
    "print(array)"
   ]
  },
  {
   "cell_type": "markdown",
   "id": "122c23c0",
   "metadata": {},
   "source": [
    "3.Write a program that accepts a comma separated sequence of words as input and prints the words in a comma-separated sequence after sorting them alphabetically ?\n",
    "\n",
    "Suppose the following input is supplied to the program: without,hello,bag,world\n",
    "Then, the output should be: bag,hello,without,world"
   ]
  },
  {
   "cell_type": "code",
   "execution_count": 49,
   "id": "1e903723",
   "metadata": {},
   "outputs": [
    {
     "name": "stdout",
     "output_type": "stream",
     "text": [
      "Enter the Input String: without,hello,bag,world\n",
      "\n",
      "Output in sorted order is: bag,hello,without,world\n"
     ]
    }
   ],
   "source": [
    "Input = input('Enter the Input String: ')\n",
    "Output = ','.join(sorted(Input.split(',')))\n",
    "print(f'\\nOutput in sorted order is: {Output}')"
   ]
  },
  {
   "cell_type": "markdown",
   "id": "3973e3e8",
   "metadata": {},
   "source": [
    "<b>4.Write a program that accepts a sequence of whitespace separated words as input and prints the words after removing all duplicate words and sorting them alphanumerically.\n",
    "\n",
    "Suppose the following input is supplied to the program: hello world and practice makes perfect and hello world again\n",
    "Then, \n",
    "the output should be: again and hello makes perfect practice world"
   ]
  },
  {
   "cell_type": "code",
   "execution_count": 52,
   "id": "f055e3ec",
   "metadata": {},
   "outputs": [
    {
     "name": "stdout",
     "output_type": "stream",
     "text": [
      "Enter the Input String: practice makes perfect and hello world again Then\n",
      "\n",
      "Output in sorted order is: Then again and hello makes perfect practice world\n"
     ]
    }
   ],
   "source": [
    "Input = input('Enter the Input String: ')\n",
    "Optput_ws=' '.join(sorted(Input.split(' ')))\n",
    "\n",
    "print(f'\\nOutput in sorted order is: {Optput_ws}')"
   ]
  },
  {
   "cell_type": "markdown",
   "id": "6365731a",
   "metadata": {},
   "source": [
    "<b>5.Write a program that accepts a sentence and calculate the number of letters and digits.\n",
    "\n",
    "Suppose the following input is supplied to the program: hello world! 123\n",
    "\n",
    "Then, the output should be:\n",
    "LETTERS 10\n",
    "DIGITS 3"
   ]
  },
  {
   "cell_type": "code",
   "execution_count": 155,
   "id": "8fe16fc8",
   "metadata": {},
   "outputs": [
    {
     "name": "stdout",
     "output_type": "stream",
     "text": [
      "Count of digits are:  3 \n",
      "Count of Letters are:  10\n"
     ]
    }
   ],
   "source": [
    "Input='hello world! 123'\n",
    "\n",
    "num='1234567890'\n",
    "spchar=' \" \" ! . '\n",
    "num1=''\n",
    "stri=''\n",
    "\n",
    "for i in Input:\n",
    "    if i in num:\n",
    "        num1+=i\n",
    "    elif i not in num and i not in spchar:\n",
    "        stri+=i\n",
    "print('Count of digits are: ', len(num1),'\\nCount of Letters are: ', len(stri))"
   ]
  },
  {
   "cell_type": "markdown",
   "id": "55cb772c",
   "metadata": {},
   "source": [
    "<b>6.A website requires the users to input username and password to register. Write a program to check the validity of password input by users.\n",
    "\n",
    "Following are the criteria for checking the password:\n",
    "\n",
    "At least 1 letter between [a-z]\n",
    "\n",
    "At least 1 number between [0-9]\n",
    "\n",
    "At least 1 letter between [A-Z]\n",
    "\n",
    "At least 1 character from [$#@]\n",
    "\n",
    "Minimum length of transaction password: 6\n",
    "\n",
    "Maximum length of transaction password: 12\n",
    "\n",
    "Your program should accept a sequence of comma separated passwords and will check them according to the above criteria. Passwords that match the criteria are to be printed, each separated by a comma.\n",
    "\n",
    "Example:\n",
    "If the following passwords are given as input to the program: ABd1234@1,a F1#,2w3E*,2We3345\n",
    "Then, the output of the program should be:ABd1234@1"
   ]
  },
  {
   "cell_type": "code",
   "execution_count": 160,
   "id": "0664bd18",
   "metadata": {},
   "outputs": [
    {
     "name": "stdout",
     "output_type": "stream",
     "text": [
      "Enter the Input String: ABd1234@1,a F1#,2w3E*,2We3345\n",
      "ABd1234@1\n"
     ]
    }
   ],
   "source": [
    "in_string = input(\"Enter the Input String: \")\n",
    "\n",
    "special_list = \"$#@\"\n",
    "for ele in in_string.split(\",\"):\n",
    "    if len(ele) <= 12 and len(ele) >=6 :\n",
    "        if any(i.isupper() for i in ele):\n",
    "            if any(i.islower() for i in ele):\n",
    "                if any(i for i in ele if i in special_list):\n",
    "                    print(ele)\n",
    "                               "
   ]
  },
  {
   "cell_type": "code",
   "execution_count": null,
   "id": "4751d3bc",
   "metadata": {},
   "outputs": [],
   "source": []
  }
 ],
 "metadata": {
  "kernelspec": {
   "display_name": "Python 3 (ipykernel)",
   "language": "python",
   "name": "python3"
  },
  "language_info": {
   "codemirror_mode": {
    "name": "ipython",
    "version": 3
   },
   "file_extension": ".py",
   "mimetype": "text/x-python",
   "name": "python",
   "nbconvert_exporter": "python",
   "pygments_lexer": "ipython3",
   "version": "3.9.7"
  }
 },
 "nbformat": 4,
 "nbformat_minor": 5
}
