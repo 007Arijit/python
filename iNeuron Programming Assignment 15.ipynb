{
 "cells": [
  {
   "cell_type": "markdown",
   "id": "358446a9",
   "metadata": {},
   "source": [
    "<b>1. Please write a program using generator to print the numbers which can be divisible by 5 and 7 between 0 and n in comma separated form while n is input by console ? <b>"
   ]
  },
  {
   "cell_type": "markdown",
   "id": "8abda090",
   "metadata": {},
   "source": [
    "Example:\n",
    "\n",
    "If the following n is given as input to the program: 100\n",
    "\n",
    "Then, the output of the program should be: 0,35,70"
   ]
  },
  {
   "cell_type": "code",
   "execution_count": 15,
   "id": "1f37c015",
   "metadata": {},
   "outputs": [
    {
     "name": "stdout",
     "output_type": "stream",
     "text": [
      "Enter the range of Number: 1000\n",
      "0, 35, 70, 105, 140, 175, 210, 245, 280, 315, 350, 385, 420, 455, 490, 525, 560, 595, 630, 665, 700, 735, 770, 805, 840, 875, 910, 945, 980, "
     ]
    }
   ],
   "source": [
    "def divisible_by_five_seven():\n",
    "    number=int(input('Enter the range of Number: '))\n",
    "    for i in range(0,number+1):\n",
    "        if i%5==0 and i%7==0:\n",
    "            yield i\n",
    "            \n",
    "for i in divisible_by_five_seven():\n",
    "    print(i,end=', ')"
   ]
  },
  {
   "cell_type": "markdown",
   "id": "2c5d61ed",
   "metadata": {},
   "source": [
    "<b>2.Please write a program using generator to print the even numbers between 0 and n in comma separated form while n is input by console ? <b>\n",
    "\n",
    "Example:\n",
    "    \n",
    "If the following n is given as input to the program: 10\n",
    "    \n",
    "Then, the output of the program should be: 0,2,4,6,8,10"
   ]
  },
  {
   "cell_type": "code",
   "execution_count": 17,
   "id": "f471b371",
   "metadata": {},
   "outputs": [
    {
     "name": "stdout",
     "output_type": "stream",
     "text": [
      "Enter the range of Number: 10\n",
      "0, 2, 4, 6, 8, 10, "
     ]
    }
   ],
   "source": [
    "def even_numbers():\n",
    "    number=int(input('Enter the range of Number: '))\n",
    "    for i in range(0,number+1):\n",
    "        if i%2==0 :\n",
    "            yield i\n",
    "            \n",
    "for i in even_numbers():\n",
    "    print(i,end=', ')"
   ]
  },
  {
   "cell_type": "markdown",
   "id": "82bd6888",
   "metadata": {},
   "source": [
    "<b>3.The Fibonacci Sequence is computed based on the following formula below, Please write a program using list comprehension to print the Fibonacci Sequence in comma separated form with a given n input by console ?<b>\n",
    "    \n",
    "f(n)=0 if n=0 f(n)=1 if n=1 f(n)=f(n-1)+f(n-2) if n>1"
   ]
  },
  {
   "cell_type": "code",
   "execution_count": 11,
   "id": "732121b3",
   "metadata": {},
   "outputs": [
    {
     "name": "stdout",
     "output_type": "stream",
     "text": [
      "[0, 1, 1, 2, 3, 5, 8, 13, 21, 34, 55, 89, 144, 233, 377, 610, 987, 1597, 2584, 4181, 6765, 10946, 17711, 28657, 46368, 75025, 121393, 196418, 317811, 514229]\n"
     ]
    }
   ],
   "source": [
    "def fibonocci(n):\n",
    "    if n==0:\n",
    "        return 0\n",
    "    if n==1:\n",
    "        return 1\n",
    "    else:\n",
    "        return fibonocci(n-1) + fibonocci(n-2)\n",
    "print([fibonocci(i) for i in range(30)])"
   ]
  },
  {
   "cell_type": "markdown",
   "id": "6cb19cb2",
   "metadata": {},
   "source": [
    "<b>4.Assuming that we have some email addresses in the \"username@companyname.com\" format, please write program to print the user name of a given email address. Both user names and company names are composed of letters only ?\n",
    "\n",
    "Example:\n",
    "    \n",
    "If the following email address is given as input to the program: john@google.com\\\n",
    "Then, the output of the program should be: john"
   ]
  },
  {
   "cell_type": "code",
   "execution_count": 17,
   "id": "0d6808a8",
   "metadata": {},
   "outputs": [
    {
     "name": "stdout",
     "output_type": "stream",
     "text": [
      "Enter the Email id: arijit@gmail.com\n",
      "\n",
      "The person name is: arijit \n",
      "and company name is: gmail\n"
     ]
    }
   ],
   "source": [
    "def split_name_company_from_email():\n",
    "    email=input('Enter the Email id: ')\n",
    "    name=email.split('@')[0]\n",
    "    domain_name_with_cc=email.split('@')[-1]\n",
    "    company_name=domain_name_with_cc.split('.')[-2]\n",
    "    print(f'\\nThe person name is: {name} \\nand company name is: {company_name}')\n",
    "split_name_company_from_email()"
   ]
  },
  {
   "cell_type": "markdown",
   "id": "fed7677a",
   "metadata": {},
   "source": []
  },
  {
   "cell_type": "markdown",
   "id": "2fd1da93",
   "metadata": {},
   "source": [
    "<b>5.Define a class named Shape and its subclass Square. The Square class has an init function which takes a length as argument. Both classes have a area function which can print the area of the shape where Shape's area is 0 by default.<b>"
   ]
  },
  {
   "cell_type": "code",
   "execution_count": 27,
   "id": "a604b5c5",
   "metadata": {},
   "outputs": [
    {
     "name": "stdout",
     "output_type": "stream",
     "text": [
      "40000\n"
     ]
    }
   ],
   "source": [
    "class Shape():\n",
    "    def area(self):\n",
    "        return 0\n",
    "class Square(Shape):\n",
    "    def __init__(self, length):\n",
    "        self.length=length\n",
    "    def area(self):\n",
    "        yield self.length*self.length\n",
    "leng=Square(200)\n",
    "for i in leng.area():\n",
    "    print(i)"
   ]
  },
  {
   "cell_type": "code",
   "execution_count": null,
   "id": "4a83921b",
   "metadata": {},
   "outputs": [],
   "source": []
  }
 ],
 "metadata": {
  "kernelspec": {
   "display_name": "Python 3 (ipykernel)",
   "language": "python",
   "name": "python3"
  },
  "language_info": {
   "codemirror_mode": {
    "name": "ipython",
    "version": 3
   },
   "file_extension": ".py",
   "mimetype": "text/x-python",
   "name": "python",
   "nbconvert_exporter": "python",
   "pygments_lexer": "ipython3",
   "version": "3.9.7"
  }
 },
 "nbformat": 4,
 "nbformat_minor": 5
}
